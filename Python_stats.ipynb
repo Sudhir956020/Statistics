{
 "cells": [
  {
   "cell_type": "code",
   "execution_count": 1,
   "id": "509e2598",
   "metadata": {},
   "outputs": [],
   "source": [
    "data=[23,24,32,45,12,43,67,45,32,56,32]\n"
   ]
  },
  {
   "cell_type": "code",
   "execution_count": 2,
   "id": "fc4d33a8",
   "metadata": {},
   "outputs": [
    {
     "data": {
      "text/plain": [
       "[23, 24, 32, 45, 12, 43, 67, 45, 32, 56, 32]"
      ]
     },
     "execution_count": 2,
     "metadata": {},
     "output_type": "execute_result"
    }
   ],
   "source": [
    "data"
   ]
  },
  {
   "cell_type": "code",
   "execution_count": 3,
   "id": "6b443081",
   "metadata": {},
   "outputs": [],
   "source": [
    "import pandas as pd\n",
    "data2=pd.read_csv(\"https://raw.githubusercontent.com/sunnysavita10/Statistics_With_Python/main/Iris.csv\")"
   ]
  },
  {
   "cell_type": "code",
   "execution_count": 4,
   "id": "c3f4ad10",
   "metadata": {},
   "outputs": [
    {
     "data": {
      "text/html": [
       "<div>\n",
       "<style scoped>\n",
       "    .dataframe tbody tr th:only-of-type {\n",
       "        vertical-align: middle;\n",
       "    }\n",
       "\n",
       "    .dataframe tbody tr th {\n",
       "        vertical-align: top;\n",
       "    }\n",
       "\n",
       "    .dataframe thead th {\n",
       "        text-align: right;\n",
       "    }\n",
       "</style>\n",
       "<table border=\"1\" class=\"dataframe\">\n",
       "  <thead>\n",
       "    <tr style=\"text-align: right;\">\n",
       "      <th></th>\n",
       "      <th>Id</th>\n",
       "      <th>SepalLengthCm</th>\n",
       "      <th>SepalWidthCm</th>\n",
       "      <th>PetalLengthCm</th>\n",
       "      <th>PetalWidthCm</th>\n",
       "      <th>Species</th>\n",
       "    </tr>\n",
       "  </thead>\n",
       "  <tbody>\n",
       "    <tr>\n",
       "      <th>0</th>\n",
       "      <td>1</td>\n",
       "      <td>5.1</td>\n",
       "      <td>3.5</td>\n",
       "      <td>1.4</td>\n",
       "      <td>0.2</td>\n",
       "      <td>Iris-setosa</td>\n",
       "    </tr>\n",
       "    <tr>\n",
       "      <th>1</th>\n",
       "      <td>2</td>\n",
       "      <td>4.9</td>\n",
       "      <td>3.0</td>\n",
       "      <td>1.4</td>\n",
       "      <td>0.2</td>\n",
       "      <td>Iris-setosa</td>\n",
       "    </tr>\n",
       "    <tr>\n",
       "      <th>2</th>\n",
       "      <td>3</td>\n",
       "      <td>4.7</td>\n",
       "      <td>3.2</td>\n",
       "      <td>1.3</td>\n",
       "      <td>0.2</td>\n",
       "      <td>Iris-setosa</td>\n",
       "    </tr>\n",
       "    <tr>\n",
       "      <th>3</th>\n",
       "      <td>4</td>\n",
       "      <td>4.6</td>\n",
       "      <td>3.1</td>\n",
       "      <td>1.5</td>\n",
       "      <td>0.2</td>\n",
       "      <td>Iris-setosa</td>\n",
       "    </tr>\n",
       "    <tr>\n",
       "      <th>4</th>\n",
       "      <td>5</td>\n",
       "      <td>5.0</td>\n",
       "      <td>3.6</td>\n",
       "      <td>1.4</td>\n",
       "      <td>0.2</td>\n",
       "      <td>Iris-setosa</td>\n",
       "    </tr>\n",
       "    <tr>\n",
       "      <th>...</th>\n",
       "      <td>...</td>\n",
       "      <td>...</td>\n",
       "      <td>...</td>\n",
       "      <td>...</td>\n",
       "      <td>...</td>\n",
       "      <td>...</td>\n",
       "    </tr>\n",
       "    <tr>\n",
       "      <th>145</th>\n",
       "      <td>146</td>\n",
       "      <td>6.7</td>\n",
       "      <td>3.0</td>\n",
       "      <td>5.2</td>\n",
       "      <td>2.3</td>\n",
       "      <td>Iris-virginica</td>\n",
       "    </tr>\n",
       "    <tr>\n",
       "      <th>146</th>\n",
       "      <td>147</td>\n",
       "      <td>6.3</td>\n",
       "      <td>2.5</td>\n",
       "      <td>5.0</td>\n",
       "      <td>1.9</td>\n",
       "      <td>Iris-virginica</td>\n",
       "    </tr>\n",
       "    <tr>\n",
       "      <th>147</th>\n",
       "      <td>148</td>\n",
       "      <td>6.5</td>\n",
       "      <td>3.0</td>\n",
       "      <td>5.2</td>\n",
       "      <td>2.0</td>\n",
       "      <td>Iris-virginica</td>\n",
       "    </tr>\n",
       "    <tr>\n",
       "      <th>148</th>\n",
       "      <td>149</td>\n",
       "      <td>6.2</td>\n",
       "      <td>3.4</td>\n",
       "      <td>5.4</td>\n",
       "      <td>2.3</td>\n",
       "      <td>Iris-virginica</td>\n",
       "    </tr>\n",
       "    <tr>\n",
       "      <th>149</th>\n",
       "      <td>150</td>\n",
       "      <td>5.9</td>\n",
       "      <td>3.0</td>\n",
       "      <td>5.1</td>\n",
       "      <td>1.8</td>\n",
       "      <td>Iris-virginica</td>\n",
       "    </tr>\n",
       "  </tbody>\n",
       "</table>\n",
       "<p>150 rows × 6 columns</p>\n",
       "</div>"
      ],
      "text/plain": [
       "      Id  SepalLengthCm  SepalWidthCm  PetalLengthCm  PetalWidthCm  \\\n",
       "0      1            5.1           3.5            1.4           0.2   \n",
       "1      2            4.9           3.0            1.4           0.2   \n",
       "2      3            4.7           3.2            1.3           0.2   \n",
       "3      4            4.6           3.1            1.5           0.2   \n",
       "4      5            5.0           3.6            1.4           0.2   \n",
       "..   ...            ...           ...            ...           ...   \n",
       "145  146            6.7           3.0            5.2           2.3   \n",
       "146  147            6.3           2.5            5.0           1.9   \n",
       "147  148            6.5           3.0            5.2           2.0   \n",
       "148  149            6.2           3.4            5.4           2.3   \n",
       "149  150            5.9           3.0            5.1           1.8   \n",
       "\n",
       "            Species  \n",
       "0       Iris-setosa  \n",
       "1       Iris-setosa  \n",
       "2       Iris-setosa  \n",
       "3       Iris-setosa  \n",
       "4       Iris-setosa  \n",
       "..              ...  \n",
       "145  Iris-virginica  \n",
       "146  Iris-virginica  \n",
       "147  Iris-virginica  \n",
       "148  Iris-virginica  \n",
       "149  Iris-virginica  \n",
       "\n",
       "[150 rows x 6 columns]"
      ]
     },
     "execution_count": 4,
     "metadata": {},
     "output_type": "execute_result"
    }
   ],
   "source": [
    "data2"
   ]
  },
  {
   "cell_type": "code",
   "execution_count": 5,
   "id": "f1a55d16",
   "metadata": {},
   "outputs": [
    {
     "data": {
      "text/html": [
       "<div>\n",
       "<style scoped>\n",
       "    .dataframe tbody tr th:only-of-type {\n",
       "        vertical-align: middle;\n",
       "    }\n",
       "\n",
       "    .dataframe tbody tr th {\n",
       "        vertical-align: top;\n",
       "    }\n",
       "\n",
       "    .dataframe thead th {\n",
       "        text-align: right;\n",
       "    }\n",
       "</style>\n",
       "<table border=\"1\" class=\"dataframe\">\n",
       "  <thead>\n",
       "    <tr style=\"text-align: right;\">\n",
       "      <th></th>\n",
       "      <th>PassengerId</th>\n",
       "      <th>Survived</th>\n",
       "      <th>Pclass</th>\n",
       "      <th>Name</th>\n",
       "      <th>Sex</th>\n",
       "      <th>Age</th>\n",
       "      <th>SibSp</th>\n",
       "      <th>Parch</th>\n",
       "      <th>Ticket</th>\n",
       "      <th>Fare</th>\n",
       "      <th>Cabin</th>\n",
       "      <th>Embarked</th>\n",
       "    </tr>\n",
       "  </thead>\n",
       "  <tbody>\n",
       "    <tr>\n",
       "      <th>0</th>\n",
       "      <td>1</td>\n",
       "      <td>0</td>\n",
       "      <td>3</td>\n",
       "      <td>Braund, Mr. Owen Harris</td>\n",
       "      <td>male</td>\n",
       "      <td>22.0</td>\n",
       "      <td>1</td>\n",
       "      <td>0</td>\n",
       "      <td>A/5 21171</td>\n",
       "      <td>7.2500</td>\n",
       "      <td>NaN</td>\n",
       "      <td>S</td>\n",
       "    </tr>\n",
       "    <tr>\n",
       "      <th>1</th>\n",
       "      <td>2</td>\n",
       "      <td>1</td>\n",
       "      <td>1</td>\n",
       "      <td>Cumings, Mrs. John Bradley (Florence Briggs Th...</td>\n",
       "      <td>female</td>\n",
       "      <td>38.0</td>\n",
       "      <td>1</td>\n",
       "      <td>0</td>\n",
       "      <td>PC 17599</td>\n",
       "      <td>71.2833</td>\n",
       "      <td>C85</td>\n",
       "      <td>C</td>\n",
       "    </tr>\n",
       "    <tr>\n",
       "      <th>2</th>\n",
       "      <td>3</td>\n",
       "      <td>1</td>\n",
       "      <td>3</td>\n",
       "      <td>Heikkinen, Miss. Laina</td>\n",
       "      <td>female</td>\n",
       "      <td>26.0</td>\n",
       "      <td>0</td>\n",
       "      <td>0</td>\n",
       "      <td>STON/O2. 3101282</td>\n",
       "      <td>7.9250</td>\n",
       "      <td>NaN</td>\n",
       "      <td>S</td>\n",
       "    </tr>\n",
       "    <tr>\n",
       "      <th>3</th>\n",
       "      <td>4</td>\n",
       "      <td>1</td>\n",
       "      <td>1</td>\n",
       "      <td>Futrelle, Mrs. Jacques Heath (Lily May Peel)</td>\n",
       "      <td>female</td>\n",
       "      <td>35.0</td>\n",
       "      <td>1</td>\n",
       "      <td>0</td>\n",
       "      <td>113803</td>\n",
       "      <td>53.1000</td>\n",
       "      <td>C123</td>\n",
       "      <td>S</td>\n",
       "    </tr>\n",
       "    <tr>\n",
       "      <th>4</th>\n",
       "      <td>5</td>\n",
       "      <td>0</td>\n",
       "      <td>3</td>\n",
       "      <td>Allen, Mr. William Henry</td>\n",
       "      <td>male</td>\n",
       "      <td>35.0</td>\n",
       "      <td>0</td>\n",
       "      <td>0</td>\n",
       "      <td>373450</td>\n",
       "      <td>8.0500</td>\n",
       "      <td>NaN</td>\n",
       "      <td>S</td>\n",
       "    </tr>\n",
       "    <tr>\n",
       "      <th>...</th>\n",
       "      <td>...</td>\n",
       "      <td>...</td>\n",
       "      <td>...</td>\n",
       "      <td>...</td>\n",
       "      <td>...</td>\n",
       "      <td>...</td>\n",
       "      <td>...</td>\n",
       "      <td>...</td>\n",
       "      <td>...</td>\n",
       "      <td>...</td>\n",
       "      <td>...</td>\n",
       "      <td>...</td>\n",
       "    </tr>\n",
       "    <tr>\n",
       "      <th>886</th>\n",
       "      <td>887</td>\n",
       "      <td>0</td>\n",
       "      <td>2</td>\n",
       "      <td>Montvila, Rev. Juozas</td>\n",
       "      <td>male</td>\n",
       "      <td>27.0</td>\n",
       "      <td>0</td>\n",
       "      <td>0</td>\n",
       "      <td>211536</td>\n",
       "      <td>13.0000</td>\n",
       "      <td>NaN</td>\n",
       "      <td>S</td>\n",
       "    </tr>\n",
       "    <tr>\n",
       "      <th>887</th>\n",
       "      <td>888</td>\n",
       "      <td>1</td>\n",
       "      <td>1</td>\n",
       "      <td>Graham, Miss. Margaret Edith</td>\n",
       "      <td>female</td>\n",
       "      <td>19.0</td>\n",
       "      <td>0</td>\n",
       "      <td>0</td>\n",
       "      <td>112053</td>\n",
       "      <td>30.0000</td>\n",
       "      <td>B42</td>\n",
       "      <td>S</td>\n",
       "    </tr>\n",
       "    <tr>\n",
       "      <th>888</th>\n",
       "      <td>889</td>\n",
       "      <td>0</td>\n",
       "      <td>3</td>\n",
       "      <td>Johnston, Miss. Catherine Helen \"Carrie\"</td>\n",
       "      <td>female</td>\n",
       "      <td>NaN</td>\n",
       "      <td>1</td>\n",
       "      <td>2</td>\n",
       "      <td>W./C. 6607</td>\n",
       "      <td>23.4500</td>\n",
       "      <td>NaN</td>\n",
       "      <td>S</td>\n",
       "    </tr>\n",
       "    <tr>\n",
       "      <th>889</th>\n",
       "      <td>890</td>\n",
       "      <td>1</td>\n",
       "      <td>1</td>\n",
       "      <td>Behr, Mr. Karl Howell</td>\n",
       "      <td>male</td>\n",
       "      <td>26.0</td>\n",
       "      <td>0</td>\n",
       "      <td>0</td>\n",
       "      <td>111369</td>\n",
       "      <td>30.0000</td>\n",
       "      <td>C148</td>\n",
       "      <td>C</td>\n",
       "    </tr>\n",
       "    <tr>\n",
       "      <th>890</th>\n",
       "      <td>891</td>\n",
       "      <td>0</td>\n",
       "      <td>3</td>\n",
       "      <td>Dooley, Mr. Patrick</td>\n",
       "      <td>male</td>\n",
       "      <td>32.0</td>\n",
       "      <td>0</td>\n",
       "      <td>0</td>\n",
       "      <td>370376</td>\n",
       "      <td>7.7500</td>\n",
       "      <td>NaN</td>\n",
       "      <td>Q</td>\n",
       "    </tr>\n",
       "  </tbody>\n",
       "</table>\n",
       "<p>891 rows × 12 columns</p>\n",
       "</div>"
      ],
      "text/plain": [
       "     PassengerId  Survived  Pclass  \\\n",
       "0              1         0       3   \n",
       "1              2         1       1   \n",
       "2              3         1       3   \n",
       "3              4         1       1   \n",
       "4              5         0       3   \n",
       "..           ...       ...     ...   \n",
       "886          887         0       2   \n",
       "887          888         1       1   \n",
       "888          889         0       3   \n",
       "889          890         1       1   \n",
       "890          891         0       3   \n",
       "\n",
       "                                                  Name     Sex   Age  SibSp  \\\n",
       "0                              Braund, Mr. Owen Harris    male  22.0      1   \n",
       "1    Cumings, Mrs. John Bradley (Florence Briggs Th...  female  38.0      1   \n",
       "2                               Heikkinen, Miss. Laina  female  26.0      0   \n",
       "3         Futrelle, Mrs. Jacques Heath (Lily May Peel)  female  35.0      1   \n",
       "4                             Allen, Mr. William Henry    male  35.0      0   \n",
       "..                                                 ...     ...   ...    ...   \n",
       "886                              Montvila, Rev. Juozas    male  27.0      0   \n",
       "887                       Graham, Miss. Margaret Edith  female  19.0      0   \n",
       "888           Johnston, Miss. Catherine Helen \"Carrie\"  female   NaN      1   \n",
       "889                              Behr, Mr. Karl Howell    male  26.0      0   \n",
       "890                                Dooley, Mr. Patrick    male  32.0      0   \n",
       "\n",
       "     Parch            Ticket     Fare Cabin Embarked  \n",
       "0        0         A/5 21171   7.2500   NaN        S  \n",
       "1        0          PC 17599  71.2833   C85        C  \n",
       "2        0  STON/O2. 3101282   7.9250   NaN        S  \n",
       "3        0            113803  53.1000  C123        S  \n",
       "4        0            373450   8.0500   NaN        S  \n",
       "..     ...               ...      ...   ...      ...  \n",
       "886      0            211536  13.0000   NaN        S  \n",
       "887      0            112053  30.0000   B42        S  \n",
       "888      2        W./C. 6607  23.4500   NaN        S  \n",
       "889      0            111369  30.0000  C148        C  \n",
       "890      0            370376   7.7500   NaN        Q  \n",
       "\n",
       "[891 rows x 12 columns]"
      ]
     },
     "execution_count": 5,
     "metadata": {},
     "output_type": "execute_result"
    }
   ],
   "source": [
    "pd.read_csv(\"https://raw.githubusercontent.com/sunnysavita10/Statistics_With_Python/main/Titanic.csv\")"
   ]
  },
  {
   "cell_type": "code",
   "execution_count": 6,
   "id": "aaffbf6e",
   "metadata": {},
   "outputs": [],
   "source": [
    "data3=pd.read_csv(\"https://raw.githubusercontent.com/sunnysavita10/Statistics_With_Python/main/Titanic.csv\")"
   ]
  },
  {
   "cell_type": "code",
   "execution_count": 7,
   "id": "dcb8ccf5",
   "metadata": {},
   "outputs": [
    {
     "data": {
      "text/html": [
       "<div>\n",
       "<style scoped>\n",
       "    .dataframe tbody tr th:only-of-type {\n",
       "        vertical-align: middle;\n",
       "    }\n",
       "\n",
       "    .dataframe tbody tr th {\n",
       "        vertical-align: top;\n",
       "    }\n",
       "\n",
       "    .dataframe thead th {\n",
       "        text-align: right;\n",
       "    }\n",
       "</style>\n",
       "<table border=\"1\" class=\"dataframe\">\n",
       "  <thead>\n",
       "    <tr style=\"text-align: right;\">\n",
       "      <th></th>\n",
       "      <th>PassengerId</th>\n",
       "      <th>Survived</th>\n",
       "      <th>Pclass</th>\n",
       "      <th>Name</th>\n",
       "      <th>Sex</th>\n",
       "      <th>Age</th>\n",
       "      <th>SibSp</th>\n",
       "      <th>Parch</th>\n",
       "      <th>Ticket</th>\n",
       "      <th>Fare</th>\n",
       "      <th>Cabin</th>\n",
       "      <th>Embarked</th>\n",
       "    </tr>\n",
       "  </thead>\n",
       "  <tbody>\n",
       "    <tr>\n",
       "      <th>0</th>\n",
       "      <td>1</td>\n",
       "      <td>0</td>\n",
       "      <td>3</td>\n",
       "      <td>Braund, Mr. Owen Harris</td>\n",
       "      <td>male</td>\n",
       "      <td>22.0</td>\n",
       "      <td>1</td>\n",
       "      <td>0</td>\n",
       "      <td>A/5 21171</td>\n",
       "      <td>7.2500</td>\n",
       "      <td>NaN</td>\n",
       "      <td>S</td>\n",
       "    </tr>\n",
       "    <tr>\n",
       "      <th>1</th>\n",
       "      <td>2</td>\n",
       "      <td>1</td>\n",
       "      <td>1</td>\n",
       "      <td>Cumings, Mrs. John Bradley (Florence Briggs Th...</td>\n",
       "      <td>female</td>\n",
       "      <td>38.0</td>\n",
       "      <td>1</td>\n",
       "      <td>0</td>\n",
       "      <td>PC 17599</td>\n",
       "      <td>71.2833</td>\n",
       "      <td>C85</td>\n",
       "      <td>C</td>\n",
       "    </tr>\n",
       "    <tr>\n",
       "      <th>2</th>\n",
       "      <td>3</td>\n",
       "      <td>1</td>\n",
       "      <td>3</td>\n",
       "      <td>Heikkinen, Miss. Laina</td>\n",
       "      <td>female</td>\n",
       "      <td>26.0</td>\n",
       "      <td>0</td>\n",
       "      <td>0</td>\n",
       "      <td>STON/O2. 3101282</td>\n",
       "      <td>7.9250</td>\n",
       "      <td>NaN</td>\n",
       "      <td>S</td>\n",
       "    </tr>\n",
       "    <tr>\n",
       "      <th>3</th>\n",
       "      <td>4</td>\n",
       "      <td>1</td>\n",
       "      <td>1</td>\n",
       "      <td>Futrelle, Mrs. Jacques Heath (Lily May Peel)</td>\n",
       "      <td>female</td>\n",
       "      <td>35.0</td>\n",
       "      <td>1</td>\n",
       "      <td>0</td>\n",
       "      <td>113803</td>\n",
       "      <td>53.1000</td>\n",
       "      <td>C123</td>\n",
       "      <td>S</td>\n",
       "    </tr>\n",
       "    <tr>\n",
       "      <th>4</th>\n",
       "      <td>5</td>\n",
       "      <td>0</td>\n",
       "      <td>3</td>\n",
       "      <td>Allen, Mr. William Henry</td>\n",
       "      <td>male</td>\n",
       "      <td>35.0</td>\n",
       "      <td>0</td>\n",
       "      <td>0</td>\n",
       "      <td>373450</td>\n",
       "      <td>8.0500</td>\n",
       "      <td>NaN</td>\n",
       "      <td>S</td>\n",
       "    </tr>\n",
       "    <tr>\n",
       "      <th>...</th>\n",
       "      <td>...</td>\n",
       "      <td>...</td>\n",
       "      <td>...</td>\n",
       "      <td>...</td>\n",
       "      <td>...</td>\n",
       "      <td>...</td>\n",
       "      <td>...</td>\n",
       "      <td>...</td>\n",
       "      <td>...</td>\n",
       "      <td>...</td>\n",
       "      <td>...</td>\n",
       "      <td>...</td>\n",
       "    </tr>\n",
       "    <tr>\n",
       "      <th>886</th>\n",
       "      <td>887</td>\n",
       "      <td>0</td>\n",
       "      <td>2</td>\n",
       "      <td>Montvila, Rev. Juozas</td>\n",
       "      <td>male</td>\n",
       "      <td>27.0</td>\n",
       "      <td>0</td>\n",
       "      <td>0</td>\n",
       "      <td>211536</td>\n",
       "      <td>13.0000</td>\n",
       "      <td>NaN</td>\n",
       "      <td>S</td>\n",
       "    </tr>\n",
       "    <tr>\n",
       "      <th>887</th>\n",
       "      <td>888</td>\n",
       "      <td>1</td>\n",
       "      <td>1</td>\n",
       "      <td>Graham, Miss. Margaret Edith</td>\n",
       "      <td>female</td>\n",
       "      <td>19.0</td>\n",
       "      <td>0</td>\n",
       "      <td>0</td>\n",
       "      <td>112053</td>\n",
       "      <td>30.0000</td>\n",
       "      <td>B42</td>\n",
       "      <td>S</td>\n",
       "    </tr>\n",
       "    <tr>\n",
       "      <th>888</th>\n",
       "      <td>889</td>\n",
       "      <td>0</td>\n",
       "      <td>3</td>\n",
       "      <td>Johnston, Miss. Catherine Helen \"Carrie\"</td>\n",
       "      <td>female</td>\n",
       "      <td>NaN</td>\n",
       "      <td>1</td>\n",
       "      <td>2</td>\n",
       "      <td>W./C. 6607</td>\n",
       "      <td>23.4500</td>\n",
       "      <td>NaN</td>\n",
       "      <td>S</td>\n",
       "    </tr>\n",
       "    <tr>\n",
       "      <th>889</th>\n",
       "      <td>890</td>\n",
       "      <td>1</td>\n",
       "      <td>1</td>\n",
       "      <td>Behr, Mr. Karl Howell</td>\n",
       "      <td>male</td>\n",
       "      <td>26.0</td>\n",
       "      <td>0</td>\n",
       "      <td>0</td>\n",
       "      <td>111369</td>\n",
       "      <td>30.0000</td>\n",
       "      <td>C148</td>\n",
       "      <td>C</td>\n",
       "    </tr>\n",
       "    <tr>\n",
       "      <th>890</th>\n",
       "      <td>891</td>\n",
       "      <td>0</td>\n",
       "      <td>3</td>\n",
       "      <td>Dooley, Mr. Patrick</td>\n",
       "      <td>male</td>\n",
       "      <td>32.0</td>\n",
       "      <td>0</td>\n",
       "      <td>0</td>\n",
       "      <td>370376</td>\n",
       "      <td>7.7500</td>\n",
       "      <td>NaN</td>\n",
       "      <td>Q</td>\n",
       "    </tr>\n",
       "  </tbody>\n",
       "</table>\n",
       "<p>891 rows × 12 columns</p>\n",
       "</div>"
      ],
      "text/plain": [
       "     PassengerId  Survived  Pclass  \\\n",
       "0              1         0       3   \n",
       "1              2         1       1   \n",
       "2              3         1       3   \n",
       "3              4         1       1   \n",
       "4              5         0       3   \n",
       "..           ...       ...     ...   \n",
       "886          887         0       2   \n",
       "887          888         1       1   \n",
       "888          889         0       3   \n",
       "889          890         1       1   \n",
       "890          891         0       3   \n",
       "\n",
       "                                                  Name     Sex   Age  SibSp  \\\n",
       "0                              Braund, Mr. Owen Harris    male  22.0      1   \n",
       "1    Cumings, Mrs. John Bradley (Florence Briggs Th...  female  38.0      1   \n",
       "2                               Heikkinen, Miss. Laina  female  26.0      0   \n",
       "3         Futrelle, Mrs. Jacques Heath (Lily May Peel)  female  35.0      1   \n",
       "4                             Allen, Mr. William Henry    male  35.0      0   \n",
       "..                                                 ...     ...   ...    ...   \n",
       "886                              Montvila, Rev. Juozas    male  27.0      0   \n",
       "887                       Graham, Miss. Margaret Edith  female  19.0      0   \n",
       "888           Johnston, Miss. Catherine Helen \"Carrie\"  female   NaN      1   \n",
       "889                              Behr, Mr. Karl Howell    male  26.0      0   \n",
       "890                                Dooley, Mr. Patrick    male  32.0      0   \n",
       "\n",
       "     Parch            Ticket     Fare Cabin Embarked  \n",
       "0        0         A/5 21171   7.2500   NaN        S  \n",
       "1        0          PC 17599  71.2833   C85        C  \n",
       "2        0  STON/O2. 3101282   7.9250   NaN        S  \n",
       "3        0            113803  53.1000  C123        S  \n",
       "4        0            373450   8.0500   NaN        S  \n",
       "..     ...               ...      ...   ...      ...  \n",
       "886      0            211536  13.0000   NaN        S  \n",
       "887      0            112053  30.0000   B42        S  \n",
       "888      2        W./C. 6607  23.4500   NaN        S  \n",
       "889      0            111369  30.0000  C148        C  \n",
       "890      0            370376   7.7500   NaN        Q  \n",
       "\n",
       "[891 rows x 12 columns]"
      ]
     },
     "execution_count": 7,
     "metadata": {},
     "output_type": "execute_result"
    }
   ],
   "source": [
    "data3"
   ]
  },
  {
   "cell_type": "code",
   "execution_count": 8,
   "id": "ac5bcab6",
   "metadata": {},
   "outputs": [
    {
     "data": {
      "text/plain": [
       "[23, 24, 32, 45, 12, 43, 67, 45, 32, 56, 32]"
      ]
     },
     "execution_count": 8,
     "metadata": {},
     "output_type": "execute_result"
    }
   ],
   "source": [
    "data"
   ]
  },
  {
   "cell_type": "code",
   "execution_count": 9,
   "id": "d867f8b6",
   "metadata": {},
   "outputs": [],
   "source": [
    "data_copy=data.copy()"
   ]
  },
  {
   "cell_type": "code",
   "execution_count": 10,
   "id": "fa20578e",
   "metadata": {},
   "outputs": [],
   "source": [
    "data_copy.sort()"
   ]
  },
  {
   "cell_type": "code",
   "execution_count": 11,
   "id": "9ad3b1d9",
   "metadata": {},
   "outputs": [
    {
     "data": {
      "text/plain": [
       "[12, 23, 24, 32, 32, 32, 43, 45, 45, 56, 67]"
      ]
     },
     "execution_count": 11,
     "metadata": {},
     "output_type": "execute_result"
    }
   ],
   "source": [
    "data_copy"
   ]
  },
  {
   "cell_type": "code",
   "execution_count": 12,
   "id": "a6eedd7b",
   "metadata": {},
   "outputs": [],
   "source": [
    "import numpy as np"
   ]
  },
  {
   "cell_type": "code",
   "execution_count": 13,
   "id": "9ceda541",
   "metadata": {},
   "outputs": [
    {
     "data": {
      "text/plain": [
       "37.36363636363637"
      ]
     },
     "execution_count": 13,
     "metadata": {},
     "output_type": "execute_result"
    }
   ],
   "source": [
    "np.mean(data)"
   ]
  },
  {
   "cell_type": "code",
   "execution_count": 14,
   "id": "ae9936e3",
   "metadata": {},
   "outputs": [
    {
     "data": {
      "text/plain": [
       "32.0"
      ]
     },
     "execution_count": 14,
     "metadata": {},
     "output_type": "execute_result"
    }
   ],
   "source": [
    "np.median(data)"
   ]
  },
  {
   "cell_type": "code",
   "execution_count": 15,
   "id": "27724e53",
   "metadata": {},
   "outputs": [
    {
     "data": {
      "text/plain": [
       "5.843333333333334"
      ]
     },
     "execution_count": 15,
     "metadata": {},
     "output_type": "execute_result"
    }
   ],
   "source": [
    "np.mean(data2['SepalLengthCm'])"
   ]
  },
  {
   "cell_type": "code",
   "execution_count": 16,
   "id": "1d483f8d",
   "metadata": {},
   "outputs": [],
   "source": [
    "import statistics"
   ]
  },
  {
   "cell_type": "code",
   "execution_count": 17,
   "id": "91ac0238",
   "metadata": {},
   "outputs": [
    {
     "data": {
      "text/plain": [
       "32"
      ]
     },
     "execution_count": 17,
     "metadata": {},
     "output_type": "execute_result"
    }
   ],
   "source": [
    "statistics.mode(data)"
   ]
  },
  {
   "cell_type": "code",
   "execution_count": 18,
   "id": "2077d171",
   "metadata": {},
   "outputs": [],
   "source": [
    "def mean(data):\n",
    "    sum = 0\n",
    "    for i in data:\n",
    "        sum = sum + i\n",
    "    mean = sum /len(data)\n",
    "    return mean"
   ]
  },
  {
   "cell_type": "code",
   "execution_count": 19,
   "id": "ffe8f415",
   "metadata": {},
   "outputs": [
    {
     "data": {
      "text/plain": [
       "37.36363636363637"
      ]
     },
     "execution_count": 19,
     "metadata": {},
     "output_type": "execute_result"
    }
   ],
   "source": [
    "mean(data)"
   ]
  },
  {
   "cell_type": "code",
   "execution_count": 20,
   "id": "5f24b717",
   "metadata": {},
   "outputs": [
    {
     "name": "stderr",
     "output_type": "stream",
     "text": [
      "C:\\Users\\admin\\AppData\\Local\\Temp\\ipykernel_5292\\3794622683.py:2: FutureWarning: Unlike other reduction functions (e.g. `skew`, `kurtosis`), the default behavior of `mode` typically preserves the axis it acts along. In SciPy 1.11.0, this behavior will change: the default value of `keepdims` will become False, the `axis` over which the statistic is taken will be eliminated, and the value None will no longer be accepted. Set `keepdims` to True or False to avoid this warning.\n",
      "  st.mode(data)\n"
     ]
    },
    {
     "data": {
      "text/plain": [
       "ModeResult(mode=array([32]), count=array([3]))"
      ]
     },
     "execution_count": 20,
     "metadata": {},
     "output_type": "execute_result"
    }
   ],
   "source": [
    "from scipy import stats as st\n",
    "st.mode(data)"
   ]
  },
  {
   "cell_type": "code",
   "execution_count": 21,
   "id": "884a08b3",
   "metadata": {},
   "outputs": [],
   "source": [
    "data_copy.append(150)"
   ]
  },
  {
   "cell_type": "code",
   "execution_count": 22,
   "id": "23f80279",
   "metadata": {},
   "outputs": [
    {
     "data": {
      "text/plain": [
       "[12, 23, 24, 32, 32, 32, 43, 45, 45, 56, 67, 150]"
      ]
     },
     "execution_count": 22,
     "metadata": {},
     "output_type": "execute_result"
    }
   ],
   "source": [
    "data_copy"
   ]
  },
  {
   "cell_type": "code",
   "execution_count": 23,
   "id": "3d857069",
   "metadata": {},
   "outputs": [
    {
     "data": {
      "text/plain": [
       "46.75"
      ]
     },
     "execution_count": 23,
     "metadata": {},
     "output_type": "execute_result"
    }
   ],
   "source": [
    "np.mean(data_copy)"
   ]
  },
  {
   "cell_type": "code",
   "execution_count": 24,
   "id": "e548b823",
   "metadata": {},
   "outputs": [],
   "source": [
    "data_copy2=data.copy()"
   ]
  },
  {
   "cell_type": "code",
   "execution_count": 25,
   "id": "490085cb",
   "metadata": {},
   "outputs": [],
   "source": [
    "data_copy2.append(75)"
   ]
  },
  {
   "cell_type": "code",
   "execution_count": 26,
   "id": "4827a4e0",
   "metadata": {},
   "outputs": [
    {
     "data": {
      "text/plain": [
       "40.5"
      ]
     },
     "execution_count": 26,
     "metadata": {},
     "output_type": "execute_result"
    }
   ],
   "source": [
    "np.mean(data_copy2)"
   ]
  },
  {
   "cell_type": "code",
   "execution_count": 27,
   "id": "e4daf630",
   "metadata": {},
   "outputs": [
    {
     "data": {
      "text/plain": [
       "32.0"
      ]
     },
     "execution_count": 27,
     "metadata": {},
     "output_type": "execute_result"
    }
   ],
   "source": [
    "np.median(data)"
   ]
  },
  {
   "cell_type": "code",
   "execution_count": 28,
   "id": "4f1938dd",
   "metadata": {},
   "outputs": [
    {
     "data": {
      "text/plain": [
       "37.5"
      ]
     },
     "execution_count": 28,
     "metadata": {},
     "output_type": "execute_result"
    }
   ],
   "source": [
    "np.median(data_copy)"
   ]
  },
  {
   "cell_type": "code",
   "execution_count": 29,
   "id": "d658cca4",
   "metadata": {},
   "outputs": [
    {
     "data": {
      "text/plain": [
       "[12, 23, 24, 32, 32, 32, 43, 45, 45, 56, 67, 150]"
      ]
     },
     "execution_count": 29,
     "metadata": {},
     "output_type": "execute_result"
    }
   ],
   "source": [
    "data_copy"
   ]
  },
  {
   "cell_type": "code",
   "execution_count": 30,
   "id": "8842e339",
   "metadata": {},
   "outputs": [],
   "source": [
    "data_copy.append(150)"
   ]
  },
  {
   "cell_type": "code",
   "execution_count": 31,
   "id": "34754ac3",
   "metadata": {},
   "outputs": [
    {
     "data": {
      "text/plain": [
       "[12, 23, 24, 32, 32, 32, 43, 45, 45, 56, 67, 150, 150]"
      ]
     },
     "execution_count": 31,
     "metadata": {},
     "output_type": "execute_result"
    }
   ],
   "source": [
    "data_copy"
   ]
  },
  {
   "cell_type": "code",
   "execution_count": 32,
   "id": "03b78a3d",
   "metadata": {},
   "outputs": [
    {
     "data": {
      "text/plain": [
       "43.0"
      ]
     },
     "execution_count": 32,
     "metadata": {},
     "output_type": "execute_result"
    }
   ],
   "source": [
    "np.median(data_copy)"
   ]
  },
  {
   "cell_type": "code",
   "execution_count": 33,
   "id": "1ce1b7b6",
   "metadata": {},
   "outputs": [
    {
     "data": {
      "text/plain": [
       "54.69230769230769"
      ]
     },
     "execution_count": 33,
     "metadata": {},
     "output_type": "execute_result"
    }
   ],
   "source": [
    "np.mean(data_copy)"
   ]
  },
  {
   "cell_type": "code",
   "execution_count": 34,
   "id": "b6697f44",
   "metadata": {},
   "outputs": [],
   "source": [
    "#Dispersion"
   ]
  },
  {
   "cell_type": "code",
   "execution_count": 35,
   "id": "46c2e48e",
   "metadata": {},
   "outputs": [
    {
     "data": {
      "text/plain": [
       "array([28.])"
      ]
     },
     "execution_count": 35,
     "metadata": {},
     "output_type": "execute_result"
    }
   ],
   "source": [
    "np.percentile(data,[25])"
   ]
  },
  {
   "cell_type": "code",
   "execution_count": 36,
   "id": "6d433b6e",
   "metadata": {},
   "outputs": [
    {
     "data": {
      "text/plain": [
       "array([32.])"
      ]
     },
     "execution_count": 36,
     "metadata": {},
     "output_type": "execute_result"
    }
   ],
   "source": [
    "np.percentile(data,[50])"
   ]
  },
  {
   "cell_type": "code",
   "execution_count": 37,
   "id": "c106add1",
   "metadata": {},
   "outputs": [
    {
     "data": {
      "text/plain": [
       "[23, 24, 32, 45, 12, 43, 67, 45, 32, 56, 32]"
      ]
     },
     "execution_count": 37,
     "metadata": {},
     "output_type": "execute_result"
    }
   ],
   "source": [
    "data"
   ]
  },
  {
   "cell_type": "code",
   "execution_count": 38,
   "id": "8e67edea",
   "metadata": {},
   "outputs": [
    {
     "data": {
      "text/plain": [
       "[12, 23, 24, 32, 32, 32, 43, 45, 45, 56, 67, 150, 150]"
      ]
     },
     "execution_count": 38,
     "metadata": {},
     "output_type": "execute_result"
    }
   ],
   "source": [
    "data_copy"
   ]
  },
  {
   "cell_type": "code",
   "execution_count": 39,
   "id": "a10d6fe2",
   "metadata": {},
   "outputs": [
    {
     "data": {
      "text/plain": [
       "150"
      ]
     },
     "execution_count": 39,
     "metadata": {},
     "output_type": "execute_result"
    }
   ],
   "source": [
    "data_copy.pop()"
   ]
  },
  {
   "cell_type": "code",
   "execution_count": 40,
   "id": "2a7c3bd5",
   "metadata": {},
   "outputs": [
    {
     "data": {
      "text/plain": [
       "[12, 23, 24, 32, 32, 32, 43, 45, 45, 56, 67, 150]"
      ]
     },
     "execution_count": 40,
     "metadata": {},
     "output_type": "execute_result"
    }
   ],
   "source": [
    "data_copy"
   ]
  },
  {
   "cell_type": "code",
   "execution_count": 41,
   "id": "fb4f008f",
   "metadata": {},
   "outputs": [
    {
     "data": {
      "text/plain": [
       "array([28.])"
      ]
     },
     "execution_count": 41,
     "metadata": {},
     "output_type": "execute_result"
    }
   ],
   "source": [
    "np.percentile(data,[25])"
   ]
  },
  {
   "cell_type": "code",
   "execution_count": 42,
   "id": "c05d3efc",
   "metadata": {},
   "outputs": [
    {
     "data": {
      "text/plain": [
       "array([28., 32., 45., 67.])"
      ]
     },
     "execution_count": 42,
     "metadata": {},
     "output_type": "execute_result"
    }
   ],
   "source": [
    "np.percentile(data,[25,50,75,100])"
   ]
  },
  {
   "cell_type": "code",
   "execution_count": 43,
   "id": "f35194e4",
   "metadata": {},
   "outputs": [],
   "source": [
    "data_copy.append(150)"
   ]
  },
  {
   "cell_type": "code",
   "execution_count": 44,
   "id": "87359384",
   "metadata": {},
   "outputs": [
    {
     "data": {
      "text/plain": [
       "[12, 23, 24, 32, 32, 32, 43, 45, 45, 56, 67, 150, 150]"
      ]
     },
     "execution_count": 44,
     "metadata": {},
     "output_type": "execute_result"
    }
   ],
   "source": [
    "data_copy"
   ]
  },
  {
   "cell_type": "code",
   "execution_count": 45,
   "id": "cfeaf5e9",
   "metadata": {},
   "outputs": [],
   "source": [
    "import seaborn as sns"
   ]
  },
  {
   "cell_type": "code",
   "execution_count": 46,
   "id": "1b2729d9",
   "metadata": {},
   "outputs": [
    {
     "data": {
      "text/plain": [
       "<Axes: >"
      ]
     },
     "execution_count": 46,
     "metadata": {},
     "output_type": "execute_result"
    },
    {
     "data": {
      "image/png": "[encoded data removed]",
      "text/plain": [
       "<Figure size 640x480 with 1 Axes>"
      ]
     },
     "metadata": {},
     "output_type": "display_data"
    }
   ],
   "source": [
    "sns.boxplot(data_copy)"
   ]
  },
  {
   "cell_type": "code",
   "execution_count": 47,
   "id": "18930382",
   "metadata": {},
   "outputs": [
    {
     "data": {
      "text/plain": [
       "[23, 24, 32, 45, 12, 43, 67, 45, 32, 56, 32]"
      ]
     },
     "execution_count": 47,
     "metadata": {},
     "output_type": "execute_result"
    }
   ],
   "source": [
    "data"
   ]
  },
  {
   "cell_type": "code",
   "execution_count": 48,
   "id": "390462f9",
   "metadata": {},
   "outputs": [
    {
     "data": {
      "text/plain": [
       "226.23140495867773"
      ]
     },
     "execution_count": 48,
     "metadata": {},
     "output_type": "execute_result"
    }
   ],
   "source": [
    "np.var(data)"
   ]
  },
  {
   "cell_type": "markdown",
   "id": "707455ed",
   "metadata": {},
   "source": [
    "sample / population"
   ]
  },
  {
   "cell_type": "code",
   "execution_count": 49,
   "id": "b9d86681",
   "metadata": {},
   "outputs": [
    {
     "data": {
      "text/plain": [
       "24"
      ]
     },
     "execution_count": 49,
     "metadata": {},
     "output_type": "execute_result"
    }
   ],
   "source": [
    "np.random.choice(data)"
   ]
  },
  {
   "cell_type": "code",
   "execution_count": 50,
   "id": "209327e0",
   "metadata": {},
   "outputs": [
    {
     "data": {
      "text/plain": [
       "12"
      ]
     },
     "execution_count": 50,
     "metadata": {},
     "output_type": "execute_result"
    }
   ],
   "source": [
    "np.random.choice(data)"
   ]
  },
  {
   "cell_type": "code",
   "execution_count": 51,
   "id": "b26f3347",
   "metadata": {},
   "outputs": [
    {
     "data": {
      "text/plain": [
       "array([32, 56, 12])"
      ]
     },
     "execution_count": 51,
     "metadata": {},
     "output_type": "execute_result"
    }
   ],
   "source": [
    "np.random.choice(data,size=3)"
   ]
  },
  {
   "cell_type": "code",
   "execution_count": 52,
   "id": "51b3371e",
   "metadata": {},
   "outputs": [
    {
     "data": {
      "text/html": [
       "<div>\n",
       "<style scoped>\n",
       "    .dataframe tbody tr th:only-of-type {\n",
       "        vertical-align: middle;\n",
       "    }\n",
       "\n",
       "    .dataframe tbody tr th {\n",
       "        vertical-align: top;\n",
       "    }\n",
       "\n",
       "    .dataframe thead th {\n",
       "        text-align: right;\n",
       "    }\n",
       "</style>\n",
       "<table border=\"1\" class=\"dataframe\">\n",
       "  <thead>\n",
       "    <tr style=\"text-align: right;\">\n",
       "      <th></th>\n",
       "      <th>Id</th>\n",
       "      <th>SepalLengthCm</th>\n",
       "      <th>SepalWidthCm</th>\n",
       "      <th>PetalLengthCm</th>\n",
       "      <th>PetalWidthCm</th>\n",
       "      <th>Species</th>\n",
       "    </tr>\n",
       "  </thead>\n",
       "  <tbody>\n",
       "    <tr>\n",
       "      <th>0</th>\n",
       "      <td>1</td>\n",
       "      <td>5.1</td>\n",
       "      <td>3.5</td>\n",
       "      <td>1.4</td>\n",
       "      <td>0.2</td>\n",
       "      <td>Iris-setosa</td>\n",
       "    </tr>\n",
       "    <tr>\n",
       "      <th>1</th>\n",
       "      <td>2</td>\n",
       "      <td>4.9</td>\n",
       "      <td>3.0</td>\n",
       "      <td>1.4</td>\n",
       "      <td>0.2</td>\n",
       "      <td>Iris-setosa</td>\n",
       "    </tr>\n",
       "    <tr>\n",
       "      <th>2</th>\n",
       "      <td>3</td>\n",
       "      <td>4.7</td>\n",
       "      <td>3.2</td>\n",
       "      <td>1.3</td>\n",
       "      <td>0.2</td>\n",
       "      <td>Iris-setosa</td>\n",
       "    </tr>\n",
       "    <tr>\n",
       "      <th>3</th>\n",
       "      <td>4</td>\n",
       "      <td>4.6</td>\n",
       "      <td>3.1</td>\n",
       "      <td>1.5</td>\n",
       "      <td>0.2</td>\n",
       "      <td>Iris-setosa</td>\n",
       "    </tr>\n",
       "    <tr>\n",
       "      <th>4</th>\n",
       "      <td>5</td>\n",
       "      <td>5.0</td>\n",
       "      <td>3.6</td>\n",
       "      <td>1.4</td>\n",
       "      <td>0.2</td>\n",
       "      <td>Iris-setosa</td>\n",
       "    </tr>\n",
       "    <tr>\n",
       "      <th>...</th>\n",
       "      <td>...</td>\n",
       "      <td>...</td>\n",
       "      <td>...</td>\n",
       "      <td>...</td>\n",
       "      <td>...</td>\n",
       "      <td>...</td>\n",
       "    </tr>\n",
       "    <tr>\n",
       "      <th>145</th>\n",
       "      <td>146</td>\n",
       "      <td>6.7</td>\n",
       "      <td>3.0</td>\n",
       "      <td>5.2</td>\n",
       "      <td>2.3</td>\n",
       "      <td>Iris-virginica</td>\n",
       "    </tr>\n",
       "    <tr>\n",
       "      <th>146</th>\n",
       "      <td>147</td>\n",
       "      <td>6.3</td>\n",
       "      <td>2.5</td>\n",
       "      <td>5.0</td>\n",
       "      <td>1.9</td>\n",
       "      <td>Iris-virginica</td>\n",
       "    </tr>\n",
       "    <tr>\n",
       "      <th>147</th>\n",
       "      <td>148</td>\n",
       "      <td>6.5</td>\n",
       "      <td>3.0</td>\n",
       "      <td>5.2</td>\n",
       "      <td>2.0</td>\n",
       "      <td>Iris-virginica</td>\n",
       "    </tr>\n",
       "    <tr>\n",
       "      <th>148</th>\n",
       "      <td>149</td>\n",
       "      <td>6.2</td>\n",
       "      <td>3.4</td>\n",
       "      <td>5.4</td>\n",
       "      <td>2.3</td>\n",
       "      <td>Iris-virginica</td>\n",
       "    </tr>\n",
       "    <tr>\n",
       "      <th>149</th>\n",
       "      <td>150</td>\n",
       "      <td>5.9</td>\n",
       "      <td>3.0</td>\n",
       "      <td>5.1</td>\n",
       "      <td>1.8</td>\n",
       "      <td>Iris-virginica</td>\n",
       "    </tr>\n",
       "  </tbody>\n",
       "</table>\n",
       "<p>150 rows × 6 columns</p>\n",
       "</div>"
      ],
      "text/plain": [
       "      Id  SepalLengthCm  SepalWidthCm  PetalLengthCm  PetalWidthCm  \\\n",
       "0      1            5.1           3.5            1.4           0.2   \n",
       "1      2            4.9           3.0            1.4           0.2   \n",
       "2      3            4.7           3.2            1.3           0.2   \n",
       "3      4            4.6           3.1            1.5           0.2   \n",
       "4      5            5.0           3.6            1.4           0.2   \n",
       "..   ...            ...           ...            ...           ...   \n",
       "145  146            6.7           3.0            5.2           2.3   \n",
       "146  147            6.3           2.5            5.0           1.9   \n",
       "147  148            6.5           3.0            5.2           2.0   \n",
       "148  149            6.2           3.4            5.4           2.3   \n",
       "149  150            5.9           3.0            5.1           1.8   \n",
       "\n",
       "            Species  \n",
       "0       Iris-setosa  \n",
       "1       Iris-setosa  \n",
       "2       Iris-setosa  \n",
       "3       Iris-setosa  \n",
       "4       Iris-setosa  \n",
       "..              ...  \n",
       "145  Iris-virginica  \n",
       "146  Iris-virginica  \n",
       "147  Iris-virginica  \n",
       "148  Iris-virginica  \n",
       "149  Iris-virginica  \n",
       "\n",
       "[150 rows x 6 columns]"
      ]
     },
     "execution_count": 52,
     "metadata": {},
     "output_type": "execute_result"
    }
   ],
   "source": [
    "data2"
   ]
  },
  {
   "cell_type": "code",
   "execution_count": 53,
   "id": "6fe0ec7b",
   "metadata": {},
   "outputs": [
    {
     "data": {
      "text/html": [
       "<div>\n",
       "<style scoped>\n",
       "    .dataframe tbody tr th:only-of-type {\n",
       "        vertical-align: middle;\n",
       "    }\n",
       "\n",
       "    .dataframe tbody tr th {\n",
       "        vertical-align: top;\n",
       "    }\n",
       "\n",
       "    .dataframe thead th {\n",
       "        text-align: right;\n",
       "    }\n",
       "</style>\n",
       "<table border=\"1\" class=\"dataframe\">\n",
       "  <thead>\n",
       "    <tr style=\"text-align: right;\">\n",
       "      <th></th>\n",
       "      <th>Id</th>\n",
       "      <th>SepalLengthCm</th>\n",
       "      <th>SepalWidthCm</th>\n",
       "      <th>PetalLengthCm</th>\n",
       "      <th>PetalWidthCm</th>\n",
       "      <th>Species</th>\n",
       "    </tr>\n",
       "  </thead>\n",
       "  <tbody>\n",
       "    <tr>\n",
       "      <th>129</th>\n",
       "      <td>130</td>\n",
       "      <td>7.2</td>\n",
       "      <td>3.0</td>\n",
       "      <td>5.8</td>\n",
       "      <td>1.6</td>\n",
       "      <td>Iris-virginica</td>\n",
       "    </tr>\n",
       "  </tbody>\n",
       "</table>\n",
       "</div>"
      ],
      "text/plain": [
       "      Id  SepalLengthCm  SepalWidthCm  PetalLengthCm  PetalWidthCm  \\\n",
       "129  130            7.2           3.0            5.8           1.6   \n",
       "\n",
       "            Species  \n",
       "129  Iris-virginica  "
      ]
     },
     "execution_count": 53,
     "metadata": {},
     "output_type": "execute_result"
    }
   ],
   "source": [
    "data2.sample()"
   ]
  },
  {
   "cell_type": "code",
   "execution_count": 54,
   "id": "13d0a759",
   "metadata": {},
   "outputs": [
    {
     "data": {
      "text/html": [
       "<div>\n",
       "<style scoped>\n",
       "    .dataframe tbody tr th:only-of-type {\n",
       "        vertical-align: middle;\n",
       "    }\n",
       "\n",
       "    .dataframe tbody tr th {\n",
       "        vertical-align: top;\n",
       "    }\n",
       "\n",
       "    .dataframe thead th {\n",
       "        text-align: right;\n",
       "    }\n",
       "</style>\n",
       "<table border=\"1\" class=\"dataframe\">\n",
       "  <thead>\n",
       "    <tr style=\"text-align: right;\">\n",
       "      <th></th>\n",
       "      <th>Id</th>\n",
       "      <th>SepalLengthCm</th>\n",
       "      <th>SepalWidthCm</th>\n",
       "      <th>PetalLengthCm</th>\n",
       "      <th>PetalWidthCm</th>\n",
       "      <th>Species</th>\n",
       "    </tr>\n",
       "  </thead>\n",
       "  <tbody>\n",
       "    <tr>\n",
       "      <th>82</th>\n",
       "      <td>83</td>\n",
       "      <td>5.8</td>\n",
       "      <td>2.7</td>\n",
       "      <td>3.9</td>\n",
       "      <td>1.2</td>\n",
       "      <td>Iris-versicolor</td>\n",
       "    </tr>\n",
       "    <tr>\n",
       "      <th>93</th>\n",
       "      <td>94</td>\n",
       "      <td>5.0</td>\n",
       "      <td>2.3</td>\n",
       "      <td>3.3</td>\n",
       "      <td>1.0</td>\n",
       "      <td>Iris-versicolor</td>\n",
       "    </tr>\n",
       "    <tr>\n",
       "      <th>100</th>\n",
       "      <td>101</td>\n",
       "      <td>6.3</td>\n",
       "      <td>3.3</td>\n",
       "      <td>6.0</td>\n",
       "      <td>2.5</td>\n",
       "      <td>Iris-virginica</td>\n",
       "    </tr>\n",
       "    <tr>\n",
       "      <th>35</th>\n",
       "      <td>36</td>\n",
       "      <td>5.0</td>\n",
       "      <td>3.2</td>\n",
       "      <td>1.2</td>\n",
       "      <td>0.2</td>\n",
       "      <td>Iris-setosa</td>\n",
       "    </tr>\n",
       "    <tr>\n",
       "      <th>50</th>\n",
       "      <td>51</td>\n",
       "      <td>7.0</td>\n",
       "      <td>3.2</td>\n",
       "      <td>4.7</td>\n",
       "      <td>1.4</td>\n",
       "      <td>Iris-versicolor</td>\n",
       "    </tr>\n",
       "    <tr>\n",
       "      <th>14</th>\n",
       "      <td>15</td>\n",
       "      <td>5.8</td>\n",
       "      <td>4.0</td>\n",
       "      <td>1.2</td>\n",
       "      <td>0.2</td>\n",
       "      <td>Iris-setosa</td>\n",
       "    </tr>\n",
       "    <tr>\n",
       "      <th>117</th>\n",
       "      <td>118</td>\n",
       "      <td>7.7</td>\n",
       "      <td>3.8</td>\n",
       "      <td>6.7</td>\n",
       "      <td>2.2</td>\n",
       "      <td>Iris-virginica</td>\n",
       "    </tr>\n",
       "    <tr>\n",
       "      <th>54</th>\n",
       "      <td>55</td>\n",
       "      <td>6.5</td>\n",
       "      <td>2.8</td>\n",
       "      <td>4.6</td>\n",
       "      <td>1.5</td>\n",
       "      <td>Iris-versicolor</td>\n",
       "    </tr>\n",
       "    <tr>\n",
       "      <th>99</th>\n",
       "      <td>100</td>\n",
       "      <td>5.7</td>\n",
       "      <td>2.8</td>\n",
       "      <td>4.1</td>\n",
       "      <td>1.3</td>\n",
       "      <td>Iris-versicolor</td>\n",
       "    </tr>\n",
       "    <tr>\n",
       "      <th>149</th>\n",
       "      <td>150</td>\n",
       "      <td>5.9</td>\n",
       "      <td>3.0</td>\n",
       "      <td>5.1</td>\n",
       "      <td>1.8</td>\n",
       "      <td>Iris-virginica</td>\n",
       "    </tr>\n",
       "    <tr>\n",
       "      <th>116</th>\n",
       "      <td>117</td>\n",
       "      <td>6.5</td>\n",
       "      <td>3.0</td>\n",
       "      <td>5.5</td>\n",
       "      <td>1.8</td>\n",
       "      <td>Iris-virginica</td>\n",
       "    </tr>\n",
       "    <tr>\n",
       "      <th>138</th>\n",
       "      <td>139</td>\n",
       "      <td>6.0</td>\n",
       "      <td>3.0</td>\n",
       "      <td>4.8</td>\n",
       "      <td>1.8</td>\n",
       "      <td>Iris-virginica</td>\n",
       "    </tr>\n",
       "    <tr>\n",
       "      <th>122</th>\n",
       "      <td>123</td>\n",
       "      <td>7.7</td>\n",
       "      <td>2.8</td>\n",
       "      <td>6.7</td>\n",
       "      <td>2.0</td>\n",
       "      <td>Iris-virginica</td>\n",
       "    </tr>\n",
       "    <tr>\n",
       "      <th>103</th>\n",
       "      <td>104</td>\n",
       "      <td>6.3</td>\n",
       "      <td>2.9</td>\n",
       "      <td>5.6</td>\n",
       "      <td>1.8</td>\n",
       "      <td>Iris-virginica</td>\n",
       "    </tr>\n",
       "    <tr>\n",
       "      <th>147</th>\n",
       "      <td>148</td>\n",
       "      <td>6.5</td>\n",
       "      <td>3.0</td>\n",
       "      <td>5.2</td>\n",
       "      <td>2.0</td>\n",
       "      <td>Iris-virginica</td>\n",
       "    </tr>\n",
       "  </tbody>\n",
       "</table>\n",
       "</div>"
      ],
      "text/plain": [
       "      Id  SepalLengthCm  SepalWidthCm  PetalLengthCm  PetalWidthCm  \\\n",
       "82    83            5.8           2.7            3.9           1.2   \n",
       "93    94            5.0           2.3            3.3           1.0   \n",
       "100  101            6.3           3.3            6.0           2.5   \n",
       "35    36            5.0           3.2            1.2           0.2   \n",
       "50    51            7.0           3.2            4.7           1.4   \n",
       "14    15            5.8           4.0            1.2           0.2   \n",
       "117  118            7.7           3.8            6.7           2.2   \n",
       "54    55            6.5           2.8            4.6           1.5   \n",
       "99   100            5.7           2.8            4.1           1.3   \n",
       "149  150            5.9           3.0            5.1           1.8   \n",
       "116  117            6.5           3.0            5.5           1.8   \n",
       "138  139            6.0           3.0            4.8           1.8   \n",
       "122  123            7.7           2.8            6.7           2.0   \n",
       "103  104            6.3           2.9            5.6           1.8   \n",
       "147  148            6.5           3.0            5.2           2.0   \n",
       "\n",
       "             Species  \n",
       "82   Iris-versicolor  \n",
       "93   Iris-versicolor  \n",
       "100   Iris-virginica  \n",
       "35       Iris-setosa  \n",
       "50   Iris-versicolor  \n",
       "14       Iris-setosa  \n",
       "117   Iris-virginica  \n",
       "54   Iris-versicolor  \n",
       "99   Iris-versicolor  \n",
       "149   Iris-virginica  \n",
       "116   Iris-virginica  \n",
       "138   Iris-virginica  \n",
       "122   Iris-virginica  \n",
       "103   Iris-virginica  \n",
       "147   Iris-virginica  "
      ]
     },
     "execution_count": 54,
     "metadata": {},
     "output_type": "execute_result"
    }
   ],
   "source": [
    "data2.sample(n=15)"
   ]
  },
  {
   "cell_type": "code",
   "execution_count": 55,
   "id": "047d162b",
   "metadata": {},
   "outputs": [
    {
     "data": {
      "text/plain": [
       "15.040990823701666"
      ]
     },
     "execution_count": 55,
     "metadata": {},
     "output_type": "execute_result"
    }
   ],
   "source": [
    "np.std(data)"
   ]
  },
  {
   "cell_type": "code",
   "execution_count": 56,
   "id": "ed1ce362",
   "metadata": {},
   "outputs": [],
   "source": [
    "#python code for variance\n",
    "def variance(data):\n",
    "    n=len(data)\n",
    "    ## mean of the data\n",
    "    mean=sum(data)/n\n",
    "    ## variance\n",
    "    deviation=[(x - mean) ** 2 for x in data]\n",
    "    variance=sum(deviation)/(n-1) # Sample varience\n",
    "    return variance"
   ]
  },
  {
   "cell_type": "code",
   "execution_count": 57,
   "id": "98ca185d",
   "metadata": {},
   "outputs": [
    {
     "data": {
      "text/plain": [
       "248.8545454545455"
      ]
     },
     "execution_count": 57,
     "metadata": {},
     "output_type": "execute_result"
    }
   ],
   "source": [
    "\n",
    "variance(data)"
   ]
  },
  {
   "cell_type": "code",
   "execution_count": 58,
   "id": "7d31ba57",
   "metadata": {},
   "outputs": [
    {
     "data": {
      "text/plain": [
       "226.23140495867773"
      ]
     },
     "execution_count": 58,
     "metadata": {},
     "output_type": "execute_result"
    }
   ],
   "source": [
    "import numpy as np\n",
    "np.var(data)"
   ]
  },
  {
   "cell_type": "code",
   "execution_count": 59,
   "id": "46dea64c",
   "metadata": {},
   "outputs": [
    {
     "data": {
      "text/plain": [
       "15.040990823701666"
      ]
     },
     "execution_count": 59,
     "metadata": {},
     "output_type": "execute_result"
    }
   ],
   "source": [
    "np.std(data)"
   ]
  },
  {
   "cell_type": "code",
   "execution_count": 60,
   "id": "145af440",
   "metadata": {},
   "outputs": [
    {
     "data": {
      "text/plain": [
       "248.85454545454544"
      ]
     },
     "execution_count": 60,
     "metadata": {},
     "output_type": "execute_result"
    }
   ],
   "source": [
    "import statistics\n",
    "statistics.variance(data)"
   ]
  },
  {
   "cell_type": "code",
   "execution_count": 61,
   "id": "f528b4ad",
   "metadata": {},
   "outputs": [
    {
     "data": {
      "text/plain": [
       "226.23140495867767"
      ]
     },
     "execution_count": 61,
     "metadata": {},
     "output_type": "execute_result"
    }
   ],
   "source": [
    "statistics.pvariance(data)\n",
    "# Population varience"
   ]
  },
  {
   "cell_type": "code",
   "execution_count": 62,
   "id": "7804c703",
   "metadata": {},
   "outputs": [
    {
     "data": {
      "text/plain": [
       "15.775124261144361"
      ]
     },
     "execution_count": 62,
     "metadata": {},
     "output_type": "execute_result"
    }
   ],
   "source": [
    "import math\n",
    "math.sqrt(statistics.variance(data))"
   ]
  },
  {
   "cell_type": "code",
   "execution_count": 63,
   "id": "c9a6545f",
   "metadata": {},
   "outputs": [],
   "source": [
    "# Corr/cov"
   ]
  },
  {
   "cell_type": "code",
   "execution_count": 64,
   "id": "4666e097",
   "metadata": {},
   "outputs": [],
   "source": [
    "import seaborn as sns"
   ]
  },
  {
   "cell_type": "code",
   "execution_count": 65,
   "id": "27c2bf7d",
   "metadata": {},
   "outputs": [
    {
     "data": {
      "text/html": [
       "<div>\n",
       "<style scoped>\n",
       "    .dataframe tbody tr th:only-of-type {\n",
       "        vertical-align: middle;\n",
       "    }\n",
       "\n",
       "    .dataframe tbody tr th {\n",
       "        vertical-align: top;\n",
       "    }\n",
       "\n",
       "    .dataframe thead th {\n",
       "        text-align: right;\n",
       "    }\n",
       "</style>\n",
       "<table border=\"1\" class=\"dataframe\">\n",
       "  <thead>\n",
       "    <tr style=\"text-align: right;\">\n",
       "      <th></th>\n",
       "      <th>total_bill</th>\n",
       "      <th>tip</th>\n",
       "      <th>sex</th>\n",
       "      <th>smoker</th>\n",
       "      <th>day</th>\n",
       "      <th>time</th>\n",
       "      <th>size</th>\n",
       "    </tr>\n",
       "  </thead>\n",
       "  <tbody>\n",
       "    <tr>\n",
       "      <th>0</th>\n",
       "      <td>16.99</td>\n",
       "      <td>1.01</td>\n",
       "      <td>Female</td>\n",
       "      <td>No</td>\n",
       "      <td>Sun</td>\n",
       "      <td>Dinner</td>\n",
       "      <td>2</td>\n",
       "    </tr>\n",
       "    <tr>\n",
       "      <th>1</th>\n",
       "      <td>10.34</td>\n",
       "      <td>1.66</td>\n",
       "      <td>Male</td>\n",
       "      <td>No</td>\n",
       "      <td>Sun</td>\n",
       "      <td>Dinner</td>\n",
       "      <td>3</td>\n",
       "    </tr>\n",
       "    <tr>\n",
       "      <th>2</th>\n",
       "      <td>21.01</td>\n",
       "      <td>3.50</td>\n",
       "      <td>Male</td>\n",
       "      <td>No</td>\n",
       "      <td>Sun</td>\n",
       "      <td>Dinner</td>\n",
       "      <td>3</td>\n",
       "    </tr>\n",
       "    <tr>\n",
       "      <th>3</th>\n",
       "      <td>23.68</td>\n",
       "      <td>3.31</td>\n",
       "      <td>Male</td>\n",
       "      <td>No</td>\n",
       "      <td>Sun</td>\n",
       "      <td>Dinner</td>\n",
       "      <td>2</td>\n",
       "    </tr>\n",
       "    <tr>\n",
       "      <th>4</th>\n",
       "      <td>24.59</td>\n",
       "      <td>3.61</td>\n",
       "      <td>Female</td>\n",
       "      <td>No</td>\n",
       "      <td>Sun</td>\n",
       "      <td>Dinner</td>\n",
       "      <td>4</td>\n",
       "    </tr>\n",
       "    <tr>\n",
       "      <th>...</th>\n",
       "      <td>...</td>\n",
       "      <td>...</td>\n",
       "      <td>...</td>\n",
       "      <td>...</td>\n",
       "      <td>...</td>\n",
       "      <td>...</td>\n",
       "      <td>...</td>\n",
       "    </tr>\n",
       "    <tr>\n",
       "      <th>239</th>\n",
       "      <td>29.03</td>\n",
       "      <td>5.92</td>\n",
       "      <td>Male</td>\n",
       "      <td>No</td>\n",
       "      <td>Sat</td>\n",
       "      <td>Dinner</td>\n",
       "      <td>3</td>\n",
       "    </tr>\n",
       "    <tr>\n",
       "      <th>240</th>\n",
       "      <td>27.18</td>\n",
       "      <td>2.00</td>\n",
       "      <td>Female</td>\n",
       "      <td>Yes</td>\n",
       "      <td>Sat</td>\n",
       "      <td>Dinner</td>\n",
       "      <td>2</td>\n",
       "    </tr>\n",
       "    <tr>\n",
       "      <th>241</th>\n",
       "      <td>22.67</td>\n",
       "      <td>2.00</td>\n",
       "      <td>Male</td>\n",
       "      <td>Yes</td>\n",
       "      <td>Sat</td>\n",
       "      <td>Dinner</td>\n",
       "      <td>2</td>\n",
       "    </tr>\n",
       "    <tr>\n",
       "      <th>242</th>\n",
       "      <td>17.82</td>\n",
       "      <td>1.75</td>\n",
       "      <td>Male</td>\n",
       "      <td>No</td>\n",
       "      <td>Sat</td>\n",
       "      <td>Dinner</td>\n",
       "      <td>2</td>\n",
       "    </tr>\n",
       "    <tr>\n",
       "      <th>243</th>\n",
       "      <td>18.78</td>\n",
       "      <td>3.00</td>\n",
       "      <td>Female</td>\n",
       "      <td>No</td>\n",
       "      <td>Thur</td>\n",
       "      <td>Dinner</td>\n",
       "      <td>2</td>\n",
       "    </tr>\n",
       "  </tbody>\n",
       "</table>\n",
       "<p>244 rows × 7 columns</p>\n",
       "</div>"
      ],
      "text/plain": [
       "     total_bill   tip     sex smoker   day    time  size\n",
       "0         16.99  1.01  Female     No   Sun  Dinner     2\n",
       "1         10.34  1.66    Male     No   Sun  Dinner     3\n",
       "2         21.01  3.50    Male     No   Sun  Dinner     3\n",
       "3         23.68  3.31    Male     No   Sun  Dinner     2\n",
       "4         24.59  3.61  Female     No   Sun  Dinner     4\n",
       "..          ...   ...     ...    ...   ...     ...   ...\n",
       "239       29.03  5.92    Male     No   Sat  Dinner     3\n",
       "240       27.18  2.00  Female    Yes   Sat  Dinner     2\n",
       "241       22.67  2.00    Male    Yes   Sat  Dinner     2\n",
       "242       17.82  1.75    Male     No   Sat  Dinner     2\n",
       "243       18.78  3.00  Female     No  Thur  Dinner     2\n",
       "\n",
       "[244 rows x 7 columns]"
      ]
     },
     "execution_count": 65,
     "metadata": {},
     "output_type": "execute_result"
    }
   ],
   "source": [
    "sns.load_dataset('tips')"
   ]
  },
  {
   "cell_type": "code",
   "execution_count": 66,
   "id": "0bd3df35",
   "metadata": {},
   "outputs": [],
   "source": [
    "df=sns.load_dataset('tips')"
   ]
  },
  {
   "cell_type": "code",
   "execution_count": 67,
   "id": "140e4ca7",
   "metadata": {},
   "outputs": [
    {
     "data": {
      "text/html": [
       "<div>\n",
       "<style scoped>\n",
       "    .dataframe tbody tr th:only-of-type {\n",
       "        vertical-align: middle;\n",
       "    }\n",
       "\n",
       "    .dataframe tbody tr th {\n",
       "        vertical-align: top;\n",
       "    }\n",
       "\n",
       "    .dataframe thead th {\n",
       "        text-align: right;\n",
       "    }\n",
       "</style>\n",
       "<table border=\"1\" class=\"dataframe\">\n",
       "  <thead>\n",
       "    <tr style=\"text-align: right;\">\n",
       "      <th></th>\n",
       "      <th>total_bill</th>\n",
       "      <th>tip</th>\n",
       "      <th>sex</th>\n",
       "      <th>smoker</th>\n",
       "      <th>day</th>\n",
       "      <th>time</th>\n",
       "      <th>size</th>\n",
       "    </tr>\n",
       "  </thead>\n",
       "  <tbody>\n",
       "    <tr>\n",
       "      <th>0</th>\n",
       "      <td>16.99</td>\n",
       "      <td>1.01</td>\n",
       "      <td>Female</td>\n",
       "      <td>No</td>\n",
       "      <td>Sun</td>\n",
       "      <td>Dinner</td>\n",
       "      <td>2</td>\n",
       "    </tr>\n",
       "    <tr>\n",
       "      <th>1</th>\n",
       "      <td>10.34</td>\n",
       "      <td>1.66</td>\n",
       "      <td>Male</td>\n",
       "      <td>No</td>\n",
       "      <td>Sun</td>\n",
       "      <td>Dinner</td>\n",
       "      <td>3</td>\n",
       "    </tr>\n",
       "    <tr>\n",
       "      <th>2</th>\n",
       "      <td>21.01</td>\n",
       "      <td>3.50</td>\n",
       "      <td>Male</td>\n",
       "      <td>No</td>\n",
       "      <td>Sun</td>\n",
       "      <td>Dinner</td>\n",
       "      <td>3</td>\n",
       "    </tr>\n",
       "    <tr>\n",
       "      <th>3</th>\n",
       "      <td>23.68</td>\n",
       "      <td>3.31</td>\n",
       "      <td>Male</td>\n",
       "      <td>No</td>\n",
       "      <td>Sun</td>\n",
       "      <td>Dinner</td>\n",
       "      <td>2</td>\n",
       "    </tr>\n",
       "    <tr>\n",
       "      <th>4</th>\n",
       "      <td>24.59</td>\n",
       "      <td>3.61</td>\n",
       "      <td>Female</td>\n",
       "      <td>No</td>\n",
       "      <td>Sun</td>\n",
       "      <td>Dinner</td>\n",
       "      <td>4</td>\n",
       "    </tr>\n",
       "    <tr>\n",
       "      <th>...</th>\n",
       "      <td>...</td>\n",
       "      <td>...</td>\n",
       "      <td>...</td>\n",
       "      <td>...</td>\n",
       "      <td>...</td>\n",
       "      <td>...</td>\n",
       "      <td>...</td>\n",
       "    </tr>\n",
       "    <tr>\n",
       "      <th>239</th>\n",
       "      <td>29.03</td>\n",
       "      <td>5.92</td>\n",
       "      <td>Male</td>\n",
       "      <td>No</td>\n",
       "      <td>Sat</td>\n",
       "      <td>Dinner</td>\n",
       "      <td>3</td>\n",
       "    </tr>\n",
       "    <tr>\n",
       "      <th>240</th>\n",
       "      <td>27.18</td>\n",
       "      <td>2.00</td>\n",
       "      <td>Female</td>\n",
       "      <td>Yes</td>\n",
       "      <td>Sat</td>\n",
       "      <td>Dinner</td>\n",
       "      <td>2</td>\n",
       "    </tr>\n",
       "    <tr>\n",
       "      <th>241</th>\n",
       "      <td>22.67</td>\n",
       "      <td>2.00</td>\n",
       "      <td>Male</td>\n",
       "      <td>Yes</td>\n",
       "      <td>Sat</td>\n",
       "      <td>Dinner</td>\n",
       "      <td>2</td>\n",
       "    </tr>\n",
       "    <tr>\n",
       "      <th>242</th>\n",
       "      <td>17.82</td>\n",
       "      <td>1.75</td>\n",
       "      <td>Male</td>\n",
       "      <td>No</td>\n",
       "      <td>Sat</td>\n",
       "      <td>Dinner</td>\n",
       "      <td>2</td>\n",
       "    </tr>\n",
       "    <tr>\n",
       "      <th>243</th>\n",
       "      <td>18.78</td>\n",
       "      <td>3.00</td>\n",
       "      <td>Female</td>\n",
       "      <td>No</td>\n",
       "      <td>Thur</td>\n",
       "      <td>Dinner</td>\n",
       "      <td>2</td>\n",
       "    </tr>\n",
       "  </tbody>\n",
       "</table>\n",
       "<p>244 rows × 7 columns</p>\n",
       "</div>"
      ],
      "text/plain": [
       "     total_bill   tip     sex smoker   day    time  size\n",
       "0         16.99  1.01  Female     No   Sun  Dinner     2\n",
       "1         10.34  1.66    Male     No   Sun  Dinner     3\n",
       "2         21.01  3.50    Male     No   Sun  Dinner     3\n",
       "3         23.68  3.31    Male     No   Sun  Dinner     2\n",
       "4         24.59  3.61  Female     No   Sun  Dinner     4\n",
       "..          ...   ...     ...    ...   ...     ...   ...\n",
       "239       29.03  5.92    Male     No   Sat  Dinner     3\n",
       "240       27.18  2.00  Female    Yes   Sat  Dinner     2\n",
       "241       22.67  2.00    Male    Yes   Sat  Dinner     2\n",
       "242       17.82  1.75    Male     No   Sat  Dinner     2\n",
       "243       18.78  3.00  Female     No  Thur  Dinner     2\n",
       "\n",
       "[244 rows x 7 columns]"
      ]
     },
     "execution_count": 67,
     "metadata": {},
     "output_type": "execute_result"
    }
   ],
   "source": [
    "df"
   ]
  },
  {
   "cell_type": "code",
   "execution_count": 68,
   "id": "50ee40bc",
   "metadata": {},
   "outputs": [
    {
     "name": "stderr",
     "output_type": "stream",
     "text": [
      "C:\\Users\\admin\\AppData\\Local\\Temp\\ipykernel_5292\\1134722465.py:1: FutureWarning: The default value of numeric_only in DataFrame.corr is deprecated. In a future version, it will default to False. Select only valid columns or specify the value of numeric_only to silence this warning.\n",
      "  df.corr()\n"
     ]
    },
    {
     "data": {
      "text/html": [
       "<div>\n",
       "<style scoped>\n",
       "    .dataframe tbody tr th:only-of-type {\n",
       "        vertical-align: middle;\n",
       "    }\n",
       "\n",
       "    .dataframe tbody tr th {\n",
       "        vertical-align: top;\n",
       "    }\n",
       "\n",
       "    .dataframe thead th {\n",
       "        text-align: right;\n",
       "    }\n",
       "</style>\n",
       "<table border=\"1\" class=\"dataframe\">\n",
       "  <thead>\n",
       "    <tr style=\"text-align: right;\">\n",
       "      <th></th>\n",
       "      <th>total_bill</th>\n",
       "      <th>tip</th>\n",
       "      <th>size</th>\n",
       "    </tr>\n",
       "  </thead>\n",
       "  <tbody>\n",
       "    <tr>\n",
       "      <th>total_bill</th>\n",
       "      <td>1.000000</td>\n",
       "      <td>0.675734</td>\n",
       "      <td>0.598315</td>\n",
       "    </tr>\n",
       "    <tr>\n",
       "      <th>tip</th>\n",
       "      <td>0.675734</td>\n",
       "      <td>1.000000</td>\n",
       "      <td>0.489299</td>\n",
       "    </tr>\n",
       "    <tr>\n",
       "      <th>size</th>\n",
       "      <td>0.598315</td>\n",
       "      <td>0.489299</td>\n",
       "      <td>1.000000</td>\n",
       "    </tr>\n",
       "  </tbody>\n",
       "</table>\n",
       "</div>"
      ],
      "text/plain": [
       "            total_bill       tip      size\n",
       "total_bill    1.000000  0.675734  0.598315\n",
       "tip           0.675734  1.000000  0.489299\n",
       "size          0.598315  0.489299  1.000000"
      ]
     },
     "execution_count": 68,
     "metadata": {},
     "output_type": "execute_result"
    }
   ],
   "source": [
    "df.corr()"
   ]
  },
  {
   "cell_type": "code",
   "execution_count": 69,
   "id": "c28bc806",
   "metadata": {},
   "outputs": [
    {
     "name": "stderr",
     "output_type": "stream",
     "text": [
      "C:\\Users\\admin\\AppData\\Local\\Temp\\ipykernel_5292\\1545644723.py:1: FutureWarning: The default value of numeric_only in DataFrame.cov is deprecated. In a future version, it will default to False. Select only valid columns or specify the value of numeric_only to silence this warning.\n",
      "  df.cov()\n"
     ]
    },
    {
     "data": {
      "text/html": [
       "<div>\n",
       "<style scoped>\n",
       "    .dataframe tbody tr th:only-of-type {\n",
       "        vertical-align: middle;\n",
       "    }\n",
       "\n",
       "    .dataframe tbody tr th {\n",
       "        vertical-align: top;\n",
       "    }\n",
       "\n",
       "    .dataframe thead th {\n",
       "        text-align: right;\n",
       "    }\n",
       "</style>\n",
       "<table border=\"1\" class=\"dataframe\">\n",
       "  <thead>\n",
       "    <tr style=\"text-align: right;\">\n",
       "      <th></th>\n",
       "      <th>total_bill</th>\n",
       "      <th>tip</th>\n",
       "      <th>size</th>\n",
       "    </tr>\n",
       "  </thead>\n",
       "  <tbody>\n",
       "    <tr>\n",
       "      <th>total_bill</th>\n",
       "      <td>79.252939</td>\n",
       "      <td>8.323502</td>\n",
       "      <td>5.065983</td>\n",
       "    </tr>\n",
       "    <tr>\n",
       "      <th>tip</th>\n",
       "      <td>8.323502</td>\n",
       "      <td>1.914455</td>\n",
       "      <td>0.643906</td>\n",
       "    </tr>\n",
       "    <tr>\n",
       "      <th>size</th>\n",
       "      <td>5.065983</td>\n",
       "      <td>0.643906</td>\n",
       "      <td>0.904591</td>\n",
       "    </tr>\n",
       "  </tbody>\n",
       "</table>\n",
       "</div>"
      ],
      "text/plain": [
       "            total_bill       tip      size\n",
       "total_bill   79.252939  8.323502  5.065983\n",
       "tip           8.323502  1.914455  0.643906\n",
       "size          5.065983  0.643906  0.904591"
      ]
     },
     "execution_count": 69,
     "metadata": {},
     "output_type": "execute_result"
    }
   ],
   "source": [
    "df.cov()"
   ]
  },
  {
   "cell_type": "code",
   "execution_count": 70,
   "id": "a4e51896",
   "metadata": {},
   "outputs": [
    {
     "data": {
      "text/plain": [
       "<Axes: xlabel='tip', ylabel='size'>"
      ]
     },
     "execution_count": 70,
     "metadata": {},
     "output_type": "execute_result"
    },
    {
     "data": {
      "image/png": "[encoded data removed]",
      "text/plain": [
       "<Figure size 640x480 with 1 Axes>"
      ]
     },
     "metadata": {},
     "output_type": "display_data"
    }
   ],
   "source": [
    "sns.scatterplot(x=df['tip'],y=df['size'])"
   ]
  },
  {
   "cell_type": "code",
   "execution_count": 71,
   "id": "a39e079b",
   "metadata": {},
   "outputs": [
    {
     "data": {
      "text/plain": [
       "<Axes: xlabel='tip', ylabel='total_bill'>"
      ]
     },
     "execution_count": 71,
     "metadata": {},
     "output_type": "execute_result"
    },
    {
     "data": {
      "image/png": "[encoded data removed]",
      "text/plain": [
       "<Figure size 640x480 with 1 Axes>"
      ]
     },
     "metadata": {},
     "output_type": "display_data"
    }
   ],
   "source": [
    "sns.scatterplot(x=df['tip'],y=df['total_bill'])"
   ]
  },
  {
   "cell_type": "code",
   "execution_count": 72,
   "id": "c22e7a66",
   "metadata": {},
   "outputs": [],
   "source": [
    "#pdf"
   ]
  },
  {
   "cell_type": "code",
   "execution_count": 73,
   "id": "c79c79fa",
   "metadata": {},
   "outputs": [
    {
     "data": {
      "text/plain": [
       "[23, 24, 32, 45, 12, 43, 67, 45, 32, 56, 32]"
      ]
     },
     "execution_count": 73,
     "metadata": {},
     "output_type": "execute_result"
    }
   ],
   "source": [
    "data"
   ]
  },
  {
   "cell_type": "code",
   "execution_count": 74,
   "id": "538fbfe0",
   "metadata": {},
   "outputs": [],
   "source": [
    "import seaborn as sns"
   ]
  },
  {
   "cell_type": "code",
   "execution_count": 75,
   "id": "88e95cff",
   "metadata": {},
   "outputs": [
    {
     "data": {
      "text/plain": [
       "<Axes: ylabel='Count'>"
      ]
     },
     "execution_count": 75,
     "metadata": {},
     "output_type": "execute_result"
    },
    {
     "data": {
      "image/png": "[encoded data removed]",
      "text/plain": [
       "<Figure size 640x480 with 1 Axes>"
      ]
     },
     "metadata": {},
     "output_type": "display_data"
    }
   ],
   "source": [
    "sns.histplot(data)"
   ]
  },
  {
   "cell_type": "code",
   "execution_count": 76,
   "id": "3c8872f9",
   "metadata": {},
   "outputs": [
    {
     "data": {
      "text/plain": [
       "<Axes: ylabel='Count'>"
      ]
     },
     "execution_count": 76,
     "metadata": {},
     "output_type": "execute_result"
    },
    {
     "data": {
      "image/png": "[encoded data removed]",
      "text/plain": [
       "<Figure size 640x480 with 1 Axes>"
      ]
     },
     "metadata": {},
     "output_type": "display_data"
    }
   ],
   "source": [
    "sns.histplot(data,kde=True)"
   ]
  },
  {
   "cell_type": "code",
   "execution_count": 77,
   "id": "de0c6d31",
   "metadata": {},
   "outputs": [],
   "source": [
    "import pandas as pd\n",
    "data2=pd.read_csv(\"https://raw.githubusercontent.com/sunnysavita10/Statistics_With_Python/main/Iris.csv\")"
   ]
  },
  {
   "cell_type": "code",
   "execution_count": 78,
   "id": "bf1b2ab5",
   "metadata": {},
   "outputs": [
    {
     "data": {
      "text/html": [
       "<div>\n",
       "<style scoped>\n",
       "    .dataframe tbody tr th:only-of-type {\n",
       "        vertical-align: middle;\n",
       "    }\n",
       "\n",
       "    .dataframe tbody tr th {\n",
       "        vertical-align: top;\n",
       "    }\n",
       "\n",
       "    .dataframe thead th {\n",
       "        text-align: right;\n",
       "    }\n",
       "</style>\n",
       "<table border=\"1\" class=\"dataframe\">\n",
       "  <thead>\n",
       "    <tr style=\"text-align: right;\">\n",
       "      <th></th>\n",
       "      <th>Id</th>\n",
       "      <th>SepalLengthCm</th>\n",
       "      <th>SepalWidthCm</th>\n",
       "      <th>PetalLengthCm</th>\n",
       "      <th>PetalWidthCm</th>\n",
       "      <th>Species</th>\n",
       "    </tr>\n",
       "  </thead>\n",
       "  <tbody>\n",
       "    <tr>\n",
       "      <th>0</th>\n",
       "      <td>1</td>\n",
       "      <td>5.1</td>\n",
       "      <td>3.5</td>\n",
       "      <td>1.4</td>\n",
       "      <td>0.2</td>\n",
       "      <td>Iris-setosa</td>\n",
       "    </tr>\n",
       "    <tr>\n",
       "      <th>1</th>\n",
       "      <td>2</td>\n",
       "      <td>4.9</td>\n",
       "      <td>3.0</td>\n",
       "      <td>1.4</td>\n",
       "      <td>0.2</td>\n",
       "      <td>Iris-setosa</td>\n",
       "    </tr>\n",
       "    <tr>\n",
       "      <th>2</th>\n",
       "      <td>3</td>\n",
       "      <td>4.7</td>\n",
       "      <td>3.2</td>\n",
       "      <td>1.3</td>\n",
       "      <td>0.2</td>\n",
       "      <td>Iris-setosa</td>\n",
       "    </tr>\n",
       "    <tr>\n",
       "      <th>3</th>\n",
       "      <td>4</td>\n",
       "      <td>4.6</td>\n",
       "      <td>3.1</td>\n",
       "      <td>1.5</td>\n",
       "      <td>0.2</td>\n",
       "      <td>Iris-setosa</td>\n",
       "    </tr>\n",
       "    <tr>\n",
       "      <th>4</th>\n",
       "      <td>5</td>\n",
       "      <td>5.0</td>\n",
       "      <td>3.6</td>\n",
       "      <td>1.4</td>\n",
       "      <td>0.2</td>\n",
       "      <td>Iris-setosa</td>\n",
       "    </tr>\n",
       "    <tr>\n",
       "      <th>...</th>\n",
       "      <td>...</td>\n",
       "      <td>...</td>\n",
       "      <td>...</td>\n",
       "      <td>...</td>\n",
       "      <td>...</td>\n",
       "      <td>...</td>\n",
       "    </tr>\n",
       "    <tr>\n",
       "      <th>145</th>\n",
       "      <td>146</td>\n",
       "      <td>6.7</td>\n",
       "      <td>3.0</td>\n",
       "      <td>5.2</td>\n",
       "      <td>2.3</td>\n",
       "      <td>Iris-virginica</td>\n",
       "    </tr>\n",
       "    <tr>\n",
       "      <th>146</th>\n",
       "      <td>147</td>\n",
       "      <td>6.3</td>\n",
       "      <td>2.5</td>\n",
       "      <td>5.0</td>\n",
       "      <td>1.9</td>\n",
       "      <td>Iris-virginica</td>\n",
       "    </tr>\n",
       "    <tr>\n",
       "      <th>147</th>\n",
       "      <td>148</td>\n",
       "      <td>6.5</td>\n",
       "      <td>3.0</td>\n",
       "      <td>5.2</td>\n",
       "      <td>2.0</td>\n",
       "      <td>Iris-virginica</td>\n",
       "    </tr>\n",
       "    <tr>\n",
       "      <th>148</th>\n",
       "      <td>149</td>\n",
       "      <td>6.2</td>\n",
       "      <td>3.4</td>\n",
       "      <td>5.4</td>\n",
       "      <td>2.3</td>\n",
       "      <td>Iris-virginica</td>\n",
       "    </tr>\n",
       "    <tr>\n",
       "      <th>149</th>\n",
       "      <td>150</td>\n",
       "      <td>5.9</td>\n",
       "      <td>3.0</td>\n",
       "      <td>5.1</td>\n",
       "      <td>1.8</td>\n",
       "      <td>Iris-virginica</td>\n",
       "    </tr>\n",
       "  </tbody>\n",
       "</table>\n",
       "<p>150 rows × 6 columns</p>\n",
       "</div>"
      ],
      "text/plain": [
       "      Id  SepalLengthCm  SepalWidthCm  PetalLengthCm  PetalWidthCm  \\\n",
       "0      1            5.1           3.5            1.4           0.2   \n",
       "1      2            4.9           3.0            1.4           0.2   \n",
       "2      3            4.7           3.2            1.3           0.2   \n",
       "3      4            4.6           3.1            1.5           0.2   \n",
       "4      5            5.0           3.6            1.4           0.2   \n",
       "..   ...            ...           ...            ...           ...   \n",
       "145  146            6.7           3.0            5.2           2.3   \n",
       "146  147            6.3           2.5            5.0           1.9   \n",
       "147  148            6.5           3.0            5.2           2.0   \n",
       "148  149            6.2           3.4            5.4           2.3   \n",
       "149  150            5.9           3.0            5.1           1.8   \n",
       "\n",
       "            Species  \n",
       "0       Iris-setosa  \n",
       "1       Iris-setosa  \n",
       "2       Iris-setosa  \n",
       "3       Iris-setosa  \n",
       "4       Iris-setosa  \n",
       "..              ...  \n",
       "145  Iris-virginica  \n",
       "146  Iris-virginica  \n",
       "147  Iris-virginica  \n",
       "148  Iris-virginica  \n",
       "149  Iris-virginica  \n",
       "\n",
       "[150 rows x 6 columns]"
      ]
     },
     "execution_count": 78,
     "metadata": {},
     "output_type": "execute_result"
    }
   ],
   "source": [
    "data2"
   ]
  },
  {
   "cell_type": "code",
   "execution_count": 79,
   "id": "3c9cec30",
   "metadata": {},
   "outputs": [
    {
     "data": {
      "text/html": [
       "<div>\n",
       "<style scoped>\n",
       "    .dataframe tbody tr th:only-of-type {\n",
       "        vertical-align: middle;\n",
       "    }\n",
       "\n",
       "    .dataframe tbody tr th {\n",
       "        vertical-align: top;\n",
       "    }\n",
       "\n",
       "    .dataframe thead th {\n",
       "        text-align: right;\n",
       "    }\n",
       "</style>\n",
       "<table border=\"1\" class=\"dataframe\">\n",
       "  <thead>\n",
       "    <tr style=\"text-align: right;\">\n",
       "      <th></th>\n",
       "      <th>Id</th>\n",
       "      <th>SepalLengthCm</th>\n",
       "      <th>SepalWidthCm</th>\n",
       "      <th>PetalLengthCm</th>\n",
       "      <th>PetalWidthCm</th>\n",
       "      <th>Species</th>\n",
       "    </tr>\n",
       "  </thead>\n",
       "  <tbody>\n",
       "    <tr>\n",
       "      <th>0</th>\n",
       "      <td>1</td>\n",
       "      <td>5.1</td>\n",
       "      <td>3.5</td>\n",
       "      <td>1.4</td>\n",
       "      <td>0.2</td>\n",
       "      <td>Iris-setosa</td>\n",
       "    </tr>\n",
       "    <tr>\n",
       "      <th>1</th>\n",
       "      <td>2</td>\n",
       "      <td>4.9</td>\n",
       "      <td>3.0</td>\n",
       "      <td>1.4</td>\n",
       "      <td>0.2</td>\n",
       "      <td>Iris-setosa</td>\n",
       "    </tr>\n",
       "    <tr>\n",
       "      <th>2</th>\n",
       "      <td>3</td>\n",
       "      <td>4.7</td>\n",
       "      <td>3.2</td>\n",
       "      <td>1.3</td>\n",
       "      <td>0.2</td>\n",
       "      <td>Iris-setosa</td>\n",
       "    </tr>\n",
       "    <tr>\n",
       "      <th>3</th>\n",
       "      <td>4</td>\n",
       "      <td>4.6</td>\n",
       "      <td>3.1</td>\n",
       "      <td>1.5</td>\n",
       "      <td>0.2</td>\n",
       "      <td>Iris-setosa</td>\n",
       "    </tr>\n",
       "    <tr>\n",
       "      <th>4</th>\n",
       "      <td>5</td>\n",
       "      <td>5.0</td>\n",
       "      <td>3.6</td>\n",
       "      <td>1.4</td>\n",
       "      <td>0.2</td>\n",
       "      <td>Iris-setosa</td>\n",
       "    </tr>\n",
       "  </tbody>\n",
       "</table>\n",
       "</div>"
      ],
      "text/plain": [
       "   Id  SepalLengthCm  SepalWidthCm  PetalLengthCm  PetalWidthCm      Species\n",
       "0   1            5.1           3.5            1.4           0.2  Iris-setosa\n",
       "1   2            4.9           3.0            1.4           0.2  Iris-setosa\n",
       "2   3            4.7           3.2            1.3           0.2  Iris-setosa\n",
       "3   4            4.6           3.1            1.5           0.2  Iris-setosa\n",
       "4   5            5.0           3.6            1.4           0.2  Iris-setosa"
      ]
     },
     "execution_count": 79,
     "metadata": {},
     "output_type": "execute_result"
    }
   ],
   "source": [
    "data2.head()"
   ]
  },
  {
   "cell_type": "code",
   "execution_count": 80,
   "id": "22b8a889",
   "metadata": {},
   "outputs": [
    {
     "data": {
      "text/plain": [
       "<Axes: xlabel='SepalLengthCm', ylabel='Count'>"
      ]
     },
     "execution_count": 80,
     "metadata": {},
     "output_type": "execute_result"
    },
    {
     "data": {
      "image/png": "[encoded data removed]",
      "text/plain": [
       "<Figure size 640x480 with 1 Axes>"
      ]
     },
     "metadata": {},
     "output_type": "display_data"
    }
   ],
   "source": [
    "sns.histplot(data2['SepalLengthCm'])"
   ]
  },
  {
   "cell_type": "code",
   "execution_count": 81,
   "id": "5b05dd2f",
   "metadata": {},
   "outputs": [
    {
     "data": {
      "text/plain": [
       "<Axes: xlabel='SepalLengthCm', ylabel='Count'>"
      ]
     },
     "execution_count": 81,
     "metadata": {},
     "output_type": "execute_result"
    },
    {
     "data": {
      "image/png": "[encoded data removed]",
      "text/plain": [
       "<Figure size 640x480 with 1 Axes>"
      ]
     },
     "metadata": {},
     "output_type": "display_data"
    }
   ],
   "source": [
    "sns.histplot(data2['SepalLengthCm'],kde=True)"
   ]
  },
  {
   "cell_type": "code",
   "execution_count": 82,
   "id": "cf2fceea",
   "metadata": {},
   "outputs": [
    {
     "data": {
      "text/plain": [
       "<Axes: xlabel='SepalWidthCm', ylabel='Count'>"
      ]
     },
     "execution_count": 82,
     "metadata": {},
     "output_type": "execute_result"
    },
    {
     "data": {
      "image/png": "[encoded data removed]",
      "text/plain": [
       "<Figure size 640x480 with 1 Axes>"
      ]
     },
     "metadata": {},
     "output_type": "display_data"
    }
   ],
   "source": [
    "sns.histplot(data2['SepalWidthCm'],kde=True)"
   ]
  },
  {
   "cell_type": "code",
   "execution_count": 83,
   "id": "3b379403",
   "metadata": {},
   "outputs": [
    {
     "data": {
      "text/plain": [
       "<Axes: xlabel='PetalLengthCm', ylabel='Count'>"
      ]
     },
     "execution_count": 83,
     "metadata": {},
     "output_type": "execute_result"
    },
    {
     "data": {
      "image/png": "[encoded data removed]",
      "text/plain": [
       "<Figure size 640x480 with 1 Axes>"
      ]
     },
     "metadata": {},
     "output_type": "display_data"
    }
   ],
   "source": [
    "sns.histplot(data2['PetalLengthCm'],kde=True)"
   ]
  },
  {
   "cell_type": "code",
   "execution_count": 84,
   "id": "fcdc451f",
   "metadata": {},
   "outputs": [
    {
     "data": {
      "text/plain": [
       "[23, 24, 32, 45, 12, 43, 67, 45, 32, 56, 32]"
      ]
     },
     "execution_count": 84,
     "metadata": {},
     "output_type": "execute_result"
    }
   ],
   "source": [
    "data"
   ]
  },
  {
   "cell_type": "code",
   "execution_count": 85,
   "id": "3fef91d2",
   "metadata": {},
   "outputs": [],
   "source": [
    "data_copy=data.copy()"
   ]
  },
  {
   "cell_type": "code",
   "execution_count": 86,
   "id": "161f8453",
   "metadata": {},
   "outputs": [],
   "source": [
    "data_copy.sort()"
   ]
  },
  {
   "cell_type": "code",
   "execution_count": 87,
   "id": "ab2e28b9",
   "metadata": {},
   "outputs": [
    {
     "data": {
      "text/plain": [
       "[12, 23, 24, 32, 32, 32, 43, 45, 45, 56, 67]"
      ]
     },
     "execution_count": 87,
     "metadata": {},
     "output_type": "execute_result"
    }
   ],
   "source": [
    "data_copy"
   ]
  },
  {
   "cell_type": "code",
   "execution_count": 88,
   "id": "975a8d86",
   "metadata": {},
   "outputs": [],
   "source": [
    "data_copy.append(289)"
   ]
  },
  {
   "cell_type": "code",
   "execution_count": 89,
   "id": "860db25f",
   "metadata": {},
   "outputs": [
    {
     "data": {
      "text/plain": [
       "[12, 23, 24, 32, 32, 32, 43, 45, 45, 56, 67, 289]"
      ]
     },
     "execution_count": 89,
     "metadata": {},
     "output_type": "execute_result"
    }
   ],
   "source": [
    "data_copy"
   ]
  },
  {
   "cell_type": "code",
   "execution_count": 90,
   "id": "f62aaab3",
   "metadata": {},
   "outputs": [
    {
     "data": {
      "text/plain": [
       "<Axes: ylabel='Count'>"
      ]
     },
     "execution_count": 90,
     "metadata": {},
     "output_type": "execute_result"
    },
    {
     "data": {
      "image/png": "[encoded data removed]",
      "text/plain": [
       "<Figure size 640x480 with 1 Axes>"
      ]
     },
     "metadata": {},
     "output_type": "display_data"
    }
   ],
   "source": [
    "sns.histplot(data_copy,kde=True)"
   ]
  },
  {
   "cell_type": "code",
   "execution_count": 91,
   "id": "7cfd7443",
   "metadata": {},
   "outputs": [
    {
     "data": {
      "text/plain": [
       "[23, 24, 32, 45, 12, 43, 67, 45, 32, 56, 32]"
      ]
     },
     "execution_count": 91,
     "metadata": {},
     "output_type": "execute_result"
    }
   ],
   "source": [
    "data"
   ]
  },
  {
   "cell_type": "code",
   "execution_count": 92,
   "id": "7c6ed3a2",
   "metadata": {},
   "outputs": [],
   "source": [
    "data_copy2=data.copy()"
   ]
  },
  {
   "cell_type": "code",
   "execution_count": 93,
   "id": "1c4283f0",
   "metadata": {},
   "outputs": [
    {
     "data": {
      "text/plain": [
       "[23, 24, 32, 45, 12, 43, 67, 45, 32, 56, 32]"
      ]
     },
     "execution_count": 93,
     "metadata": {},
     "output_type": "execute_result"
    }
   ],
   "source": [
    "data_copy2"
   ]
  },
  {
   "cell_type": "code",
   "execution_count": 94,
   "id": "b1808cab",
   "metadata": {},
   "outputs": [],
   "source": [
    "data_copy2[0]=-10"
   ]
  },
  {
   "cell_type": "code",
   "execution_count": 95,
   "id": "33496d77",
   "metadata": {},
   "outputs": [
    {
     "data": {
      "text/plain": [
       "[-10, 24, 32, 45, 12, 43, 67, 45, 32, 56, 32]"
      ]
     },
     "execution_count": 95,
     "metadata": {},
     "output_type": "execute_result"
    }
   ],
   "source": [
    "data_copy2"
   ]
  },
  {
   "cell_type": "code",
   "execution_count": 96,
   "id": "aec7cd8b",
   "metadata": {},
   "outputs": [],
   "source": [
    "data_copy2[1]=-75"
   ]
  },
  {
   "cell_type": "code",
   "execution_count": 97,
   "id": "4263ee44",
   "metadata": {},
   "outputs": [
    {
     "data": {
      "text/plain": [
       "[-10, -75, 32, 45, 12, 43, 67, 45, 32, 56, 32]"
      ]
     },
     "execution_count": 97,
     "metadata": {},
     "output_type": "execute_result"
    }
   ],
   "source": [
    "data_copy2"
   ]
  },
  {
   "cell_type": "code",
   "execution_count": 98,
   "id": "25a48adc",
   "metadata": {},
   "outputs": [
    {
     "data": {
      "text/plain": [
       "<Axes: ylabel='Count'>"
      ]
     },
     "execution_count": 98,
     "metadata": {},
     "output_type": "execute_result"
    },
    {
     "data": {
      "image/png": "[encoded data removed]",
      "text/plain": [
       "<Figure size 640x480 with 1 Axes>"
      ]
     },
     "metadata": {},
     "output_type": "display_data"
    }
   ],
   "source": [
    "sns.histplot(data_copy2,kde=True)"
   ]
  },
  {
   "cell_type": "code",
   "execution_count": 99,
   "id": "c5d9ae5e",
   "metadata": {},
   "outputs": [
    {
     "data": {
      "text/plain": [
       "<Axes: xlabel='PetalWidthCm', ylabel='Count'>"
      ]
     },
     "execution_count": 99,
     "metadata": {},
     "output_type": "execute_result"
    },
    {
     "data": {
      "image/png": "[encoded data removed]",
      "text/plain": [
       "<Figure size 640x480 with 1 Axes>"
      ]
     },
     "metadata": {},
     "output_type": "display_data"
    }
   ],
   "source": [
    "sns.histplot(data2['PetalWidthCm'],kde=True)"
   ]
  },
  {
   "cell_type": "code",
   "execution_count": 100,
   "id": "23bbf46e",
   "metadata": {},
   "outputs": [
    {
     "data": {
      "text/plain": [
       "array([ 0.50898856,  0.6842212 ,  0.6125531 ,  0.46570187,  0.52343869,\n",
       "        0.23663843,  0.49202686,  0.12805091, -0.02558248,  0.7596523 ,\n",
       "        0.31056513,  0.64737192,  0.42909919,  0.17670074,  0.91906034,\n",
       "        0.33495085,  0.74299061,  0.35817066,  0.39262904,  0.76661325,\n",
       "        0.47968197,  0.2950246 ,  0.04034354,  0.45049762,  0.60295135,\n",
       "        0.74658905,  0.55275936,  0.49614706,  0.52181172,  0.89694157,\n",
       "        0.35954676,  0.22024032,  0.63885677,  0.58004258,  0.28866749,\n",
       "        0.75724288,  0.72103124,  0.70893503,  0.17008932,  0.36380718,\n",
       "        0.6835828 ,  0.49908329,  0.41067101,  0.49124843,  0.8033122 ,\n",
       "        0.79982379,  0.49535841,  0.64486699,  0.5577878 ,  0.32714961,\n",
       "        0.70602724,  0.45229315,  0.1602298 ,  0.5973046 ,  0.32308004,\n",
       "        0.3948682 ,  0.55648611,  0.15844178,  0.6021557 ,  0.76697204,\n",
       "        0.45308333,  0.72307773,  0.52574951,  0.34057661,  0.46215095,\n",
       "        0.25668794,  0.65236006,  0.46881666,  0.92118302,  0.68161179,\n",
       "        0.59149114,  0.34312517,  0.47683866,  0.43371744,  0.40795661,\n",
       "        0.52691809,  0.71904314,  0.16330692,  0.81315037,  0.50671235,\n",
       "        0.50804369,  0.62533832,  0.77850671,  0.42565894,  0.48491791,\n",
       "        0.29669539,  0.53230137,  0.70476975,  0.48516695,  0.71985411,\n",
       "        0.69880388,  0.36595171,  0.23282823,  0.5284512 ,  0.38660889,\n",
       "        0.86973574,  0.63002502,  0.51729473,  0.55868405,  0.64236088,\n",
       "        0.4146695 ,  0.5984027 ,  0.84136354,  0.58169982,  0.74844174,\n",
       "        0.38539371,  0.52684905,  0.65643645,  0.64244901,  0.48770336,\n",
       "        0.1675417 ,  0.74383397,  0.36589788,  0.38426239,  0.39218188,\n",
       "        0.36096449,  0.42493302,  0.62649712,  0.48346525,  0.73246739,\n",
       "        1.02504896,  0.51993427,  0.10462377,  0.01682615,  0.60194313,\n",
       "        0.57799245,  0.78237384,  0.58186839,  0.24633371,  0.44856486,\n",
       "        0.12852494,  0.18626716,  0.11282303,  0.46292666,  0.28875471,\n",
       "        0.50055466,  0.82354108,  0.42039346,  0.10975946,  0.61968505,\n",
       "        0.69870834,  0.52845662,  0.92848347,  0.75630422,  0.41492863,\n",
       "        0.3110467 ,  0.15902084,  0.54516227,  0.44993973,  0.52416473,\n",
       "        0.67059979,  0.28212619,  0.4856426 ,  0.6766115 ,  0.37733932,\n",
       "        0.56603569,  0.59397323,  0.42908026,  0.59860732,  0.46030319,\n",
       "        0.59772002,  0.5268046 ,  0.41674677,  0.52106195,  0.61707574,\n",
       "        0.41626062,  0.38955017,  0.20611487,  0.53878793,  0.49947403,\n",
       "        0.64760972,  0.5639822 ,  0.79866557,  0.72214673, -0.05230156,\n",
       "        0.89179414,  0.49122998,  0.64948052,  0.4197132 ,  0.62329914,\n",
       "        0.31193897,  0.35265701,  0.18666601,  0.99469259,  0.36331641,\n",
       "        0.34262318,  0.3918831 ,  0.75614985,  0.24781247,  0.33379552,\n",
       "        0.57021634,  0.52670987,  0.45968966,  0.32200077,  0.45834044,\n",
       "        0.43136304,  0.54310663,  0.44983628,  0.65726418,  0.51917019,\n",
       "        0.16326258,  0.40390245,  0.42651832,  0.414551  ,  0.64061188,\n",
       "        0.48619622,  0.40395377,  0.64696422,  0.76903355,  0.58026841,\n",
       "        0.59872288,  0.65009624,  0.23227774,  0.44265105,  0.2577231 ,\n",
       "        0.81989377,  0.43618791,  0.34048836,  0.56997421,  0.457373  ,\n",
       "        0.32048546,  0.47467783,  0.78582807,  0.58437058,  0.71447465,\n",
       "        0.56710663,  0.52987363,  0.79739597,  0.41884553,  0.48468411,\n",
       "        0.34014713,  0.54659082, -0.0182786 ,  0.44848097,  0.48977011,\n",
       "        0.38693804,  0.25590144,  0.39460992,  0.63514692,  0.15610604,\n",
       "        0.23563147,  0.52743614,  0.46647304,  0.61393127,  0.19929174,\n",
       "        0.76643096,  0.3097142 ,  0.83795529,  0.52825707,  0.51667152,\n",
       "        0.42151044,  0.24104087,  0.52790735,  0.51380162,  0.60641845,\n",
       "        0.67227048,  0.53703767,  0.21784595,  0.32477133,  0.06305231,\n",
       "        0.46127701,  0.39967802,  0.28638897,  0.64007857,  0.53050196,\n",
       "        0.2595354 ,  0.41784001,  1.16670821,  0.52894839,  0.4553489 ,\n",
       "        0.52789647,  0.60125   ,  0.78373665,  0.88859808,  0.90888518,\n",
       "        0.52617048,  0.61971258,  0.82663669,  0.3703515 ,  0.51653599,\n",
       "        0.33508451,  0.4941654 ,  0.12474895,  0.6454261 ,  0.12045825,\n",
       "        0.46568987,  0.85897326,  0.63534286,  0.71243645,  0.24660256,\n",
       "        0.23389584,  0.65661177,  0.25991555,  0.07304135,  0.20587166,\n",
       "        0.65446403,  0.81207555,  0.63962257,  0.32593133,  0.64499851,\n",
       "        0.18124262,  0.26863523,  0.6710974 ,  0.6051902 ,  0.48048018,\n",
       "        0.48651967,  0.50118598,  0.55061236,  0.85222736,  0.99058359,\n",
       "       -0.12853867,  0.74103115,  0.02836711,  0.49938703,  0.3889167 ,\n",
       "        0.3357188 ,  0.56844748,  0.38814299,  0.01482379,  0.36665354,\n",
       "        0.45770809,  0.85639352,  0.08380889,  0.51884229,  0.49798734,\n",
       "        0.45778427,  0.43546679,  0.34010472,  0.44070128,  0.64521854,\n",
       "       -0.01665775,  0.10892887,  0.45826237,  0.61700386,  0.38725348,\n",
       "        0.37201287,  0.72069003,  0.61941898,  0.41307537,  0.13119261,\n",
       "        0.82480076,  0.51514359,  0.217125  ,  0.45635055,  0.33478671,\n",
       "        0.93629127,  0.21642012,  0.8194971 ,  0.31047614,  0.48798217,\n",
       "        0.62866829,  0.36291559,  0.40773142,  0.47835521,  0.24453779,\n",
       "        0.62981578,  0.64496054,  0.79081696,  0.5389741 ,  0.38286139,\n",
       "        0.53035732,  0.42015879,  0.5174391 ,  0.2905494 ,  0.47710003,\n",
       "        0.5487116 ,  0.30796395,  0.55037584,  0.57624129,  0.44062377,\n",
       "        0.59365663,  0.58158932,  0.27945988,  0.4982106 ,  0.58324012,\n",
       "        0.32218739,  0.24779657,  0.43358259,  0.45269438,  0.52670814,\n",
       "        0.45929814,  0.51731462,  0.47223339,  0.51715893,  0.43977667,\n",
       "        0.58101665,  0.7758629 ,  0.69760367,  0.46538032,  0.61728992,\n",
       "        0.3924383 ,  0.75528397,  0.31293834,  0.53994864,  0.04620385,\n",
       "        0.39134387,  0.42709264,  0.57756   ,  0.44614725,  0.63385378,\n",
       "        0.7059249 ,  0.59635142,  0.50896756,  0.70484696,  0.46723643,\n",
       "        0.50171777,  0.64730785,  0.61131718,  0.40892639,  0.83866363,\n",
       "        0.28823587,  0.70594029,  0.31417697,  0.49259232,  0.06149227,\n",
       "        0.42884914,  0.32777729,  0.74534859,  0.68423519,  0.02748423,\n",
       "        0.66932537,  0.1315736 ,  0.71621114,  0.22934728,  0.51764037,\n",
       "        0.44238145,  0.42227526,  0.51568329,  0.1916125 ,  0.17540272,\n",
       "        0.5569135 ,  0.65947067,  0.5168821 ,  0.47561383,  0.65943856,\n",
       "        0.45524616,  0.51953209,  0.44867207,  0.3682151 ,  0.52316431,\n",
       "        0.28389748,  0.59861342,  0.39790235,  0.51296789,  0.54606005,\n",
       "        0.60846318,  0.4745266 ,  0.24660883,  0.76472371,  0.64165139,\n",
       "        0.49129375, -0.10027471,  0.59691396,  0.20115344,  0.97683567,\n",
       "        0.61634971,  0.68163654,  0.80358411,  0.44501609,  0.72516154,\n",
       "        0.57861444,  0.67294852,  0.68608562,  0.55704371,  0.41010687,\n",
       "        0.55361376,  0.37535934,  0.44452031,  0.67568209,  0.7083487 ,\n",
       "        0.44698907,  0.61159126,  0.38674302,  0.44242674,  0.57484806,\n",
       "        0.29089801,  0.44658473,  0.01078667,  0.65095648,  0.17121386,\n",
       "        0.61789096,  0.34663204,  0.48140742,  0.37846768,  0.24856872,\n",
       "        0.50234384,  0.55013473,  0.4895847 ,  0.34000448,  0.55925495,\n",
       "        0.26756959,  0.56267053,  0.21315388,  0.2742573 ,  0.26291402,\n",
       "        0.33474483,  0.36675997,  0.32937337,  0.35767504,  0.45417827,\n",
       "        0.43324403,  0.52571428,  0.30241808,  0.50697289,  0.41080279,\n",
       "        0.53180638,  0.48733167,  0.34097992,  0.33107563,  0.27787141,\n",
       "        0.44630947,  0.4579881 ,  0.69092154,  0.3451941 ,  0.73020653,\n",
       "        0.46962796,  0.35575413,  0.92858972,  0.91063259,  0.36184793,\n",
       "        0.31088394,  0.8741366 ,  0.67758328,  0.47038393,  0.43977358,\n",
       "        0.44631827,  0.29635553,  0.70577697,  0.47435891,  0.42425317,\n",
       "        0.58423871,  0.73837029,  0.3992633 ,  0.52448143,  0.54829674,\n",
       "        0.44213694,  0.46020141,  0.59778818,  0.71897644,  0.19073772,\n",
       "        0.06255089,  0.56974206,  0.43162994,  0.47717678,  0.54030917,\n",
       "        0.81713847,  0.86889798,  0.88198176,  0.73013423,  0.693914  ,\n",
       "        0.21864679,  0.93634376,  0.06517001,  0.47489103,  0.48896192,\n",
       "        0.390979  ,  0.24271256,  0.08151254,  0.33801522,  0.58378901,\n",
       "        0.50270677,  0.67215489,  0.56840756,  0.33054359,  0.42550995,\n",
       "        0.4678779 ,  0.5073363 ,  0.29063802,  0.70297506,  0.76235701,\n",
       "        0.55278414,  0.35100566,  0.63761227,  0.41488569,  0.69526058,\n",
       "        0.24141586,  0.49144235,  0.87218116,  0.38886122,  0.54683722,\n",
       "        0.31883888, -0.00502611,  0.53612913,  0.27003997,  0.51344021,\n",
       "        0.46775178, -0.02752463,  0.50636857,  0.70891142,  0.69768389,\n",
       "        0.27430777,  0.59955303,  0.48188706,  0.24145602,  0.49957643,\n",
       "        0.38339163,  0.70518696,  0.41882583,  0.60738735,  0.7349763 ,\n",
       "        0.69791472,  0.55669213,  0.67678062,  0.50956602,  0.72586134,\n",
       "        0.57229796,  0.59974502,  0.60569224,  0.57044543,  0.29245166,\n",
       "        0.43911206,  0.27353485,  0.39372052,  0.5609951 ,  0.44942109,\n",
       "       -0.01239839,  0.83855121,  0.5847233 ,  0.70352887,  0.46219692,\n",
       "        0.32948303,  0.4693296 ,  0.61486259,  0.52949012,  0.78535767,\n",
       "        0.44641145,  0.2951147 ,  0.33728641,  0.28311951,  0.42081509,\n",
       "        0.59263766,  0.89151455,  0.82403854,  0.47796908,  0.50878929,\n",
       "        0.47622269,  0.01820256,  0.36088253,  0.75242989,  0.37689563,\n",
       "        0.19543805,  0.59537272,  0.6847923 ,  0.22190261,  0.72866186,\n",
       "        0.4276239 ,  0.59539991,  0.48203769,  0.32578865,  0.62633779,\n",
       "        0.85777204,  0.48591499,  0.50704167,  0.45389585,  0.26722005,\n",
       "        0.84294794,  0.59185523,  0.57873458,  0.49797787,  0.54212957,\n",
       "        0.31430084,  0.85526481,  0.52882804,  0.56924527,  0.30091344,\n",
       "        0.38479031,  0.59916391,  0.61071296,  0.56597821,  0.41711303,\n",
       "        0.4262519 ,  0.43767591,  0.26850819,  0.57729302,  0.5819647 ,\n",
       "        0.91471861,  0.55300893,  0.83324911,  0.91091553,  0.32133468,\n",
       "        0.33581048,  0.34606428,  0.61174649,  0.42647437,  0.39802337,\n",
       "        0.43242042,  0.42915035,  0.35368217,  0.30698819,  0.31577137,\n",
       "        0.42275506,  0.32619877,  0.32544326,  0.39137382,  0.71508033,\n",
       "        0.37550886,  0.54233526,  0.51620042,  0.64922297,  0.68101973,\n",
       "        0.69257363,  0.71951194,  0.70728562,  0.28785305,  0.3727432 ,\n",
       "        0.73435602,  0.4649448 ,  0.90049945, -0.02638067,  0.49436068,\n",
       "        0.84573125,  0.48363688,  0.45664162,  0.48888306,  0.33549436,\n",
       "        0.36568454,  0.7211819 ,  0.63926672,  0.25694149,  0.63231936,\n",
       "        0.36910101,  0.56372753,  0.38725399,  0.26328189,  0.24140004,\n",
       "        0.05991201,  0.47559542,  0.53239679,  0.33105903,  0.53448091,\n",
       "        0.57864084,  0.60934378,  0.47646213,  0.55187939,  0.8226361 ,\n",
       "        0.63060825,  0.28587626,  0.55334905,  0.86231587,  0.38588052,\n",
       "        0.38895933,  0.22270208,  0.41738112,  0.32166791,  0.18499927,\n",
       "        0.74712275,  0.34573941,  0.42701979,  0.13056607,  0.37985836,\n",
       "        0.78798116,  0.46043474,  0.64017968,  0.51798006,  0.35042391,\n",
       "        0.33290596,  0.54366516,  0.36128385,  0.59424713,  0.33738784,\n",
       "        0.62508034,  0.51174773,  0.55185901,  0.38930745,  0.43875114,\n",
       "        0.442935  ,  0.04385849,  0.29877577,  0.52648589,  0.56877052,\n",
       "        0.53171916,  0.26854544,  0.65779344,  0.31694396,  0.30150836,\n",
       "        0.49110455,  0.45581521,  0.80590319,  0.53664843,  0.81347729,\n",
       "        0.80113414,  0.57527324,  0.35165431,  0.43259372,  0.63802235,\n",
       "        0.76339404,  0.36209917,  0.29234124,  0.43969671,  0.41292515,\n",
       "       -0.015806  ,  0.53099639,  0.25249294,  0.59926906,  0.75435391,\n",
       "        0.70389327,  0.53997352,  0.37659295,  0.48598634,  0.47297435,\n",
       "        0.12319117,  0.55866621,  0.51839164,  0.5224546 ,  0.8224669 ,\n",
       "        0.32067076,  0.76138895,  0.7230327 ,  0.51282236,  0.54168138,\n",
       "        0.5168448 ,  0.29904982,  0.35488545,  0.72015575,  0.61997009,\n",
       "        0.91842092,  0.75150237,  0.49212225,  0.44490126,  0.81473618,\n",
       "        0.48308085,  0.65437681,  0.74455688,  0.57554362,  0.29708248,\n",
       "        0.37245735,  0.61125648,  0.13804371,  0.3539613 ,  0.61544171,\n",
       "        0.3712271 ,  0.5444969 ,  0.517643  ,  0.4370077 ,  0.59239537,\n",
       "        0.57250968,  0.46951015,  0.3579039 ,  0.37696867,  0.2908995 ,\n",
       "        0.7407081 ,  0.55234847,  0.23704523,  0.4153612 ,  0.27788654,\n",
       "        0.25339743,  0.33087053,  0.57436588,  0.64774308,  0.20553586,\n",
       "        0.28845097,  0.65025744,  0.43288244,  0.45307043,  0.61471602,\n",
       "        0.40088192,  0.44936164,  0.33987448,  0.18192759,  0.56672209,\n",
       "        0.45713814,  0.63250275,  0.70106834,  0.54232791,  0.75284454,\n",
       "        0.33895947,  0.46860963,  0.35974921,  0.54791254,  0.78441081,\n",
       "        0.67322208,  0.8125767 ,  0.48735236,  0.46210413,  0.66511429,\n",
       "        0.44537177,  0.22307595,  0.72136343,  0.37982514,  0.52899736,\n",
       "        0.35930641,  0.26391917,  0.60770116,  0.58913152,  0.59308556,\n",
       "        0.49544065,  0.28354499,  0.4144145 ,  0.59359181,  0.62372518,\n",
       "        0.19027239,  0.43938927,  0.30675353,  0.58705824,  0.22614733,\n",
       "        0.5262324 ,  0.58964582,  0.37637734,  0.68746524,  0.59690546,\n",
       "        0.52550895,  0.42707117,  0.4220959 ,  0.65017639,  0.57777559,\n",
       "        0.56606743,  0.71272193,  0.46792892,  0.47364566,  0.51466453,\n",
       "        0.41795107,  0.59236135,  0.45856397,  0.74076018,  0.42770027,\n",
       "        0.16021515,  0.65346785,  0.42605182,  0.70170712,  0.36283545,\n",
       "        0.53032223,  0.48084995,  0.43201149,  0.72664989,  0.40042201,\n",
       "        0.29469024,  0.50903899,  0.31690718,  0.57164334,  0.69206695,\n",
       "        0.47641778,  0.38398436,  0.7903465 ,  0.67285854,  0.53307809,\n",
       "        0.68099263,  0.42267046,  0.60934348,  0.36252908,  0.35266945,\n",
       "        0.70187688,  0.47089983,  0.3872937 ,  0.49657215,  0.86758881,\n",
       "        0.63158703,  0.44537037,  0.51627796,  0.93443379,  0.365431  ,\n",
       "        0.20965294,  0.7326679 , -0.05428632,  0.48657253,  0.4191345 ,\n",
       "        0.38906604,  0.57010069,  0.59612389,  0.33506739,  0.38318592,\n",
       "        0.46925072,  0.49923095,  0.58647365,  0.33217851,  0.25804554,\n",
       "        0.56663936,  0.6647238 ,  0.43264644,  0.46468133,  0.43388352,\n",
       "        0.51732751,  0.35402724,  0.43936497,  0.77298075,  0.44948947,\n",
       "        0.51989936,  0.85876032,  0.29189712,  0.67282962,  0.27555133,\n",
       "        0.54058727,  0.57033616,  0.70058093,  0.29807195,  0.46224024,\n",
       "        0.65326876,  0.40215599,  0.15612869,  0.32383993,  0.85761238,\n",
       "        0.2904668 ,  0.29419394,  0.27717184,  0.37825427,  0.34095366,\n",
       "        0.41266631,  0.21054124,  0.3645917 ,  0.65309651,  0.87749216])"
      ]
     },
     "execution_count": 100,
     "metadata": {},
     "output_type": "execute_result"
    }
   ],
   "source": [
    "import numpy as np\n",
    "np.random.normal(0.5,0.2,1000)"
   ]
  },
  {
   "cell_type": "code",
   "execution_count": 101,
   "id": "f17e2b0e",
   "metadata": {},
   "outputs": [],
   "source": [
    "s=np.random.normal(0.5,0.2,1000)"
   ]
  },
  {
   "cell_type": "code",
   "execution_count": 102,
   "id": "82795d13",
   "metadata": {},
   "outputs": [
    {
     "data": {
      "text/plain": [
       "array([ 0.87318215,  0.47127734,  0.25197018,  0.54824776,  0.73835173,\n",
       "        0.7770341 ,  0.41254421,  0.40644637,  0.44617087,  0.05374699,\n",
       "        0.32796161,  0.61241973,  0.7740421 ,  0.23857009,  0.69418446,\n",
       "        0.59477552,  0.68140918,  0.32614668,  0.91918392,  0.2618563 ,\n",
       "        0.4706119 , -0.04654   ,  0.59260861,  0.43445006,  0.68153401,\n",
       "        0.55418149,  0.56570979,  1.0577073 ,  0.53422502,  0.78247833,\n",
       "       -0.01320573,  0.57893881,  0.84324368,  0.27987783,  0.39224804,\n",
       "        0.39586686,  0.49819831,  0.00529907,  0.5490862 ,  0.52349219,\n",
       "        0.40847985,  0.40042794,  0.32110941,  0.43130848,  0.76943438,\n",
       "        0.07340472,  0.68204395,  0.38109748,  0.66794276,  0.38497255,\n",
       "        0.65728782,  0.62081131,  0.42586983,  0.72877814,  0.25026743,\n",
       "        0.29890972,  0.57899189,  0.26485721,  0.36523595,  0.97985374,\n",
       "        0.3742289 ,  0.35523518,  0.41435922,  0.34863811,  0.52608743,\n",
       "        0.26846085,  0.33683671,  0.67236528,  0.39455692,  0.76818039,\n",
       "        0.43827728,  0.40239415,  0.13119904,  0.20471662,  0.43265186,\n",
       "        0.79870326,  0.43907059,  0.86920567,  0.62866181,  0.94162302,\n",
       "        0.60362176,  0.66342242,  0.6256382 ,  0.63232466,  0.44088851,\n",
       "        0.2311197 ,  0.53175315,  0.36121229,  0.06772066,  0.58512379,\n",
       "        0.60408039,  0.18759995,  0.42783307,  0.43339169, -0.05135668,\n",
       "        0.31600238,  0.48340998,  0.54990278,  0.53152498,  0.36452763,\n",
       "        0.66746465,  0.34019045,  0.47103677,  0.4624958 ,  0.58258993,\n",
       "        0.40814407,  0.88993168,  0.58066342,  0.35034898,  0.34689473,\n",
       "        0.47226652,  0.66229097,  0.58830938,  0.46426924,  0.46194445,\n",
       "        0.20822012,  0.75932554,  0.60211502,  0.74230604,  0.46380804,\n",
       "        0.47031416,  0.465362  ,  0.37705116,  0.65026971,  0.06964922,\n",
       "        0.61061158,  0.49955961,  0.49063517,  0.4023936 ,  0.4903599 ,\n",
       "        0.84921274,  0.63059442,  0.29771511,  0.14607665,  0.70416782,\n",
       "        0.69550703,  0.3151947 ,  0.42338362,  0.39863343,  0.29285858,\n",
       "        0.68929437,  0.41237144,  0.39395379,  0.71010565,  0.43655119,\n",
       "        0.16363826,  0.4333885 ,  0.33484829,  0.43238453,  0.65158762,\n",
       "        0.36449018,  0.70049596,  0.64530255,  0.32267473,  0.53172104,\n",
       "        0.71872931,  0.56167384,  0.80056382,  0.12671589,  0.48466332,\n",
       "        0.32789121,  0.22965268,  0.38773187,  0.50643153,  0.43282683,\n",
       "        0.76099162,  0.37273268,  0.39038547,  0.64292565,  0.27068075,\n",
       "        0.52689534,  0.60009487,  0.37570283,  0.55728042,  0.4375251 ,\n",
       "        0.22418058,  0.63220644,  0.39504572,  0.39288767,  0.5161709 ,\n",
       "        0.27605677,  0.41428673,  0.2472335 ,  0.5689412 ,  0.02692428,\n",
       "        0.3738579 ,  0.73713588,  0.20202383,  0.21210512,  0.60765508,\n",
       "        0.76888176,  0.59903286,  0.51971169,  0.46207418,  0.16222091,\n",
       "        0.148055  ,  0.56379419,  0.28226666,  0.68022065,  0.57235077,\n",
       "        0.68462381,  0.76696665,  0.707482  ,  0.52953673,  0.60591882,\n",
       "        0.62303458,  0.72240683,  0.61392064,  0.68318973,  0.35793075,\n",
       "        0.78481328,  0.41629433,  0.38416028,  0.49020622,  0.54338992,\n",
       "        0.26617328,  1.0529767 ,  0.50848964,  0.130759  ,  0.3582684 ,\n",
       "        0.39462161,  0.61283025,  0.52369324,  0.29464391,  0.53580692,\n",
       "        0.46398981,  0.49037334,  0.4451667 ,  0.73059846,  0.8810878 ,\n",
       "        0.67698064,  0.63283928,  0.35395367,  0.76686875,  0.506617  ,\n",
       "        0.19794748,  0.44260121,  0.60901922,  0.7927441 ,  0.19954453,\n",
       "        0.50796949,  0.4582157 ,  0.3799141 ,  0.63108001,  0.61779561,\n",
       "        0.40282844,  0.43282624,  0.44548433,  0.60344246,  0.4940619 ,\n",
       "        0.64876282,  0.45423816,  0.25706743,  0.71226392,  0.60049317,\n",
       "        0.76630319,  0.65763434,  0.06818318,  0.8978841 ,  0.41372877,\n",
       "        0.51804246,  0.63498143,  0.38786259,  0.34128266,  0.48896141,\n",
       "        0.37090228,  0.56245276,  0.26303371,  0.33664854,  0.4269706 ,\n",
       "        0.42057541,  0.18491733,  0.80586861,  0.5618289 ,  0.36745902,\n",
       "        0.85872663,  0.33180825,  0.6714737 ,  0.33243461,  0.58891661,\n",
       "        0.69740384,  0.67068928,  0.36598836,  0.42858915,  0.3785908 ,\n",
       "        0.39858191,  0.42135034,  0.4151441 ,  0.42452322,  0.40861802,\n",
       "        0.81657436,  0.6600717 ,  0.47363637,  0.42064498,  0.46512258,\n",
       "        0.39702001,  0.91216104,  0.37433472,  0.68817128,  0.46231548,\n",
       "        0.47920988,  0.59587122,  0.15013443,  0.15824745,  0.40757691,\n",
       "        0.68896914,  0.44085035,  0.64918368,  0.17443407,  0.82730409,\n",
       "        0.8085178 ,  0.65504614,  0.51442168,  0.47202008,  0.38645682,\n",
       "        0.24148937,  0.64492959,  0.55596956,  0.18202273,  0.25537167,\n",
       "        0.31908488,  0.92043015,  0.51379369,  0.52705956,  0.54924602,\n",
       "        0.71334843,  0.18031183,  0.17095065,  0.58027377,  0.44655641,\n",
       "        0.48799522,  0.74756045,  0.56505547,  0.54720785,  0.262916  ,\n",
       "        0.19766265,  0.68805488,  0.38814881,  0.73699308,  0.34266998,\n",
       "        0.58636073,  0.58821309,  0.61658448,  0.47481155,  0.33207488,\n",
       "        0.97149402,  0.54878906,  0.41973581,  0.36579064,  0.68572227,\n",
       "        0.29318552,  0.49636192,  0.37002757,  0.43166481,  0.27087288,\n",
       "        0.50795257,  0.52101571,  0.47569816,  0.77630905,  0.32525302,\n",
       "        0.73643544,  0.43258162,  0.05789425,  0.25319964,  0.44237841,\n",
       "        0.45501201,  0.12819618,  0.72153533,  0.52724127,  0.68576312,\n",
       "        0.45973256,  0.40574734,  0.41999902,  0.29783877,  0.48635309,\n",
       "        0.4464111 ,  0.29995006,  0.46535866,  0.50570378,  0.18293028,\n",
       "        0.54656563,  0.55967009,  0.30233455,  0.67245249,  0.55683532,\n",
       "        0.55062209,  0.60091918,  0.33737501,  0.81496613,  0.2371357 ,\n",
       "        0.55339748,  0.41265501,  0.57099788,  0.73650848,  0.74956952,\n",
       "        0.59486131,  0.25526232,  0.80094428,  0.75770695,  0.7182494 ,\n",
       "        0.80239473,  0.57747676,  0.80494447,  0.52412697,  0.6047724 ,\n",
       "        0.42370422,  0.68463888,  0.01959404,  0.45715042,  0.45169571,\n",
       "        0.18190783,  0.37531505,  0.31952977,  0.38839268,  0.73213014,\n",
       "        0.3671672 ,  0.60604396,  0.60466014,  0.38327866,  0.75550416,\n",
       "        0.20152585,  0.33351703,  0.62026681,  0.77555919,  0.66278268,\n",
       "        0.42461419,  0.82943931,  0.72842496,  0.30644375,  0.74453647,\n",
       "        0.63642121,  0.8343028 ,  0.06731492,  0.71013108,  0.58483818,\n",
       "        0.49171844,  0.62958492,  0.30031329,  1.08130199,  0.88598715,\n",
       "        0.48586359,  0.65528776,  0.59608452,  0.93022532,  0.36842618,\n",
       "        0.47013444,  0.9123591 ,  0.61192564,  0.49687123,  0.44083546,\n",
       "        0.47031713,  0.68312079,  0.27825332,  0.25465443,  0.56602502,\n",
       "        0.31311307,  0.28168706,  0.57966486,  0.87050534,  0.51127267,\n",
       "        0.78160203,  0.38950749,  0.87637475,  0.86872727,  0.74256163,\n",
       "        0.62319694,  0.31635441,  1.03073154,  0.55537958,  0.42105516,\n",
       "        0.11524023,  0.61769631,  0.46273379,  0.64319735,  0.4561376 ,\n",
       "        0.7856127 ,  0.57983543,  0.23251726,  0.35538625,  0.63133883,\n",
       "        0.17177896,  0.56167698,  0.39902913,  0.38321655,  0.22573844,\n",
       "        0.65914884,  0.50708822,  0.40885728,  0.56429019,  0.63186339,\n",
       "        0.41894282,  0.48291669,  0.5932865 ,  0.27776671,  0.57696958,\n",
       "        0.43321244,  0.44329517,  0.57207563,  0.25283211,  0.55447685,\n",
       "        0.67716758,  0.48740295,  0.46156726,  0.66460613,  0.52964281,\n",
       "        0.38050565,  0.37264977,  0.53157883,  0.57601541,  0.56682663,\n",
       "        0.43570637,  0.99620692,  0.51133013,  0.21910117,  0.68294119,\n",
       "        0.44031891,  0.53557722,  0.97138083,  0.73914151,  0.59334104,\n",
       "        0.33420706,  0.54191357,  0.28697047,  0.39686946,  0.45587667,\n",
       "        0.32495682,  0.27711111,  0.83797642,  0.65755197,  0.56232956,\n",
       "        0.55317845,  0.298578  ,  0.75374328,  0.70678353,  0.49854825,\n",
       "        0.51395834,  0.24984456,  0.40408631,  0.32908617,  0.84519475,\n",
       "        0.58830469,  0.53196954,  0.51654422,  0.12893524,  0.43767913,\n",
       "        0.61936496,  0.76878501,  0.38823749,  0.50699633,  0.63015926,\n",
       "        0.57171038,  0.4957852 ,  0.03709611,  0.38046733,  0.59203226,\n",
       "        0.5891983 ,  0.52593224,  0.47145591,  0.47867655,  0.43724876,\n",
       "        0.57541329,  0.49974182,  0.63619946,  0.56098033,  0.47941803,\n",
       "        0.21951761,  0.61816601,  0.71834904,  0.16631478,  0.50291414,\n",
       "        0.72004128,  0.31328868,  0.36994908,  0.62312156,  0.82283525,\n",
       "        0.27436873,  0.78710078,  0.05778196,  0.73885261,  0.64186251,\n",
       "        0.52414983,  0.87158825,  0.3853855 ,  0.30504204,  0.7086449 ,\n",
       "        0.12746715,  0.54713066,  0.63265293,  0.67761221,  0.97187536,\n",
       "        0.47739221,  0.17262533,  0.36315322,  0.31664164,  0.36113832,\n",
       "        0.5525297 ,  0.37762167,  0.21242648,  0.34635363,  0.62465296,\n",
       "        0.85171838,  0.67783599,  0.63153191,  0.67967477,  0.51367629,\n",
       "        0.67836244,  0.33259463,  0.45674849,  0.64339605,  0.10505538,\n",
       "        0.66687293,  0.54805184,  0.61669806,  0.43140549,  0.33314635,\n",
       "        0.35022409,  0.37056787,  0.3341313 ,  0.21716276,  0.47080093,\n",
       "        0.27406595,  0.62686468,  0.7145699 ,  0.76620186,  0.32196352,\n",
       "        0.53832532,  0.48340627,  0.55097315,  0.45856267,  0.38317943,\n",
       "        0.7953565 ,  0.63819343,  0.75349448,  0.52625549,  0.77306187,\n",
       "        0.66068322,  0.65832626,  0.19152887,  0.14721691,  0.52749536,\n",
       "        0.51357051,  0.50627644,  0.39590141,  0.87666894,  0.51328472,\n",
       "        0.43028416,  0.65866954,  0.05721032,  0.55893951,  0.33070678,\n",
       "        0.16010646,  0.49781025,  0.52099684,  0.60762154,  0.46703507,\n",
       "        0.62018308,  0.36699819,  0.21651659,  0.36711781,  0.64210776,\n",
       "        0.47555738,  0.56372674,  0.73666355, -0.08784085,  0.58988352,\n",
       "        0.53233125,  0.39271908,  0.89637614,  0.11537472,  0.31579229,\n",
       "        0.64421622,  0.75693679,  0.63917075,  0.0719443 ,  0.5298087 ,\n",
       "        0.16474558,  0.89486143,  0.50813347,  0.56191453,  0.33367784,\n",
       "        0.47230159,  0.47769546,  0.33607204,  0.3048387 ,  0.45761989,\n",
       "        0.43210465,  0.61019724,  0.51300092,  0.49858467,  0.75938317,\n",
       "        0.64133151,  0.57723501,  0.46419413,  0.52865277,  0.48603656,\n",
       "        0.51391139,  0.64988667,  0.72955845, -0.0895941 ,  0.57643671,\n",
       "        0.79958833,  0.73195865,  0.74096024,  0.55222907,  0.46169814,\n",
       "        0.71763182,  0.86868854,  0.72423081,  0.60079052,  0.28579205,\n",
       "        0.63031516,  0.60155004,  0.24875607,  0.34692779,  0.4453202 ,\n",
       "        0.67794562,  0.25656129,  0.3425822 ,  0.6090578 ,  0.4408162 ,\n",
       "        0.46315911,  0.41640395,  0.68494922,  0.7296498 ,  0.97128564,\n",
       "        0.86264615,  0.62017212,  0.71205105,  0.61155707,  0.70422581,\n",
       "        0.51216438,  0.86133323,  0.76420885,  0.64399299,  0.1891592 ,\n",
       "        0.24091815,  0.76071353,  0.36563119,  0.43033221,  0.64173767,\n",
       "        0.17872037,  0.52848365,  0.36167179,  0.62800217,  0.48571216,\n",
       "        0.48320738,  0.51421122,  0.44243198,  0.43089744,  0.45757737,\n",
       "       -0.16726863,  0.69479178,  0.36610946,  0.67475041,  0.49198004,\n",
       "        0.64698904,  0.9052285 ,  0.70142649,  0.26884169,  0.43180086,\n",
       "        0.58207507,  0.73695385,  0.25951111,  0.5976354 ,  0.01173171,\n",
       "        0.54320376,  0.53311819,  0.6043811 ,  0.58758357,  0.622741  ,\n",
       "        0.2199228 ,  0.60548158,  0.55946214,  0.69837681,  0.06059859,\n",
       "        0.44951484,  0.29067989,  0.3994621 ,  0.54045237,  0.51985492,\n",
       "        0.55786696,  0.12932039,  0.77360301,  0.60836475,  0.73020731,\n",
       "        0.79264843,  0.7960476 ,  0.69853357,  0.31329774,  0.53599922,\n",
       "        0.21824412,  0.62621555,  0.35165937,  0.86535994,  0.2221966 ,\n",
       "        0.50591282,  0.46043497,  0.43469986,  0.64752304,  0.36971513,\n",
       "        0.38675019,  0.46601536,  0.38637451,  0.51456973,  0.68610069,\n",
       "        0.15867344,  0.29025849,  0.41684384,  0.1098975 ,  0.79436588,\n",
       "        0.26538915,  0.58982616,  0.45223691,  0.58775961,  0.59849892,\n",
       "        0.38143722,  0.16777525,  0.49616007,  0.57876173,  0.23690235,\n",
       "        0.79021616,  0.75760966,  0.61613411,  0.29624934,  0.14450418,\n",
       "        0.27892322,  0.20319888,  0.21061192,  0.55690784,  0.33104884,\n",
       "        0.463866  ,  0.23859996,  0.92094315,  0.51515607,  0.07276832,\n",
       "        0.2180182 ,  0.3181384 ,  0.16721624,  0.48614139,  0.46516129,\n",
       "        0.71561396,  0.57659401,  0.44205739,  0.20620249,  0.68061312,\n",
       "        0.73528094,  0.43941293,  0.4562206 ,  0.71460668,  0.25957854,\n",
       "        0.7528199 ,  0.48249281,  0.42240092,  0.48945162,  0.19683265,\n",
       "        0.79644212,  0.35449666,  0.54792813,  0.53142064,  0.5859534 ,\n",
       "        0.48495405,  0.61820819,  0.20765348,  0.30198704,  0.68799656,\n",
       "        0.41662814,  0.43860077,  0.4160604 ,  0.6459959 ,  0.80188152,\n",
       "        0.85728247,  0.48095263,  0.29867777,  0.25729953,  0.42836803,\n",
       "        0.44825132,  0.36114161,  0.31978911,  0.59218272,  0.65971739,\n",
       "        0.34780304,  0.60248441,  0.73908496,  0.68510105,  0.77471083,\n",
       "        0.4805378 ,  0.49174389,  0.71809209,  0.38741068,  0.39690344,\n",
       "        0.33080688,  0.63484928,  0.73644728,  0.61466152,  0.43066525,\n",
       "        0.19650068,  0.62069184,  0.43411819,  0.52381492,  0.31548295,\n",
       "        0.81073948,  0.46674011,  0.41808362,  0.18348066,  0.67957256,\n",
       "        0.36114804,  1.06575405,  0.20972229,  0.31447956,  0.32249374,\n",
       "        0.32802442,  0.42002471,  0.32168453,  0.16190087,  0.37778625,\n",
       "        0.5900357 ,  0.84613256,  0.68678262,  0.33247815,  0.75418836,\n",
       "        0.39201449,  0.44984632,  0.6443395 ,  0.20342683,  0.45741696,\n",
       "        0.41845956,  0.46833259,  0.6608771 ,  0.24983908,  0.67987974,\n",
       "        0.39347395,  0.42691253,  0.36109883,  0.32119506,  1.12078907,\n",
       "        0.77313777,  1.01071978, -0.03212791,  0.50427481,  0.60394702,\n",
       "        0.58417246,  0.81876611,  0.60438247,  0.88221629,  0.30048759,\n",
       "        0.35275574,  0.47141084,  0.57241767,  0.80472188,  0.46855388,\n",
       "        0.63996358,  0.41184126,  0.48163447,  0.47842135,  0.68199704,\n",
       "        0.72485038,  0.60675688,  0.27982514,  0.60869853,  0.58579483,\n",
       "        0.814515  ,  0.81239758,  0.3463895 ,  0.22548733,  0.62223741,\n",
       "       -0.01572658,  0.62862423,  0.47342212,  0.56819243,  0.6958581 ,\n",
       "        0.60169108,  0.50475146,  0.77745276,  0.45751396,  0.33248192,\n",
       "        0.68052168,  0.63226563,  0.47993694,  0.56187785,  0.56078183,\n",
       "        0.79190905,  0.37762753,  0.113473  ,  0.17426476,  0.43018813,\n",
       "        0.30150842,  0.48422506,  0.34996879,  0.45670989,  0.59622654,\n",
       "        0.52843068,  0.67194088,  0.76035773,  0.40809515,  0.57097954,\n",
       "        0.33995176,  0.70096448,  0.4042826 ,  0.3585759 ,  0.38346238])"
      ]
     },
     "execution_count": 102,
     "metadata": {},
     "output_type": "execute_result"
    }
   ],
   "source": [
    "s"
   ]
  },
  {
   "cell_type": "code",
   "execution_count": 103,
   "id": "983b55b4",
   "metadata": {},
   "outputs": [
    {
     "data": {
      "text/plain": [
       "<Axes: ylabel='Count'>"
      ]
     },
     "execution_count": 103,
     "metadata": {},
     "output_type": "execute_result"
    },
    {
     "data": {
      "image/png": "[encoded data removed]",
      "text/plain": [
       "<Figure size 640x480 with 1 Axes>"
      ]
     },
     "metadata": {},
     "output_type": "display_data"
    }
   ],
   "source": [
    "sns.histplot(s,kde=True)"
   ]
  },
  {
   "cell_type": "code",
   "execution_count": 104,
   "id": "6857b0d5",
   "metadata": {},
   "outputs": [
    {
     "data": {
      "text/plain": [
       "array([ 37.06428187,   9.23742025,  24.80064458,  66.11520903,\n",
       "       145.80296388,  40.24143055,  30.87623617,  31.34613851,\n",
       "        14.76357218,  13.92206796,  30.95093345,   9.54495954,\n",
       "        13.27498325,  12.41043346,  61.73917681,  96.67111234,\n",
       "        12.82319941,   5.80662337,   9.79962578,  21.58974412,\n",
       "        62.29872073,  13.31509198,   0.88398546,  12.59070967,\n",
       "         2.85914165,  18.33202654,   9.30285258,  19.74397512,\n",
       "        32.68175258,   4.03766906,  20.74203262,  17.67985153,\n",
       "        11.23945941,   7.08092031,   3.90673563,  19.5180504 ,\n",
       "         9.33439867,   5.80479097,  23.2805156 ,  35.51240897,\n",
       "        22.8018896 ,  57.06021451,  14.64111518,  58.78827575,\n",
       "        37.56121273,  20.18300816,  17.98881074,  26.12211454,\n",
       "        13.4538249 ,  18.37311637,  49.34187878,  33.06531829,\n",
       "        12.85046372,  44.48974149,   9.02104803,  36.56729084,\n",
       "        18.67062369,  24.61329416,  95.58119537,  24.10468959,\n",
       "        10.39637082,   7.06053066,  38.55585956, 169.3394411 ,\n",
       "        34.57428012,  15.19832518,  17.43626368, 143.36206755,\n",
       "        13.79262032,  14.31574877,  11.58323646,   4.09307418,\n",
       "        13.34034861,  27.34331638,  17.65462706,  17.23980546,\n",
       "       110.55036822,  11.15579768,   3.89070777,   9.0999112 ,\n",
       "        47.05591282,   7.56636085,  13.49293625,  11.82867844,\n",
       "         6.09745107,  14.35990026,   9.22886867,   4.3941512 ,\n",
       "        26.30345494,  19.08583769,   9.37212235,   5.71211372,\n",
       "        19.20273876, 146.74426728,   6.53924824,  13.9573569 ,\n",
       "        10.48017549,  13.3918207 ,  16.81125166,  14.55593357,\n",
       "        10.39353379,  24.21706799, 155.08336509,   9.41644635,\n",
       "        14.77521478,   7.04187595,  44.15157925,  42.76171372,\n",
       "         3.37309831,  12.4298139 ,   9.09386355,   4.1496683 ,\n",
       "        31.68533617,  18.12353419,   7.18574533,   4.99745456,\n",
       "        28.41370589,  23.85821968,  15.74905089,  23.56453163,\n",
       "         1.99411088,   7.04888577,  18.65078943,  22.70076724,\n",
       "         7.30823663,  72.96645367,  47.03764162,   1.91141536,\n",
       "         6.51677993,  35.11453152,  25.92549351,  40.06449291,\n",
       "        29.64243627,  31.00364486,   8.87291232,   6.64656051,\n",
       "        42.76823149,   7.57707791, 166.45708552,  21.52769228,\n",
       "         6.86526111,   4.85952598,  10.47506005,  33.51943836,\n",
       "        10.88194302,  16.50707739,  77.2850905 ,  11.35963769,\n",
       "        66.7593678 ,  26.86349602,  45.12194021,   7.92382574,\n",
       "        10.00368739,  26.1559712 ,  40.12551781,   3.78944716,\n",
       "        13.54008179,  21.48164748,   3.43530619,  26.17906608,\n",
       "        83.06827158,  43.49631672,  10.24422404,  22.10950246,\n",
       "        12.94290275,  24.69042637,  10.55406509,  67.53685739,\n",
       "        43.77573841,  82.77595297,  12.18389445,  41.83758291,\n",
       "        53.24341243,   7.50976193,   8.5787622 ,  67.37988491,\n",
       "        48.32187012,  22.91955234,  10.98961145,   5.9219501 ,\n",
       "        19.78451832,  12.58524246,  25.87607306,   5.08232422,\n",
       "        46.30386754,   5.64504657,  62.37929673,  25.78567392,\n",
       "         4.02019158,  45.47356421,  20.37147746,  11.27579344,\n",
       "         9.05884875,   4.78396149, 162.30224854, 101.81631061,\n",
       "        13.850138  ,  45.1883276 ,  20.72893374,  25.76037924,\n",
       "        28.38783314,   6.32755425, 140.14932428,   4.4371657 ,\n",
       "         7.28297497,  23.95312215,   7.4302655 ,  19.69062378,\n",
       "        50.06086437,   3.92984869,  13.22070667,   9.81804421,\n",
       "        39.17737624,  44.17475718,  13.08817448,  10.05608158,\n",
       "        11.62516802,  20.63758553,  16.4284216 ,   5.82097412,\n",
       "        54.8031864 ,  89.05361272,  26.61119202,   8.05468787,\n",
       "        13.15426955,   4.12918082,  18.02936131,  12.39274277,\n",
       "        54.29418291,  29.88299881,  33.58419173,   8.25061735,\n",
       "        14.36378649,  66.91873174,  52.15791877,   3.76223453,\n",
       "        11.67481445,  37.44238305,   6.87644217,  11.49799752,\n",
       "        15.87942565,  11.40043288,  23.55897551,  22.05154366,\n",
       "        17.04701025,   5.54933381,  37.09444522,   8.67335903,\n",
       "         6.35467969,  14.9939175 ,  27.53188914,  74.47249119,\n",
       "         5.6791828 ,  21.31856469,  52.86791878,  17.43192897,\n",
       "        54.04971204,   5.5645029 ,  13.1541198 ,  50.96469492,\n",
       "        43.91008067,  29.44227172, 120.31506955,  21.74178845,\n",
       "        11.17189294,  13.39214977,  58.35647473,  44.30218357,\n",
       "        53.9125943 ,   5.03602486,  56.83652623,  47.08315   ,\n",
       "        56.21563238,  38.16589234,  90.81793624,  19.38469866,\n",
       "         7.3963454 ,  94.54839011,  52.07483904,  25.79243578,\n",
       "        17.22532454,  44.46351342,  16.72918749,   6.84708554,\n",
       "        89.37072591,   7.48756168,   3.23167741,  51.59161329,\n",
       "        22.73357464,  48.64455287,  18.60865151,  67.70883126,\n",
       "         1.1718105 ,  38.9207702 ,  16.0013148 ,  44.76180059,\n",
       "        12.67979446,  14.75004629,   7.91412344,   5.7738912 ,\n",
       "        14.51592569,   3.27383149,   6.15583291,  85.02110083,\n",
       "        38.66636567,   8.88263399,  25.55858628,   8.59836927,\n",
       "        16.61664394,  10.15515072,   7.6970618 ,  10.78684359,\n",
       "         5.77207863,  44.24388012,  25.07967388,  22.2125858 ,\n",
       "        10.75477558,  25.35685424,  26.98980139,  39.40212016,\n",
       "         4.02092079,  75.47573342,  31.36749064,  12.36305087,\n",
       "        22.48894792, 141.37549237,  13.8717773 ,  21.45571503,\n",
       "         9.47127811,   7.6632797 ,  49.25654968,  13.83570028,\n",
       "        21.35156741,  31.49668592,   4.74829339,  24.29170949,\n",
       "        45.74022635,   5.19023931,  41.12778276,  88.71415577,\n",
       "        12.12425823,  15.65505459,  15.44061778,  32.99371018,\n",
       "         6.12549428,   6.06057221,  23.30537329,  17.97134185,\n",
       "        23.73446128,  10.42826795,  51.65678409,   7.06114588,\n",
       "        74.71642419,   6.70988385,   5.95936275,  54.50068537,\n",
       "        44.14088432,  85.74086904,  12.745734  ,  23.25866609,\n",
       "         8.84511285,  21.71306184,  39.81146438,  13.50407327,\n",
       "        35.82430777,  10.73585046,  11.75226719,  36.56217357,\n",
       "        15.2527838 , 166.4843574 ,   4.99940042,   5.37993082,\n",
       "        42.39859078,  50.50730118,  44.90074749, 165.91016584,\n",
       "        23.63063641,  13.31146646,  72.14829283,  15.13464567,\n",
       "       327.3075776 ,   5.0348825 ,   7.19487213,  43.41820566,\n",
       "        48.12711165,   9.56759722,  29.66572229,  37.13819581,\n",
       "        14.10265536,  20.54539212,  30.28361463,  11.49049247,\n",
       "         6.98737665,   3.62688643,  12.18636766,  21.50878957,\n",
       "        29.45287497, 227.20045474,  12.8500993 ,  24.9787265 ,\n",
       "        23.39963506,  28.09840402,  37.13349414,   6.71261821,\n",
       "        24.45296508, 107.8811675 ,  33.47795317,  15.41353281,\n",
       "        17.83877688,  42.39833562,  38.07075728,   9.96029757,\n",
       "        11.0797461 ,  46.91312722,  15.59089505,   7.95073216,\n",
       "       164.37897271,  10.80816472,  14.45929024,  35.43811447,\n",
       "        17.42385241,   6.14040893,   1.32415017,  29.76913323,\n",
       "        24.59097447,  15.68064415,  37.06981399,  31.4211982 ,\n",
       "        21.71715137,  13.32954629,  62.69783626,  81.73327191,\n",
       "        62.74567745,  21.31927647,  16.68900518,  38.83057665,\n",
       "        23.1213831 ,  61.05223185, 124.50132323,  60.18485969,\n",
       "         9.94996481,  59.05433932,   4.70915266,  12.18791613,\n",
       "        37.09668378,  14.68348808,  22.7544874 ,  24.28067695,\n",
       "        13.12940891,   4.16960167,  48.76532519,   9.63385685,\n",
       "        20.43803803,   3.03910085,  38.43902515,  18.0533036 ,\n",
       "        19.61292105,  94.02998746,  12.13632274,  75.12713909,\n",
       "         8.06299008,  18.70483421,  14.21442765,  17.23411617,\n",
       "        21.27519648,  20.76063994,  19.93864655,  32.28851284,\n",
       "        18.91767971,  10.36388553,   6.18259661,  16.85084176,\n",
       "        29.30390096,   2.41580963,  33.66516436,  28.10104573,\n",
       "        63.14208226,  33.28894743,  54.45908411,  20.21329066,\n",
       "        26.79092405,  10.58250852,   7.11544033,  11.46871685,\n",
       "         6.22814581,  49.96332565,  55.74068509,  77.16677713,\n",
       "         3.94181695,  23.77469521,  12.93775139,   4.07089761,\n",
       "        14.62324242,   3.02494681,  95.87055909,   6.34137182,\n",
       "         3.94564715,  19.01863612,  55.43401165,  21.55239353,\n",
       "        26.11986261,  33.47337105,  42.3748655 ,  11.7205073 ,\n",
       "         2.54347146,   9.11598376,  16.30446231,  19.28787669,\n",
       "        10.34593798,  21.61654122,  12.93218064,   4.67640263,\n",
       "        13.46030791, 169.44587606,  22.31285487,  44.37464103,\n",
       "         3.80648097,  21.47272139,  85.93220408,  22.97336446,\n",
       "        44.98572548,  32.26604762,  21.10342402,  15.9171844 ,\n",
       "         3.02607594,  21.02778653,  23.37385711,  35.67675151,\n",
       "        50.02187453,  75.29768413,  34.07677776,   3.60256564,\n",
       "        46.33954025,  25.00486853,  59.90321926,  16.88442431,\n",
       "         2.606933  ,   8.55654976,  79.23387879,  73.42281802,\n",
       "        86.34509898,   6.4120889 ,  10.29296   ,  21.12783424,\n",
       "        50.31698813,   6.27161114,  12.35703511,  16.51266869,\n",
       "        16.12135957,  30.19823714,  14.37016745,  34.69930975,\n",
       "        12.76417887,  16.79307449,  17.59075033,  27.66114747,\n",
       "        28.92180468,  16.33812392,  66.82978188,  12.86737392,\n",
       "        15.72346494,  48.3514486 ,  33.47827701,  27.59672538,\n",
       "         2.39170286,   5.88805769,  38.48131899,  21.95701713,\n",
       "        77.85993418,  11.20400604,  22.73348717,  80.98673348,\n",
       "       144.76202499,  25.05078456, 112.76478442, 140.37708948,\n",
       "         6.08946633,  56.3437796 ,  17.40128377,  10.61680478,\n",
       "        16.40880295,  18.04759508,  54.22111787,  18.26464069,\n",
       "        30.88709799,   6.69289918,  42.34027858,   4.55308714,\n",
       "         5.53585248,   3.45276666,   7.96799812,  17.7709413 ,\n",
       "        13.36194141,   3.58146702,  21.22903927,  19.4847046 ,\n",
       "        37.08195415,  35.80715382,  17.12871305,  14.47506561,\n",
       "        14.5386979 ,  22.03677604,  78.31442448,  45.35703077,\n",
       "        18.90485869,   6.12853183,  28.15878913,   5.25610255,\n",
       "        23.84499969,   6.00677488,  19.83588853,  14.29529199,\n",
       "         5.26996251,  55.59194391,   5.62349688,  77.44937614,\n",
       "       141.13066751,  16.08116125,   8.79236254,  48.67080899,\n",
       "         6.30443298,  33.92000093,  13.60310081,  32.22414947,\n",
       "         8.97456446,  26.39999536,  59.09195636,  26.51024376,\n",
       "         9.45039707,  32.20662874,  19.58243164,  19.40835055,\n",
       "        15.47113167,   5.13836306,  48.04410318,   4.08405491,\n",
       "        11.67118618, 159.73781906, 130.23151808,  22.9726151 ,\n",
       "        13.92341137,  14.5361744 ,  12.47791851,  25.4905351 ,\n",
       "         3.80243286,  67.47150181,  36.62621609,   8.03637316,\n",
       "         9.52659989,  94.83341894,   4.91178706,  38.86676928,\n",
       "        16.0702318 ,  20.49358091,  12.16726361, 109.92153151,\n",
       "        37.23960843,  44.30571094,  22.2704016 ,  35.15802272,\n",
       "        33.47111628,   7.82398523,   5.49055928,  13.33068244,\n",
       "        10.34603427,  22.52677388,   2.94977868,  19.58525335,\n",
       "        95.72159901,   9.57412695,  18.99992899,  42.71814474,\n",
       "        10.19047714,  10.18485546,  76.47268363,   8.5484023 ,\n",
       "        18.47698005,  12.45751956,   4.9090545 ,  22.1401404 ,\n",
       "        45.47287196,  32.96747601,  10.48914394,   9.3331336 ,\n",
       "        68.99443994,  13.88286831,  38.08254026, 231.80449362,\n",
       "        11.58616976,  78.93814354,  13.34126251,  84.50186596,\n",
       "        40.32798846, 107.49239677,  27.63435066,   8.84741336,\n",
       "         7.73278339,  14.07681718,  62.68563859,  26.63782915,\n",
       "         4.96580877,  29.74444145,  12.74233527,  52.45037674,\n",
       "        18.18240789,  23.19763142,  46.65540494,   4.75661054,\n",
       "         7.09526773,  11.2241673 ,  18.37677269,  20.02993259,\n",
       "        45.21105692,  32.83983731,   7.03196658,   4.58129078,\n",
       "        25.99292628,   9.36437584,  69.9300476 ,  23.75503873,\n",
       "         6.70461933,  16.1221586 ,   6.14829265,   5.94506477,\n",
       "        67.95227381,  18.33532789,  13.05208225,  21.1261783 ,\n",
       "        56.92670783,   7.13766843,   6.49085721,  73.28632894,\n",
       "        17.94257864,  47.67120922,  15.23524563,  37.45511937,\n",
       "        11.05830884,   2.95153689,  11.47213986,  18.26297082,\n",
       "        17.55902584,  28.49579361,   9.12931774,   4.13700903,\n",
       "        64.63419024,   5.17001179,  29.69118966,   5.67627355,\n",
       "        27.99003172,   4.09626323,  91.64232845,   6.08867742,\n",
       "        33.82559039,   7.14404672,  31.45394084,  14.57545466,\n",
       "        29.79643642,  17.31464595,   9.75889752,  33.00838295,\n",
       "        32.15353367,  20.57679979,   7.64936674,  11.62724883,\n",
       "        12.615206  ,  17.06974752,  20.48235961,   7.2402505 ,\n",
       "         8.85331496,   7.97025095,  12.35924572,  31.26300357,\n",
       "         7.94729086,  16.06188809,  31.84636007,  18.13957927,\n",
       "        19.79242028,  13.96353748,  32.16379618,  12.84517428,\n",
       "        15.61380971,   8.17447014,  17.31633483,  16.55568568,\n",
       "        66.76544968,  25.50393722,  16.09565136,  12.01511993,\n",
       "        11.23801012,  26.21290518,  23.04309157,   7.38135912,\n",
       "        31.86896586,   7.84055266,  62.35210844,   4.09654818,\n",
       "         8.41261295,  50.77220767,  26.58467621,   8.56217107,\n",
       "        40.7941708 ,  24.1159968 ,   9.95551966,   4.51793021,\n",
       "        66.00657513,  39.26630909,  10.54074029,   3.79986999,\n",
       "        45.06689865,   5.43637484,  27.13861953,   6.04418107,\n",
       "       105.1882877 ,   7.3453701 ,  85.40358978,  78.25324409,\n",
       "        22.28355993,  11.97210442,  24.58674809,  53.9773833 ,\n",
       "         6.66654752,   9.90812682,   9.04885539,  34.70077291,\n",
       "        10.14213119,  15.18927751,  13.36031752,  13.06893938,\n",
       "         2.10874471,   7.37875088,  11.59360324,  35.77088632,\n",
       "        17.45321575,   2.68333303,  12.22608177,   9.8698081 ,\n",
       "        49.27256061,  69.3109461 ,   2.09533956,   5.723935  ,\n",
       "        13.37116277,  33.27247699,  11.3302419 ,   6.00450353,\n",
       "         9.36073345,   8.9431143 ,   2.53466516,   2.97107253,\n",
       "         3.75940492,   1.192196  ,   9.55818019,   3.23202059,\n",
       "         8.2432288 ,  33.83474346,   2.88424283,  14.19434511,\n",
       "        19.73602777,  33.35767687,  21.8089156 ,  14.40492397,\n",
       "        72.4499303 ,  11.36316352,  70.65903873,  13.32605999,\n",
       "         9.60593007,  96.54404723,  29.08607555,  19.86316494,\n",
       "       126.84210684,   7.58153614,  29.67412498,   1.21673335,\n",
       "        67.16779674,  20.29327187,   8.17895526,  51.61971696,\n",
       "        19.94776568,  50.50500752,   5.39856633,  21.53881375,\n",
       "        32.17923842,  73.80736649,   5.31724825,  12.76967846,\n",
       "        38.47395208,  40.64720779,  36.06095081,  12.96045726,\n",
       "        25.34081132,  45.14299484,  52.12630104, 109.15691789,\n",
       "        27.99034862,  14.46247138,   9.01351942,  11.855056  ,\n",
       "        31.56054698,   3.33692139,   5.15892773,  17.88059753,\n",
       "        26.37456408,   6.70190071,  61.54424073,  29.47180067,\n",
       "        32.04779268,  44.50522578,  18.9124896 ,   4.02751697,\n",
       "       124.21956846,  12.1478184 ,   7.02928195,  15.58972448,\n",
       "        49.61421217,  16.18090889,  18.10726124,   6.72444611,\n",
       "        47.72882762,   6.85110273,   4.67290117,  91.41882828,\n",
       "        22.2287998 ,   3.574707  ,  31.95764806,  28.59444439,\n",
       "         8.736001  ,  60.04504429,  30.21001853,  12.52267272,\n",
       "         5.62938658,  14.72851598,  35.08620025,   3.76636639,\n",
       "         2.99014006,   7.34372235,   3.72901632,  11.93213489,\n",
       "         4.64633439,  98.35679594,  10.99798806,   2.99692502,\n",
       "        16.62433362, 165.24467731,  30.03925932,  38.78768739,\n",
       "        14.35950605,  67.08276437,  14.05185316,  15.01877114,\n",
       "         8.84497636,  18.06016631,  19.20406518,  22.61473234,\n",
       "        44.30481637,  17.38832369,  29.72317624,   4.27659009,\n",
       "        25.74221449,   7.11601797,  24.25242306,  17.41658152,\n",
       "        28.30740516,  54.43022802,  17.12240217,  31.2912089 ,\n",
       "        27.45340752,  14.25755399,  14.61345912,  10.78596086,\n",
       "        49.64212073,   3.24729377,   5.70060776,  11.20482817,\n",
       "        84.6728203 ,   3.17063312,  11.15658522,   2.88282944,\n",
       "         5.69637034,  20.10603628,  15.39740447,  41.88791298,\n",
       "        79.06395134,  21.82308546,   2.77467852,   8.08731381,\n",
       "        13.72420112,  89.65581048,   7.73093294,   9.88762366,\n",
       "        24.70086327, 124.48832266,   4.5335686 ,  31.2627442 ,\n",
       "         5.66812607,  23.54153912,   2.01378848,  29.6542452 ,\n",
       "         4.97859239,  34.03911424,   8.40486729,  18.00406035])"
      ]
     },
     "execution_count": 104,
     "metadata": {},
     "output_type": "execute_result"
    }
   ],
   "source": [
    "mu,sigma=3.0,1.0\n",
    "np.random.lognormal(mu,sigma,1000)"
   ]
  },
  {
   "cell_type": "code",
   "execution_count": 105,
   "id": "06a811a8",
   "metadata": {},
   "outputs": [],
   "source": [
    "p=np.random.lognormal(mu,sigma,1000)"
   ]
  },
  {
   "cell_type": "code",
   "execution_count": 106,
   "id": "15c14f9c",
   "metadata": {},
   "outputs": [
    {
     "data": {
      "text/plain": [
       "array([ 19.39023663, 268.94794512,  10.35026673,  15.84713819,\n",
       "         5.26580421,  17.86467643,  92.87902678,  13.61028359,\n",
       "        16.5136453 ,  39.99224285,  14.56482479,  93.76480885,\n",
       "         9.78277477,  61.64331881,  54.16413173,   9.2563555 ,\n",
       "        52.73017467,   9.02735155,  16.77123827, 117.91599396,\n",
       "        13.63846163,  10.14819773,  19.65449751,   6.43737312,\n",
       "        89.80183258,  52.57095464,  37.99332436,  39.39700009,\n",
       "        22.82246209,   3.5180895 ,  11.39666956,  78.50397682,\n",
       "        15.13540464,  17.45193246,  15.07146313,  10.44167483,\n",
       "        19.01769521,  22.42481473, 266.02395622,  10.76919294,\n",
       "         6.76660483, 190.97848913,  29.64079519, 190.07880614,\n",
       "         8.26047566,  13.40674195,  10.48065896,  91.603296  ,\n",
       "        25.44957023,   8.93772951,  69.51276919,  37.41472513,\n",
       "       205.69239195,   6.40243856,  19.70309162,  12.78308297,\n",
       "        16.57983159,  40.79298338,  21.15258092,  15.36216444,\n",
       "        28.20893953,   7.22760438,  42.45860143,   4.41743177,\n",
       "         8.15304086,  59.21041117,  30.41170153,  38.83951068,\n",
       "         2.14834329,  22.15334639,   4.53998208,  60.96735128,\n",
       "        17.75489285, 103.07464904,   7.01318726, 129.47112843,\n",
       "        15.94766928,   8.37726241,  47.87571084,  13.66417224,\n",
       "        17.0055174 ,  20.78342244,  10.02568157,  33.39914525,\n",
       "         8.13429458,  33.08673127,  33.67923318,   8.27450211,\n",
       "        44.20066157,  24.70639194, 279.39069256,  40.77874978,\n",
       "        14.82933857,  25.52400366,  24.57467371,  25.76879776,\n",
       "        90.16947558,   2.82210963,  53.3223068 ,  19.77093091,\n",
       "        17.90510454,  13.87289655,   4.94613934,  20.56085074,\n",
       "        23.69704475,  28.99892191,  12.37595272,  34.21867371,\n",
       "        65.0714191 ,  50.14264265,  19.59164938,  35.41970999,\n",
       "         5.31374556,  14.6956105 ,   8.17099066,   5.77677794,\n",
       "         5.09802386,  28.65623868,  58.03542904,   9.02374105,\n",
       "        12.41265209,  48.99516455,  61.46413848,   6.22840609,\n",
       "         2.28435638,  41.53019362,   7.43826026,   1.83078862,\n",
       "         2.73514133,  32.73823708,  51.22701547,  12.75310484,\n",
       "        55.68130318,   9.30602079, 154.17576314,  22.16744892,\n",
       "         5.88505709,  60.09090549,   7.04986903,  53.84795651,\n",
       "       109.7605424 ,  71.23965793,  16.43593602,  77.78777452,\n",
       "       170.15397027,  37.34839439,  10.51710385,  41.38167272,\n",
       "        26.27722772,   8.6464882 ,  36.70037656,   4.4748107 ,\n",
       "         5.33113423,  14.2504829 ,   2.02964861,  12.6509701 ,\n",
       "        20.69013902,  37.86730806,  12.69442668,  32.58184072,\n",
       "        15.4367888 ,   6.89253537,  72.27584895,   4.17746782,\n",
       "        17.54416115,   2.14418077,   4.70096938,  10.59350492,\n",
       "         1.71934742,  11.79033369,   8.80621334,  19.88222996,\n",
       "        12.73056385,  57.57035276,  51.05237392,   7.09139021,\n",
       "        31.5183721 ,  20.18137016,   8.37947321,  90.49615272,\n",
       "        25.31060547,  44.78300198, 167.76152644,  15.01812764,\n",
       "         7.80808379,  25.39395625,  26.08270111,  15.66684077,\n",
       "        26.95927984,   8.63564101,  31.91545624,   7.74754475,\n",
       "         2.18772252,  23.53419088,  15.24192422,  34.24254001,\n",
       "        61.22598643,  31.92396933,   9.2278171 ,   4.48688609,\n",
       "         5.3341964 ,  40.15407618,   2.04058377,  16.08965465,\n",
       "        28.03871222,   2.53793188,  19.99193245,   7.98846162,\n",
       "        30.18310886,  12.70989174,   6.11044324,  14.14120866,\n",
       "        66.85931987,  35.77436061,   8.4166585 ,  47.24898017,\n",
       "       103.65804855,  55.13006898,  19.27565491,   5.67576175,\n",
       "         7.92780513,  96.25166772,  12.10786483,  24.02378671,\n",
       "        16.74061711,  31.10681916,   4.80569977,  34.36162389,\n",
       "        41.14803986,  13.10370785,  62.43749871,  43.63417479,\n",
       "         9.26167672,  12.3573456 , 112.30772314,   9.04470162,\n",
       "        30.26826115,  12.28775609,  49.4554616 ,  65.3637177 ,\n",
       "        38.8000885 ,  28.08809128,   3.92281595,   4.39716569,\n",
       "        41.28890977,  58.81370933,  21.33160041,  16.73582707,\n",
       "        63.52550335,  60.6919864 ,   8.01828314,  23.81434773,\n",
       "        59.42645101,  77.87230804,  25.6264457 ,  11.34845796,\n",
       "        26.6602333 ,   2.06348   ,  11.48526306,  21.21535563,\n",
       "        38.17456866,  23.6838511 ,  14.69259159,   3.03479606,\n",
       "        10.84031083,   6.77437318,   8.02764151,  27.15533269,\n",
       "        23.11761493,  21.4177634 ,   1.87651383,  53.75856797,\n",
       "        19.09080258,  26.68206321, 382.18634557,  11.77896808,\n",
       "        16.00222158,  40.39696139,  14.68167476,   9.88634542,\n",
       "         8.47533805,  17.23574133,  15.0684785 ,  12.46515728,\n",
       "        41.64037479,   6.11257443, 172.63673723,  33.24221447,\n",
       "        12.36024764,  15.67029352,  75.08985708,  84.74379374,\n",
       "        61.28611904,   3.68189205,  15.30946289,  12.22246783,\n",
       "         7.17505224,  22.27204182,  29.31812205,   6.8139139 ,\n",
       "        27.95262808,  17.47548438,  11.44320798,   8.39575935,\n",
       "        44.44300844,  60.30348453,  51.84141573,   8.62654869,\n",
       "        12.93466365,   5.18125201,  21.57066617,   5.52635124,\n",
       "         6.14953077,  43.69889138,  21.18657284,  22.72697747,\n",
       "        26.97874714, 256.19879715,  73.3283654 ,  58.43931408,\n",
       "        12.32308081,   4.97756511,  40.62070217,  73.33168383,\n",
       "        34.47629033,  53.41182601,  19.96536001,   9.53338526,\n",
       "         2.60531063,   7.43829436,  24.65540021,  20.07474304,\n",
       "        16.11224955,   8.30913663,  27.2975387 ,  24.51438792,\n",
       "        44.17246249,  10.9558055 ,  34.92442866,   8.72677217,\n",
       "        31.30042282,  22.26915652,   6.68176411,  14.27911228,\n",
       "        62.15733734,  23.30647935,  80.03728263,  11.60911865,\n",
       "         3.56230928,  18.02258094,  12.05542843,  14.44882141,\n",
       "         7.86566939,  10.29300987, 386.51668426,   2.20952946,\n",
       "        91.35978719,  11.24157684,   1.68719754,   8.191334  ,\n",
       "        82.94121052,  59.79769869,  72.63842047,  58.22934466,\n",
       "        73.83147975,   8.86043019,  12.78834844,   1.77981451,\n",
       "         9.51040236,   6.85052359,  46.44712118,   5.94812693,\n",
       "         3.67606291,  15.24920474,  53.74777064,  15.60400113,\n",
       "        63.629921  ,  80.23388563,  30.60924443,  15.74881473,\n",
       "        21.96507253,   6.32032545,  80.59178756,  46.02405472,\n",
       "         1.13088446,   7.93973003,  68.24274304,  21.95965686,\n",
       "         6.40829111,  34.22305546,   4.29761007,  14.15489058,\n",
       "         1.35810013,  19.17743724,   4.29298965,  36.99775232,\n",
       "        55.19317254,  32.91851021,  23.57296555,   9.43506267,\n",
       "        16.88186713,  25.99094863, 147.04473596,   7.48599763,\n",
       "        11.65557934,  11.25022009,  19.07103389,  61.23889476,\n",
       "        20.16467544,   4.10648245,  41.63185801,  16.68180754,\n",
       "        28.55784767,  18.87224416,  74.80752836,   9.46885484,\n",
       "        16.20728334,   2.23911482,   6.526429  ,  41.94341783,\n",
       "        14.8730365 ,  57.27675135,  27.63436205,   2.83689343,\n",
       "        62.02305987,   6.50998906,   1.43105695,   4.88284562,\n",
       "         4.18853507,  16.48066334,  56.70033412,  13.5173856 ,\n",
       "        54.31017783,  75.64808223,  37.16698033,  21.23176728,\n",
       "         4.41745895,   3.71102059,  36.19492207,   8.16977719,\n",
       "        14.71509824,  11.16158426,  50.10492421,  17.93563321,\n",
       "         3.00338103,  13.49844906,   9.98696142,  56.31262017,\n",
       "        75.11445244,  10.15979566,   9.466502  ,  28.24351012,\n",
       "         9.4634982 ,  36.96673037,  82.23776974,   8.85879948,\n",
       "         8.19421283,  11.16702333,  35.89149408,  15.06147841,\n",
       "        68.2508271 ,  25.38314205,   8.43439007,  25.13539218,\n",
       "         9.21701584,   3.96785446,  34.18790176,   2.8527912 ,\n",
       "        30.28380189,  11.61074505,  12.27215945,   6.33514756,\n",
       "         7.96490768,  68.22754053,  23.63413269,  66.31464681,\n",
       "        67.40507302,   4.33291281,  51.88653962,  68.18960065,\n",
       "        13.43625609,  47.73710382, 137.08350658,  55.40463186,\n",
       "        12.36640992,  19.54837511,   4.41197977,  15.86672083,\n",
       "        14.47514148,  13.57999352, 102.15818289,  39.98035419,\n",
       "        24.56046926,  57.192117  ,  23.37121661,  12.94547805,\n",
       "         4.05768458,   1.82263827,  28.76531716,  48.58730282,\n",
       "        19.12133512,  17.80705927,  59.94106189,  39.52475679,\n",
       "        80.76964482,  86.18140789,  32.90441744, 133.4143774 ,\n",
       "         5.3397316 ,  39.53788003,  25.07209106, 127.33057565,\n",
       "         5.44300925,  69.16126515,  12.17617644,  13.69703367,\n",
       "        10.40023103, 236.9844855 ,  14.37918399,  29.21232525,\n",
       "         8.01576714,  33.44071777,  22.30360207,  44.030325  ,\n",
       "        36.93131028,  94.64037   ,   7.78238153,  28.90106848,\n",
       "        41.22742673, 100.33944151,  14.30444585, 143.28796764,\n",
       "        49.17181291,   8.60178635,  33.18578457,   7.32154231,\n",
       "        10.57034915,  12.37284406,  26.6533653 ,  22.0790704 ,\n",
       "        22.49091823,   7.88090137,  27.33697629,  19.06110571,\n",
       "        17.60631488,   5.17304056,  17.89160439,  42.7702182 ,\n",
       "         4.15401247,  12.63022082,  45.26488741,  62.41506389,\n",
       "         9.49256205,  19.1674336 ,   8.98033645, 129.34959472,\n",
       "         5.51741269,  30.80014198,  13.4977141 ,  30.01023923,\n",
       "        21.69876613,   8.2761704 ,  22.9895941 ,  97.21973895,\n",
       "        10.23267564,  20.10551718,  15.81748133,   7.14060245,\n",
       "        13.95193063,  29.39065426,  15.58145309,  17.02389202,\n",
       "        51.62351205,  78.15621999,   5.51229871,   5.13600533,\n",
       "        50.35852499,   8.93293443,   8.49380371,  14.48749382,\n",
       "        22.5499068 ,  47.07974184,  14.0313129 ,   8.62020792,\n",
       "         4.82379224,  83.49350728,   0.88137177,  46.52857265,\n",
       "        26.07927751,  27.44320295,  12.41346528,  95.65605323,\n",
       "         8.0468823 ,  10.60485974,  17.82632636,  62.57407278,\n",
       "        71.89906015,  50.69299987,   8.14127181,  39.22842001,\n",
       "         4.43502274,  12.97835717,  15.09368492,   1.11561562,\n",
       "        19.48640332,   7.67027333,  28.10973797,  18.57269799,\n",
       "         4.65429159,  17.63274692,  18.12193278,   7.85265397,\n",
       "        66.96742104,  13.71801642,   9.41494047,   3.2475201 ,\n",
       "        62.43072689,  60.88163856,  20.96198859,  15.56454428,\n",
       "        23.32245445, 217.82902011,  11.3546408 ,   6.59523227,\n",
       "         8.89029018,  87.18953509,  12.10826256,  84.84778953,\n",
       "        57.84257651,   2.20284616,  87.22384054,  34.20734462,\n",
       "        16.32200107,  36.36697616,   8.05746   ,   6.17584213,\n",
       "         9.38897933,   5.14757209, 213.84283387,  21.16837757,\n",
       "        26.70481905,   4.44004511,   2.87532304,  62.73664365,\n",
       "        28.39160063,  64.89072955,  10.15710554,   9.64492231,\n",
       "         9.94315166,  23.97718648, 167.35651621,  73.04200546,\n",
       "        46.49568762,  43.94304929,  19.70699602,  14.31731298,\n",
       "        35.74837769,  25.65462571,  48.71385283,  80.40047929,\n",
       "         6.0670822 ,   8.61679991, 204.69182486,  12.43844856,\n",
       "        12.02560414,  61.18019553,   8.15051023,  21.2281168 ,\n",
       "         4.03303907,   4.61715225, 121.53596806,  33.79682443,\n",
       "        14.83142051, 196.1963171 ,  11.32803056,  37.63596672,\n",
       "        15.73293538,   9.20666004,  16.34398742,  20.48101085,\n",
       "        28.17836954,  19.15945717,  41.72027591,  19.57211364,\n",
       "       149.24084073,  16.93441134,  21.73897684, 129.48896109,\n",
       "         5.29403239,  12.5349199 ,   2.50730427,  41.2955563 ,\n",
       "         7.91749943,   4.9502267 ,  11.46362272,  15.83697176,\n",
       "        29.94778966,   5.65197062,   9.58792516,  42.86290753,\n",
       "        96.13621333,   9.7903558 ,   9.29576963,  99.06124299,\n",
       "        32.24367089, 297.01535144,   5.01495228,  13.62842605,\n",
       "        10.50126644,  17.19450149,   5.46597019,  15.77472924,\n",
       "        36.14340897,  10.52931368,   2.66248943,  12.84965583,\n",
       "        13.43751297,  18.48741973,  46.99263764,  11.28897931,\n",
       "        18.58032569,  37.5614203 ,  12.49876806,  15.81102087,\n",
       "        25.2539136 ,  52.36710913,  18.26953172,  20.75884177,\n",
       "       113.53214988,  19.92319278,  73.38620007,  17.63266934,\n",
       "        59.93803325,  31.56045139,  15.6988414 ,   7.13019674,\n",
       "        27.18659159,  33.68543827,  13.21559026,  11.93436893,\n",
       "       307.80818145,  25.55904935,  11.65911614,  16.2469797 ,\n",
       "        13.17341288,  12.48811451,   3.32889708,  22.10506721,\n",
       "        32.03616286,  10.83280429,  22.03560023,  21.32465535,\n",
       "        92.29272986,   7.60461952,  61.73017083,  14.15657397,\n",
       "        38.48419766,  34.68729384,   1.79988288,  39.94636388,\n",
       "        53.67921692,   2.09393373,  55.03624461,   5.94390933,\n",
       "        31.78643616,   6.71906687,  71.87934907,   9.38723572,\n",
       "        19.53844543,  27.38945446,   3.46027715,   3.99023577,\n",
       "         3.82113294,  29.42420411,   1.71346763,  39.18539673,\n",
       "         9.28741212,  22.16888855,   6.2870679 ,  38.42261694,\n",
       "        25.59181245,  46.09974317,  62.67771472,  12.73560124,\n",
       "       365.35187616, 104.9778051 ,  16.2061539 , 285.49882355,\n",
       "        18.52785674,   1.68838328,  14.38434223,  55.34353348,\n",
       "         4.57057683,   6.48126209,  28.04078124,  43.24456558,\n",
       "         8.49991468,   3.64592954,  11.47470313,  20.71677114,\n",
       "        11.69091451,  20.66351939,   4.44968914,  59.30086953,\n",
       "         3.39602376,  15.87642348,   4.4583473 ,   6.38138126,\n",
       "        33.66004566,   6.36184731,   9.84794656,   7.29530488,\n",
       "        58.1311549 ,  20.67499191,  41.15943593,  40.4011203 ,\n",
       "        13.26244033,   3.87190258,  52.44456159,   9.20752947,\n",
       "        12.28091539,  53.27861897,  29.73898809,  13.16084828,\n",
       "         5.55457083,   9.68273565,  12.9020884 ,  20.58257929,\n",
       "        17.21352792,  19.42664608,   4.72268333, 206.11478942,\n",
       "        33.06547369,  27.70110942,  11.74623811,  11.67445665,\n",
       "        19.38689656,   7.25152959,  41.08502629,  26.21047296,\n",
       "        37.66311143,  25.53814023,  15.52237552,  12.50920108,\n",
       "        69.3760652 ,  12.51354412,   8.61382135,   5.44241799,\n",
       "        59.5892814 ,  21.26192666,  50.66826507,  33.76171405,\n",
       "        69.12901162,   1.20592247,  21.04239795,  38.29621329,\n",
       "        16.61070241,  21.16083187,  12.91607422,  29.34746426,\n",
       "        45.99744019,  12.28289986,  79.63927637,   5.48991008,\n",
       "        31.78273012,  63.96847266,  48.96281552,  12.25690191,\n",
       "        21.92776334,   7.73261046,   5.00616953,  14.46504427,\n",
       "         9.48757565,  17.35175731,   8.58678993,  52.49817459,\n",
       "        27.86986173, 112.06184132,   6.35947564,   8.59563958,\n",
       "        12.80510658,   1.82998106,  53.43136898,  13.14579902,\n",
       "        45.47659287,  97.83750944,  55.6303881 ,  40.25797489,\n",
       "        36.44402823,   6.22559091,   8.55468645,   9.29298437,\n",
       "         5.92969912,   3.26992496,  18.6892506 ,  39.51628528,\n",
       "        51.38638118,  46.79221279,  44.41578676,  18.2635705 ,\n",
       "        23.56857511,  92.60421661,  35.54663489,  36.39762142,\n",
       "         8.53651204,  46.89139418,   9.20536462,  16.29445471,\n",
       "         5.9053874 ,   7.12154044,  13.70328378,   8.21303262,\n",
       "        18.31636581,   8.12887944,   8.03810626,  12.90552954,\n",
       "        24.28770452,   6.15637131,   5.93650966,   9.33346865,\n",
       "        35.57598751,   6.1241562 ,   4.89061885,  28.81778589,\n",
       "        23.01568822,   6.22802261,  22.47281097,  34.23215409,\n",
       "        21.31564851,  59.03844457,   3.11336104,   7.00765363,\n",
       "        19.34775076,  31.89148908,   2.41433784,  16.10883351,\n",
       "        21.47439108,  13.72568017,   3.58717793,  16.09029573,\n",
       "        13.60389664, 152.57151755,  31.37316263,   9.05366939,\n",
       "         2.86860644,  10.30065359,   8.72216424,   4.57607265,\n",
       "        22.13174936,  44.91820011,   8.09849869,  35.71172976,\n",
       "        59.73301492,  13.04337187,   6.08132562,  10.51269611,\n",
       "        14.77834353,  62.5421025 ,  11.20407595,  26.2955857 ,\n",
       "        41.91477725,  28.09505575,  53.96417766,  20.51075658,\n",
       "        26.37784344,  19.73768379,  10.33196747,  28.42833992,\n",
       "        28.31912202,  43.62977118,  35.96176228,  16.74965715,\n",
       "         3.74030458,  15.58529852,  55.76244487,   4.09793558,\n",
       "         3.63317513,  17.96616025, 101.76923859,  20.57023145,\n",
       "        40.1311347 ,  32.37214821,  14.12623905,  91.12710407,\n",
       "        28.00575315,  24.65663702,  19.09323293,  25.4153806 ,\n",
       "        24.80067735,  13.64345169,  26.96004109,  15.37650056,\n",
       "         4.9434881 ,  28.47299871,  10.31940007,   8.05661067,\n",
       "        22.25227129,   4.44205152,  10.90103931,  10.38846017])"
      ]
     },
     "execution_count": 106,
     "metadata": {},
     "output_type": "execute_result"
    }
   ],
   "source": [
    "p"
   ]
  },
  {
   "cell_type": "code",
   "execution_count": 107,
   "id": "e9b32c44",
   "metadata": {},
   "outputs": [
    {
     "data": {
      "text/plain": [
       "<Axes: ylabel='Count'>"
      ]
     },
     "execution_count": 107,
     "metadata": {},
     "output_type": "execute_result"
    },
    {
     "data": {
      "image/png": "[encoded data removed]",
      "text/plain": [
       "<Figure size 640x480 with 1 Axes>"
      ]
     },
     "metadata": {},
     "output_type": "display_data"
    }
   ],
   "source": [
    "sns.histplot(p,kde=True)"
   ]
  },
  {
   "cell_type": "code",
   "execution_count": 108,
   "id": "d486db62",
   "metadata": {},
   "outputs": [
    {
     "data": {
      "text/plain": [
       "<Axes: ylabel='Count'>"
      ]
     },
     "execution_count": 108,
     "metadata": {},
     "output_type": "execute_result"
    },
    {
     "data": {
      "image/png": "[encoded data removed]",
      "text/plain": [
       "<Figure size 640x480 with 1 Axes>"
      ]
     },
     "metadata": {},
     "output_type": "display_data"
    }
   ],
   "source": [
    "sns.histplot(np.log(p),kde=True)"
   ]
  },
  {
   "cell_type": "code",
   "execution_count": 109,
   "id": "693b3db9",
   "metadata": {},
   "outputs": [],
   "source": [
    "import matplotlib.pyplot as plt\n",
    "import scipy.stats as stat\n",
    "import pylab\n",
    "def plot_data(sample):\n",
    "    plt.figure(figsize=(10,6))\n",
    "    plt.subplot(1,2,1)\n",
    "    sns.histplot(sample,kde=True)\n",
    "    plt.subplot(1,2,2)\n",
    "    stat.probplot(sample,dist='norm',plot=pylab)\n",
    "    plt.show"
   ]
  },
  {
   "cell_type": "code",
   "execution_count": 110,
   "id": "10562a05",
   "metadata": {},
   "outputs": [
    {
     "data": {
      "image/png": "[encoded data removed]",
      "text/plain": [
       "<Figure size 1000x600 with 2 Axes>"
      ]
     },
     "metadata": {},
     "output_type": "display_data"
    }
   ],
   "source": [
    "plot_data(s)"
   ]
  },
  {
   "cell_type": "code",
   "execution_count": 111,
   "id": "45539553",
   "metadata": {},
   "outputs": [
    {
     "data": {
      "image/png": "[encoded data removed]",
      "text/plain": [
       "<Figure size 1000x600 with 2 Axes>"
      ]
     },
     "metadata": {},
     "output_type": "display_data"
    }
   ],
   "source": [
    "plot_data(data)"
   ]
  },
  {
   "cell_type": "code",
   "execution_count": 112,
   "id": "80e90a16",
   "metadata": {},
   "outputs": [
    {
     "data": {
      "image/png": "[encoded data removed]",
      "text/plain": [
       "<Figure size 1000x600 with 2 Axes>"
      ]
     },
     "metadata": {},
     "output_type": "display_data"
    }
   ],
   "source": [
    "plot_data(data_copy)"
   ]
  },
  {
   "cell_type": "code",
   "execution_count": 113,
   "id": "6ba1f7fb",
   "metadata": {},
   "outputs": [
    {
     "data": {
      "image/png": "[encoded data removed]",
      "text/plain": [
       "<Figure size 1000x600 with 2 Axes>"
      ]
     },
     "metadata": {},
     "output_type": "display_data"
    }
   ],
   "source": [
    "plot_data(p) # Log normal distribution"
   ]
  },
  {
   "cell_type": "code",
   "execution_count": 114,
   "id": "1c2d6860",
   "metadata": {},
   "outputs": [
    {
     "data": {
      "image/png": "[encoded data removed]",
      "text/plain": [
       "<Figure size 1000x600 with 2 Axes>"
      ]
     },
     "metadata": {},
     "output_type": "display_data"
    }
   ],
   "source": [
    "plot_data(np.log(p)) # # Normal distrubuted data graph & QQ plot"
   ]
  },
  {
   "cell_type": "code",
   "execution_count": 115,
   "id": "c2731786",
   "metadata": {},
   "outputs": [],
   "source": [
    "data3=pd.read_csv(\"https://raw.githubusercontent.com/sunnysavita10/Statistics_With_Python/main/Titanic.csv\")"
   ]
  },
  {
   "cell_type": "code",
   "execution_count": 116,
   "id": "2c5acbe8",
   "metadata": {},
   "outputs": [
    {
     "data": {
      "text/html": [
       "<div>\n",
       "<style scoped>\n",
       "    .dataframe tbody tr th:only-of-type {\n",
       "        vertical-align: middle;\n",
       "    }\n",
       "\n",
       "    .dataframe tbody tr th {\n",
       "        vertical-align: top;\n",
       "    }\n",
       "\n",
       "    .dataframe thead th {\n",
       "        text-align: right;\n",
       "    }\n",
       "</style>\n",
       "<table border=\"1\" class=\"dataframe\">\n",
       "  <thead>\n",
       "    <tr style=\"text-align: right;\">\n",
       "      <th></th>\n",
       "      <th>PassengerId</th>\n",
       "      <th>Survived</th>\n",
       "      <th>Pclass</th>\n",
       "      <th>Name</th>\n",
       "      <th>Sex</th>\n",
       "      <th>Age</th>\n",
       "      <th>SibSp</th>\n",
       "      <th>Parch</th>\n",
       "      <th>Ticket</th>\n",
       "      <th>Fare</th>\n",
       "      <th>Cabin</th>\n",
       "      <th>Embarked</th>\n",
       "    </tr>\n",
       "  </thead>\n",
       "  <tbody>\n",
       "    <tr>\n",
       "      <th>0</th>\n",
       "      <td>1</td>\n",
       "      <td>0</td>\n",
       "      <td>3</td>\n",
       "      <td>Braund, Mr. Owen Harris</td>\n",
       "      <td>male</td>\n",
       "      <td>22.0</td>\n",
       "      <td>1</td>\n",
       "      <td>0</td>\n",
       "      <td>A/5 21171</td>\n",
       "      <td>7.2500</td>\n",
       "      <td>NaN</td>\n",
       "      <td>S</td>\n",
       "    </tr>\n",
       "    <tr>\n",
       "      <th>1</th>\n",
       "      <td>2</td>\n",
       "      <td>1</td>\n",
       "      <td>1</td>\n",
       "      <td>Cumings, Mrs. John Bradley (Florence Briggs Th...</td>\n",
       "      <td>female</td>\n",
       "      <td>38.0</td>\n",
       "      <td>1</td>\n",
       "      <td>0</td>\n",
       "      <td>PC 17599</td>\n",
       "      <td>71.2833</td>\n",
       "      <td>C85</td>\n",
       "      <td>C</td>\n",
       "    </tr>\n",
       "    <tr>\n",
       "      <th>2</th>\n",
       "      <td>3</td>\n",
       "      <td>1</td>\n",
       "      <td>3</td>\n",
       "      <td>Heikkinen, Miss. Laina</td>\n",
       "      <td>female</td>\n",
       "      <td>26.0</td>\n",
       "      <td>0</td>\n",
       "      <td>0</td>\n",
       "      <td>STON/O2. 3101282</td>\n",
       "      <td>7.9250</td>\n",
       "      <td>NaN</td>\n",
       "      <td>S</td>\n",
       "    </tr>\n",
       "    <tr>\n",
       "      <th>3</th>\n",
       "      <td>4</td>\n",
       "      <td>1</td>\n",
       "      <td>1</td>\n",
       "      <td>Futrelle, Mrs. Jacques Heath (Lily May Peel)</td>\n",
       "      <td>female</td>\n",
       "      <td>35.0</td>\n",
       "      <td>1</td>\n",
       "      <td>0</td>\n",
       "      <td>113803</td>\n",
       "      <td>53.1000</td>\n",
       "      <td>C123</td>\n",
       "      <td>S</td>\n",
       "    </tr>\n",
       "    <tr>\n",
       "      <th>4</th>\n",
       "      <td>5</td>\n",
       "      <td>0</td>\n",
       "      <td>3</td>\n",
       "      <td>Allen, Mr. William Henry</td>\n",
       "      <td>male</td>\n",
       "      <td>35.0</td>\n",
       "      <td>0</td>\n",
       "      <td>0</td>\n",
       "      <td>373450</td>\n",
       "      <td>8.0500</td>\n",
       "      <td>NaN</td>\n",
       "      <td>S</td>\n",
       "    </tr>\n",
       "    <tr>\n",
       "      <th>...</th>\n",
       "      <td>...</td>\n",
       "      <td>...</td>\n",
       "      <td>...</td>\n",
       "      <td>...</td>\n",
       "      <td>...</td>\n",
       "      <td>...</td>\n",
       "      <td>...</td>\n",
       "      <td>...</td>\n",
       "      <td>...</td>\n",
       "      <td>...</td>\n",
       "      <td>...</td>\n",
       "      <td>...</td>\n",
       "    </tr>\n",
       "    <tr>\n",
       "      <th>886</th>\n",
       "      <td>887</td>\n",
       "      <td>0</td>\n",
       "      <td>2</td>\n",
       "      <td>Montvila, Rev. Juozas</td>\n",
       "      <td>male</td>\n",
       "      <td>27.0</td>\n",
       "      <td>0</td>\n",
       "      <td>0</td>\n",
       "      <td>211536</td>\n",
       "      <td>13.0000</td>\n",
       "      <td>NaN</td>\n",
       "      <td>S</td>\n",
       "    </tr>\n",
       "    <tr>\n",
       "      <th>887</th>\n",
       "      <td>888</td>\n",
       "      <td>1</td>\n",
       "      <td>1</td>\n",
       "      <td>Graham, Miss. Margaret Edith</td>\n",
       "      <td>female</td>\n",
       "      <td>19.0</td>\n",
       "      <td>0</td>\n",
       "      <td>0</td>\n",
       "      <td>112053</td>\n",
       "      <td>30.0000</td>\n",
       "      <td>B42</td>\n",
       "      <td>S</td>\n",
       "    </tr>\n",
       "    <tr>\n",
       "      <th>888</th>\n",
       "      <td>889</td>\n",
       "      <td>0</td>\n",
       "      <td>3</td>\n",
       "      <td>Johnston, Miss. Catherine Helen \"Carrie\"</td>\n",
       "      <td>female</td>\n",
       "      <td>NaN</td>\n",
       "      <td>1</td>\n",
       "      <td>2</td>\n",
       "      <td>W./C. 6607</td>\n",
       "      <td>23.4500</td>\n",
       "      <td>NaN</td>\n",
       "      <td>S</td>\n",
       "    </tr>\n",
       "    <tr>\n",
       "      <th>889</th>\n",
       "      <td>890</td>\n",
       "      <td>1</td>\n",
       "      <td>1</td>\n",
       "      <td>Behr, Mr. Karl Howell</td>\n",
       "      <td>male</td>\n",
       "      <td>26.0</td>\n",
       "      <td>0</td>\n",
       "      <td>0</td>\n",
       "      <td>111369</td>\n",
       "      <td>30.0000</td>\n",
       "      <td>C148</td>\n",
       "      <td>C</td>\n",
       "    </tr>\n",
       "    <tr>\n",
       "      <th>890</th>\n",
       "      <td>891</td>\n",
       "      <td>0</td>\n",
       "      <td>3</td>\n",
       "      <td>Dooley, Mr. Patrick</td>\n",
       "      <td>male</td>\n",
       "      <td>32.0</td>\n",
       "      <td>0</td>\n",
       "      <td>0</td>\n",
       "      <td>370376</td>\n",
       "      <td>7.7500</td>\n",
       "      <td>NaN</td>\n",
       "      <td>Q</td>\n",
       "    </tr>\n",
       "  </tbody>\n",
       "</table>\n",
       "<p>891 rows × 12 columns</p>\n",
       "</div>"
      ],
      "text/plain": [
       "     PassengerId  Survived  Pclass  \\\n",
       "0              1         0       3   \n",
       "1              2         1       1   \n",
       "2              3         1       3   \n",
       "3              4         1       1   \n",
       "4              5         0       3   \n",
       "..           ...       ...     ...   \n",
       "886          887         0       2   \n",
       "887          888         1       1   \n",
       "888          889         0       3   \n",
       "889          890         1       1   \n",
       "890          891         0       3   \n",
       "\n",
       "                                                  Name     Sex   Age  SibSp  \\\n",
       "0                              Braund, Mr. Owen Harris    male  22.0      1   \n",
       "1    Cumings, Mrs. John Bradley (Florence Briggs Th...  female  38.0      1   \n",
       "2                               Heikkinen, Miss. Laina  female  26.0      0   \n",
       "3         Futrelle, Mrs. Jacques Heath (Lily May Peel)  female  35.0      1   \n",
       "4                             Allen, Mr. William Henry    male  35.0      0   \n",
       "..                                                 ...     ...   ...    ...   \n",
       "886                              Montvila, Rev. Juozas    male  27.0      0   \n",
       "887                       Graham, Miss. Margaret Edith  female  19.0      0   \n",
       "888           Johnston, Miss. Catherine Helen \"Carrie\"  female   NaN      1   \n",
       "889                              Behr, Mr. Karl Howell    male  26.0      0   \n",
       "890                                Dooley, Mr. Patrick    male  32.0      0   \n",
       "\n",
       "     Parch            Ticket     Fare Cabin Embarked  \n",
       "0        0         A/5 21171   7.2500   NaN        S  \n",
       "1        0          PC 17599  71.2833   C85        C  \n",
       "2        0  STON/O2. 3101282   7.9250   NaN        S  \n",
       "3        0            113803  53.1000  C123        S  \n",
       "4        0            373450   8.0500   NaN        S  \n",
       "..     ...               ...      ...   ...      ...  \n",
       "886      0            211536  13.0000   NaN        S  \n",
       "887      0            112053  30.0000   B42        S  \n",
       "888      2        W./C. 6607  23.4500   NaN        S  \n",
       "889      0            111369  30.0000  C148        C  \n",
       "890      0            370376   7.7500   NaN        Q  \n",
       "\n",
       "[891 rows x 12 columns]"
      ]
     },
     "execution_count": 116,
     "metadata": {},
     "output_type": "execute_result"
    }
   ],
   "source": [
    "data3"
   ]
  },
  {
   "cell_type": "code",
   "execution_count": 119,
   "id": "a33f754b",
   "metadata": {},
   "outputs": [
    {
     "name": "stdout",
     "output_type": "stream",
     "text": [
      "Requirement already satisfied: pandas in c:\\users\\admin\\anaconda3\\lib\\site-packages (1.5.3)\n",
      "Requirement already satisfied: pandas-profiling in c:\\users\\admin\\anaconda3\\lib\\site-packages (3.2.0)\n",
      "Requirement already satisfied: python-dateutil>=2.8.1 in c:\\users\\admin\\anaconda3\\lib\\site-packages (from pandas) (2.8.2)\n",
      "Requirement already satisfied: pytz>=2020.1 in c:\\users\\admin\\anaconda3\\lib\\site-packages (from pandas) (2022.7)\n",
      "Requirement already satisfied: numpy>=1.21.0 in c:\\users\\admin\\anaconda3\\lib\\site-packages (from pandas) (1.24.3)\n",
      "Requirement already satisfied: joblib~=1.1.0 in c:\\users\\admin\\anaconda3\\lib\\site-packages (from pandas-profiling) (1.1.1)\n",
      "Requirement already satisfied: scipy>=1.4.1 in c:\\users\\admin\\anaconda3\\lib\\site-packages (from pandas-profiling) (1.10.1)\n",
      "Requirement already satisfied: matplotlib>=3.2.0 in c:\\users\\admin\\anaconda3\\lib\\site-packages (from pandas-profiling) (3.7.1)\n",
      "Requirement already satisfied: pydantic>=1.8.1 in c:\\users\\admin\\anaconda3\\lib\\site-packages (from pandas-profiling) (2.2.1)\n",
      "Requirement already satisfied: PyYAML>=5.0.0 in c:\\users\\admin\\anaconda3\\lib\\site-packages (from pandas-profiling) (6.0)\n",
      "Requirement already satisfied: jinja2>=2.11.1 in c:\\users\\admin\\anaconda3\\lib\\site-packages (from pandas-profiling) (3.1.2)\n",
      "Requirement already satisfied: markupsafe~=2.1.1 in c:\\users\\admin\\anaconda3\\lib\\site-packages (from pandas-profiling) (2.1.1)\n",
      "Requirement already satisfied: visions[type_image_path]==0.7.4 in c:\\users\\admin\\anaconda3\\lib\\site-packages (from pandas-profiling) (0.7.4)\n",
      "Requirement already satisfied: htmlmin>=0.1.12 in c:\\users\\admin\\anaconda3\\lib\\site-packages (from pandas-profiling) (0.1.12)\n",
      "Requirement already satisfied: missingno>=0.4.2 in c:\\users\\admin\\anaconda3\\lib\\site-packages (from pandas-profiling) (0.5.2)\n",
      "Requirement already satisfied: phik>=0.11.1 in c:\\users\\admin\\anaconda3\\lib\\site-packages (from pandas-profiling) (0.12.3)\n",
      "Requirement already satisfied: tangled-up-in-unicode==0.2.0 in c:\\users\\admin\\anaconda3\\lib\\site-packages (from pandas-profiling) (0.2.0)\n",
      "Requirement already satisfied: requests>=2.24.0 in c:\\users\\admin\\anaconda3\\lib\\site-packages (from pandas-profiling) (2.31.0)\n",
      "Requirement already satisfied: tqdm>=4.48.2 in c:\\users\\admin\\anaconda3\\lib\\site-packages (from pandas-profiling) (4.65.0)\n",
      "Requirement already satisfied: seaborn>=0.10.1 in c:\\users\\admin\\anaconda3\\lib\\site-packages (from pandas-profiling) (0.12.2)\n",
      "Requirement already satisfied: multimethod>=1.4 in c:\\users\\admin\\anaconda3\\lib\\site-packages (from pandas-profiling) (1.9.1)\n",
      "Requirement already satisfied: attrs>=19.3.0 in c:\\users\\admin\\anaconda3\\lib\\site-packages (from visions[type_image_path]==0.7.4->pandas-profiling) (22.1.0)\n",
      "Requirement already satisfied: networkx>=2.4 in c:\\users\\admin\\anaconda3\\lib\\site-packages (from visions[type_image_path]==0.7.4->pandas-profiling) (3.1)\n",
      "Requirement already satisfied: imagehash in c:\\users\\admin\\anaconda3\\lib\\site-packages (from visions[type_image_path]==0.7.4->pandas-profiling) (4.3.1)\n",
      "Requirement already satisfied: Pillow in c:\\users\\admin\\anaconda3\\lib\\site-packages (from visions[type_image_path]==0.7.4->pandas-profiling) (9.4.0)\n",
      "Requirement already satisfied: contourpy>=1.0.1 in c:\\users\\admin\\anaconda3\\lib\\site-packages (from matplotlib>=3.2.0->pandas-profiling) (1.0.5)\n",
      "Requirement already satisfied: cycler>=0.10 in c:\\users\\admin\\anaconda3\\lib\\site-packages (from matplotlib>=3.2.0->pandas-profiling) (0.11.0)\n",
      "Requirement already satisfied: fonttools>=4.22.0 in c:\\users\\admin\\anaconda3\\lib\\site-packages (from matplotlib>=3.2.0->pandas-profiling) (4.25.0)\n",
      "Requirement already satisfied: kiwisolver>=1.0.1 in c:\\users\\admin\\anaconda3\\lib\\site-packages (from matplotlib>=3.2.0->pandas-profiling) (1.4.4)\n",
      "Requirement already satisfied: packaging>=20.0 in c:\\users\\admin\\anaconda3\\lib\\site-packages (from matplotlib>=3.2.0->pandas-profiling) (23.0)\n",
      "Requirement already satisfied: pyparsing>=2.3.1 in c:\\users\\admin\\anaconda3\\lib\\site-packages (from matplotlib>=3.2.0->pandas-profiling) (3.0.9)\n",
      "Requirement already satisfied: annotated-types>=0.4.0 in c:\\users\\admin\\anaconda3\\lib\\site-packages (from pydantic>=1.8.1->pandas-profiling) (0.5.0)\n",
      "Requirement already satisfied: pydantic-core==2.6.1 in c:\\users\\admin\\anaconda3\\lib\\site-packages (from pydantic>=1.8.1->pandas-profiling) (2.6.1)\n",
      "Requirement already satisfied: typing-extensions>=4.6.1 in c:\\users\\admin\\anaconda3\\lib\\site-packages (from pydantic>=1.8.1->pandas-profiling) (4.7.1)\n",
      "Requirement already satisfied: six>=1.5 in c:\\users\\admin\\anaconda3\\lib\\site-packages (from python-dateutil>=2.8.1->pandas) (1.16.0)\n",
      "Requirement already satisfied: charset-normalizer<4,>=2 in c:\\users\\admin\\anaconda3\\lib\\site-packages (from requests>=2.24.0->pandas-profiling) (2.0.4)\n",
      "Requirement already satisfied: idna<4,>=2.5 in c:\\users\\admin\\anaconda3\\lib\\site-packages (from requests>=2.24.0->pandas-profiling) (3.4)\n",
      "Requirement already satisfied: urllib3<3,>=1.21.1 in c:\\users\\admin\\anaconda3\\lib\\site-packages (from requests>=2.24.0->pandas-profiling) (1.26.16)\n",
      "Requirement already satisfied: certifi>=2017.4.17 in c:\\users\\admin\\anaconda3\\lib\\site-packages (from requests>=2.24.0->pandas-profiling) (2023.7.22)\n",
      "Requirement already satisfied: colorama in c:\\users\\admin\\anaconda3\\lib\\site-packages (from tqdm>=4.48.2->pandas-profiling) (0.4.6)\n",
      "Requirement already satisfied: PyWavelets in c:\\users\\admin\\anaconda3\\lib\\site-packages (from imagehash->visions[type_image_path]==0.7.4->pandas-profiling) (1.4.1)\n",
      "Note: you may need to restart the kernel to use updated packages.\n"
     ]
    }
   ],
   "source": [
    "pip install pandas pandas-profiling"
   ]
  },
  {
   "cell_type": "code",
   "execution_count": 121,
   "id": "1633a7af",
   "metadata": {},
   "outputs": [
    {
     "ename": "PydanticImportError",
     "evalue": "`BaseSettings` has been moved to the `pydantic-settings` package. See https://docs.pydantic.dev/2.2/migration/#basesettings-has-moved-to-pydantic-settings for more details.\n\nFor further information visit https://errors.pydantic.dev/2.2/u/import-error",
     "output_type": "error",
     "traceback": [
      "\u001b[1;31m---------------------------------------------------------------------------\u001b[0m",
      "\u001b[1;31mPydanticImportError\u001b[0m                       Traceback (most recent call last)",
      "Cell \u001b[1;32mIn[121], line 1\u001b[0m\n\u001b[1;32m----> 1\u001b[0m \u001b[38;5;28;01mimport\u001b[39;00m \u001b[38;5;21;01mpandas_profiling\u001b[39;00m\n",
      "File \u001b[1;32m~\\anaconda3\\Lib\\site-packages\\pandas_profiling\\__init__.py:6\u001b[0m\n\u001b[0;32m      1\u001b[0m \u001b[38;5;124;03m\"\"\"Main module of pandas-profiling.\u001b[39;00m\n\u001b[0;32m      2\u001b[0m \n\u001b[0;32m      3\u001b[0m \u001b[38;5;124;03m.. include:: ../../README.md\u001b[39;00m\n\u001b[0;32m      4\u001b[0m \u001b[38;5;124;03m\"\"\"\u001b[39;00m\n\u001b[1;32m----> 6\u001b[0m \u001b[38;5;28;01mfrom\u001b[39;00m \u001b[38;5;21;01mpandas_profiling\u001b[39;00m\u001b[38;5;21;01m.\u001b[39;00m\u001b[38;5;21;01mcontroller\u001b[39;00m \u001b[38;5;28;01mimport\u001b[39;00m pandas_decorator\n\u001b[0;32m      7\u001b[0m \u001b[38;5;28;01mfrom\u001b[39;00m \u001b[38;5;21;01mpandas_profiling\u001b[39;00m\u001b[38;5;21;01m.\u001b[39;00m\u001b[38;5;21;01mprofile_report\u001b[39;00m \u001b[38;5;28;01mimport\u001b[39;00m ProfileReport\n\u001b[0;32m      8\u001b[0m \u001b[38;5;28;01mfrom\u001b[39;00m \u001b[38;5;21;01mpandas_profiling\u001b[39;00m\u001b[38;5;21;01m.\u001b[39;00m\u001b[38;5;21;01mversion\u001b[39;00m \u001b[38;5;28;01mimport\u001b[39;00m __version__\n",
      "File \u001b[1;32m~\\anaconda3\\Lib\\site-packages\\pandas_profiling\\controller\\pandas_decorator.py:4\u001b[0m\n\u001b[0;32m      1\u001b[0m \u001b[38;5;124;03m\"\"\"This file add the decorator on the DataFrame object.\"\"\"\u001b[39;00m\n\u001b[0;32m      2\u001b[0m \u001b[38;5;28;01mfrom\u001b[39;00m \u001b[38;5;21;01mpandas\u001b[39;00m \u001b[38;5;28;01mimport\u001b[39;00m DataFrame\n\u001b[1;32m----> 4\u001b[0m \u001b[38;5;28;01mfrom\u001b[39;00m \u001b[38;5;21;01mpandas_profiling\u001b[39;00m\u001b[38;5;21;01m.\u001b[39;00m\u001b[38;5;21;01mprofile_report\u001b[39;00m \u001b[38;5;28;01mimport\u001b[39;00m ProfileReport\n\u001b[0;32m      7\u001b[0m \u001b[38;5;28;01mdef\u001b[39;00m \u001b[38;5;21mprofile_report\u001b[39m(df: DataFrame, \u001b[38;5;241m*\u001b[39m\u001b[38;5;241m*\u001b[39mkwargs) \u001b[38;5;241m-\u001b[39m\u001b[38;5;241m>\u001b[39m ProfileReport:\n\u001b[0;32m      8\u001b[0m \u001b[38;5;250m    \u001b[39m\u001b[38;5;124;03m\"\"\"Profile a DataFrame.\u001b[39;00m\n\u001b[0;32m      9\u001b[0m \n\u001b[0;32m     10\u001b[0m \u001b[38;5;124;03m    Args:\u001b[39;00m\n\u001b[1;32m   (...)\u001b[0m\n\u001b[0;32m     15\u001b[0m \u001b[38;5;124;03m        A ProfileReport of the DataFrame.\u001b[39;00m\n\u001b[0;32m     16\u001b[0m \u001b[38;5;124;03m    \"\"\"\u001b[39;00m\n",
      "File \u001b[1;32m~\\anaconda3\\Lib\\site-packages\\pandas_profiling\\profile_report.py:13\u001b[0m\n\u001b[0;32m     10\u001b[0m \u001b[38;5;28;01mfrom\u001b[39;00m \u001b[38;5;21;01mtqdm\u001b[39;00m\u001b[38;5;21;01m.\u001b[39;00m\u001b[38;5;21;01mauto\u001b[39;00m \u001b[38;5;28;01mimport\u001b[39;00m tqdm\n\u001b[0;32m     11\u001b[0m \u001b[38;5;28;01mfrom\u001b[39;00m \u001b[38;5;21;01mvisions\u001b[39;00m \u001b[38;5;28;01mimport\u001b[39;00m VisionsTypeset\n\u001b[1;32m---> 13\u001b[0m \u001b[38;5;28;01mfrom\u001b[39;00m \u001b[38;5;21;01mpandas_profiling\u001b[39;00m\u001b[38;5;21;01m.\u001b[39;00m\u001b[38;5;21;01mconfig\u001b[39;00m \u001b[38;5;28;01mimport\u001b[39;00m Config, Settings\n\u001b[0;32m     14\u001b[0m \u001b[38;5;28;01mfrom\u001b[39;00m \u001b[38;5;21;01mpandas_profiling\u001b[39;00m\u001b[38;5;21;01m.\u001b[39;00m\u001b[38;5;21;01mexpectations_report\u001b[39;00m \u001b[38;5;28;01mimport\u001b[39;00m ExpectationsReport\n\u001b[0;32m     15\u001b[0m \u001b[38;5;28;01mfrom\u001b[39;00m \u001b[38;5;21;01mpandas_profiling\u001b[39;00m\u001b[38;5;21;01m.\u001b[39;00m\u001b[38;5;21;01mmodel\u001b[39;00m\u001b[38;5;21;01m.\u001b[39;00m\u001b[38;5;21;01malerts\u001b[39;00m \u001b[38;5;28;01mimport\u001b[39;00m AlertType\n",
      "File \u001b[1;32m~\\anaconda3\\Lib\\site-packages\\pandas_profiling\\config.py:5\u001b[0m\n\u001b[0;32m      2\u001b[0m \u001b[38;5;28;01mfrom\u001b[39;00m \u001b[38;5;21;01menum\u001b[39;00m \u001b[38;5;28;01mimport\u001b[39;00m Enum\n\u001b[0;32m      3\u001b[0m \u001b[38;5;28;01mfrom\u001b[39;00m \u001b[38;5;21;01mtyping\u001b[39;00m \u001b[38;5;28;01mimport\u001b[39;00m Any, Dict, List, Optional\n\u001b[1;32m----> 5\u001b[0m \u001b[38;5;28;01mfrom\u001b[39;00m \u001b[38;5;21;01mpydantic\u001b[39;00m \u001b[38;5;28;01mimport\u001b[39;00m BaseModel, BaseSettings, Field\n\u001b[0;32m      8\u001b[0m \u001b[38;5;28;01mdef\u001b[39;00m \u001b[38;5;21m_merge_dictionaries\u001b[39m(dict1: \u001b[38;5;28mdict\u001b[39m, dict2: \u001b[38;5;28mdict\u001b[39m) \u001b[38;5;241m-\u001b[39m\u001b[38;5;241m>\u001b[39m \u001b[38;5;28mdict\u001b[39m:\n\u001b[0;32m      9\u001b[0m \u001b[38;5;250m    \u001b[39m\u001b[38;5;124;03m\"\"\"\u001b[39;00m\n\u001b[0;32m     10\u001b[0m \u001b[38;5;124;03m    Recursive merge dictionaries.\u001b[39;00m\n\u001b[0;32m     11\u001b[0m \n\u001b[1;32m   (...)\u001b[0m\n\u001b[0;32m     14\u001b[0m \u001b[38;5;124;03m    :return: Merged dictionary\u001b[39;00m\n\u001b[0;32m     15\u001b[0m \u001b[38;5;124;03m    \"\"\"\u001b[39;00m\n",
      "File \u001b[1;32m~\\anaconda3\\Lib\\site-packages\\pydantic\\__init__.py:210\u001b[0m, in \u001b[0;36m__getattr__\u001b[1;34m(attr_name)\u001b[0m\n\u001b[0;32m    208\u001b[0m dynamic_attr \u001b[38;5;241m=\u001b[39m _dynamic_imports\u001b[38;5;241m.\u001b[39mget(attr_name)\n\u001b[0;32m    209\u001b[0m \u001b[38;5;28;01mif\u001b[39;00m dynamic_attr \u001b[38;5;129;01mis\u001b[39;00m \u001b[38;5;28;01mNone\u001b[39;00m:\n\u001b[1;32m--> 210\u001b[0m     \u001b[38;5;28;01mreturn\u001b[39;00m _getattr_migration(attr_name)\n\u001b[0;32m    212\u001b[0m \u001b[38;5;28;01mfrom\u001b[39;00m \u001b[38;5;21;01mimportlib\u001b[39;00m \u001b[38;5;28;01mimport\u001b[39;00m import_module\n\u001b[0;32m    214\u001b[0m module \u001b[38;5;241m=\u001b[39m import_module(_dynamic_imports[attr_name], package\u001b[38;5;241m=\u001b[39m__package__)\n",
      "File \u001b[1;32m~\\anaconda3\\Lib\\site-packages\\pydantic\\_migration.py:289\u001b[0m, in \u001b[0;36mgetattr_migration.<locals>.wrapper\u001b[1;34m(name)\u001b[0m\n\u001b[0;32m    287\u001b[0m     \u001b[38;5;28;01mreturn\u001b[39;00m import_string(REDIRECT_TO_V1[import_path])\n\u001b[0;32m    288\u001b[0m \u001b[38;5;28;01mif\u001b[39;00m import_path \u001b[38;5;241m==\u001b[39m \u001b[38;5;124m'\u001b[39m\u001b[38;5;124mpydantic:BaseSettings\u001b[39m\u001b[38;5;124m'\u001b[39m:\n\u001b[1;32m--> 289\u001b[0m     \u001b[38;5;28;01mraise\u001b[39;00m PydanticImportError(\n\u001b[0;32m    290\u001b[0m         \u001b[38;5;124m'\u001b[39m\u001b[38;5;124m`BaseSettings` has been moved to the `pydantic-settings` package. \u001b[39m\u001b[38;5;124m'\u001b[39m\n\u001b[0;32m    291\u001b[0m         \u001b[38;5;124mf\u001b[39m\u001b[38;5;124m'\u001b[39m\u001b[38;5;124mSee https://docs.pydantic.dev/\u001b[39m\u001b[38;5;132;01m{\u001b[39;00mversion_short()\u001b[38;5;132;01m}\u001b[39;00m\u001b[38;5;124m/migration/#basesettings-has-moved-to-pydantic-settings \u001b[39m\u001b[38;5;124m'\u001b[39m\n\u001b[0;32m    292\u001b[0m         \u001b[38;5;124m'\u001b[39m\u001b[38;5;124mfor more details.\u001b[39m\u001b[38;5;124m'\u001b[39m\n\u001b[0;32m    293\u001b[0m     )\n\u001b[0;32m    294\u001b[0m \u001b[38;5;28;01mif\u001b[39;00m import_path \u001b[38;5;129;01min\u001b[39;00m REMOVED_IN_V2:\n\u001b[0;32m    295\u001b[0m     \u001b[38;5;28;01mraise\u001b[39;00m PydanticImportError(\u001b[38;5;124mf\u001b[39m\u001b[38;5;124m'\u001b[39m\u001b[38;5;124m`\u001b[39m\u001b[38;5;132;01m{\u001b[39;00mimport_path\u001b[38;5;132;01m}\u001b[39;00m\u001b[38;5;124m` has been removed in V2.\u001b[39m\u001b[38;5;124m'\u001b[39m)\n",
      "\u001b[1;31mPydanticImportError\u001b[0m: `BaseSettings` has been moved to the `pydantic-settings` package. See https://docs.pydantic.dev/2.2/migration/#basesettings-has-moved-to-pydantic-settings for more details.\n\nFor further information visit https://errors.pydantic.dev/2.2/u/import-error"
     ]
    }
   ],
   "source": [
    "import pandas_profiling\n",
    "profile = data3.profile_report()"
   ]
  },
  {
   "cell_type": "code",
   "execution_count": null,
   "id": "5fa6609a",
   "metadata": {},
   "outputs": [],
   "source": []
  }
 ],
 "metadata": {
  "kernelspec": {
   "display_name": "Python 3 (ipykernel)",
   "language": "python",
   "name": "python3"
  },
  "language_info": {
   "codemirror_mode": {
    "name": "ipython",
    "version": 3
   },
   "file_extension": ".py",
   "mimetype": "text/x-python",
   "name": "python",
   "nbconvert_exporter": "python",
   "pygments_lexer": "ipython3",
   "version": "3.11.4"
  }
 },
 "nbformat": 4,
 "nbformat_minor": 5
}
